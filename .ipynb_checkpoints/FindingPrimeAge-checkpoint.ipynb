{
 "cells": [
  {
   "cell_type": "code",
   "execution_count": 1,
   "metadata": {},
   "outputs": [],
   "source": [
    "import matplotlib.pyplot as plt\n",
    "import pandas as pd\n",
    "from scipy.spatial import distance\n",
    "from sklearn import preprocessing as pre"
   ]
  },
  {
   "cell_type": "markdown",
   "metadata": {},
   "source": [
    "<h2> Here we are getting the data organized based on a specified starting year </h2>\n"
   ]
  },
  {
   "cell_type": "code",
   "execution_count": null,
   "metadata": {},
   "outputs": [],
   "source": [
    "#THIS IS THE YEAR WE WANT TO START AND FINISH CALCULATING THE AVERAGE FROM\n",
    "#min year is 1980 because the stats are pretty sketchy prior\n",
    "\n",
    "start_year = 1980\n",
    "end_year = 1990"
   ]
  },
  {
   "cell_type": "code",
   "execution_count": null,
   "metadata": {},
   "outputs": [],
   "source": [
    "all_players_df = pd.read_csv(\"nba_player_stats/player_stats_\"+str(start_year)+\".csv\")\n",
    "all_players_df = all_players_df.drop_duplicates('NAME', keep='first')\n",
    "all_players_df['YEAR']= start_year\n",
    "\n",
    "for year in range(start_year+1, end_year+1):\n",
    "    \n",
    "    #store current year in df\n",
    "    current_year_players_df = pd.read_csv(\"csv_files/player_stats_\"+str(year)+\".csv\")\n",
    "\n",
    "    #since some players were traded during each season their stats are split first showing TOT (total season)\n",
    "    #and the following rows showing their stats specific for their teams\n",
    "    #since the total is always first we can drop all duplicates following the first instance (ASSUMING NO PLAYERS HAVE THE SAME NAME)\n",
    "    current_year_players_df = current_year_players_df.drop_duplicates('NAME', keep='first')\n",
    "    current_year_players_df['YEAR'] = year\n",
    "    #appending the current year to all previous years \n",
    "    all_players_df = all_players_df.append(current_year_players_df, ignore_index=True)\n",
    "    \n",
    "    \n",
    "\n",
    "all_players_df\n",
    "    "
   ]
  }
 ],
 "metadata": {
  "kernelspec": {
   "display_name": "Python 3",
   "language": "python",
   "name": "python3"
  },
  "language_info": {
   "codemirror_mode": {
    "name": "ipython",
    "version": 3
   },
   "file_extension": ".py",
   "mimetype": "text/x-python",
   "name": "python",
   "nbconvert_exporter": "python",
   "pygments_lexer": "ipython3",
   "version": "3.7.4"
  }
 },
 "nbformat": 4,
 "nbformat_minor": 2
}
