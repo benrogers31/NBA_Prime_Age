{
 "cells": [
  {
   "cell_type": "code",
   "execution_count": 8,
   "metadata": {},
   "outputs": [],
   "source": [
    "import matplotlib.pyplot as plt\n",
    "import pandas as pd\n",
    "from scipy.spatial import distance\n",
    "from sklearn import preprocessing as pre\n",
    "import plotly.express as px"
   ]
  },
  {
   "cell_type": "markdown",
   "metadata": {},
   "source": [
    "<h2> Here we are getting the data organized based on a specified starting year </h2>\n"
   ]
  },
  {
   "cell_type": "code",
   "execution_count": 48,
   "metadata": {},
   "outputs": [],
   "source": [
    "#THIS IS THE YEAR WE WANT TO START AND FINISH CALCULATING THE AVERAGE FROM\n",
    "#min year is 1980 because the stats are pretty sketchy prior\n",
    "\n",
    "start_year = 2010\n",
    "end_year = 2020"
   ]
  },
  {
   "cell_type": "code",
   "execution_count": 49,
   "metadata": {},
   "outputs": [
    {
     "data": {
      "text/html": [
       "<div>\n",
       "<style scoped>\n",
       "    .dataframe tbody tr th:only-of-type {\n",
       "        vertical-align: middle;\n",
       "    }\n",
       "\n",
       "    .dataframe tbody tr th {\n",
       "        vertical-align: top;\n",
       "    }\n",
       "\n",
       "    .dataframe thead th {\n",
       "        text-align: right;\n",
       "    }\n",
       "</style>\n",
       "<table border=\"1\" class=\"dataframe\">\n",
       "  <thead>\n",
       "    <tr style=\"text-align: right;\">\n",
       "      <th></th>\n",
       "      <th>NAME</th>\n",
       "      <th>TEAM</th>\n",
       "      <th>POS</th>\n",
       "      <th>AGE</th>\n",
       "      <th>G</th>\n",
       "      <th>GS</th>\n",
       "      <th>MP</th>\n",
       "      <th>FG</th>\n",
       "      <th>FGA</th>\n",
       "      <th>FG%</th>\n",
       "      <th>...</th>\n",
       "      <th>ORB</th>\n",
       "      <th>DRB</th>\n",
       "      <th>TRB</th>\n",
       "      <th>AST</th>\n",
       "      <th>STL</th>\n",
       "      <th>BLK</th>\n",
       "      <th>TOV</th>\n",
       "      <th>PF</th>\n",
       "      <th>PTS</th>\n",
       "      <th>YEAR</th>\n",
       "    </tr>\n",
       "  </thead>\n",
       "  <tbody>\n",
       "    <tr>\n",
       "      <td>0</td>\n",
       "      <td>Arron Afflalo</td>\n",
       "      <td>DEN</td>\n",
       "      <td>SG</td>\n",
       "      <td>24</td>\n",
       "      <td>82</td>\n",
       "      <td>75</td>\n",
       "      <td>27.1</td>\n",
       "      <td>3.3</td>\n",
       "      <td>7.1</td>\n",
       "      <td>.465</td>\n",
       "      <td>...</td>\n",
       "      <td>0.7</td>\n",
       "      <td>2.4</td>\n",
       "      <td>3.1</td>\n",
       "      <td>1.7</td>\n",
       "      <td>0.6</td>\n",
       "      <td>0.4</td>\n",
       "      <td>0.9</td>\n",
       "      <td>2.7</td>\n",
       "      <td>8.8</td>\n",
       "      <td>2010</td>\n",
       "    </tr>\n",
       "    <tr>\n",
       "      <td>1</td>\n",
       "      <td>Alexis Ajinça</td>\n",
       "      <td>CHA</td>\n",
       "      <td>C</td>\n",
       "      <td>21</td>\n",
       "      <td>6</td>\n",
       "      <td>0</td>\n",
       "      <td>5.0</td>\n",
       "      <td>0.8</td>\n",
       "      <td>1.7</td>\n",
       "      <td>.500</td>\n",
       "      <td>...</td>\n",
       "      <td>0.2</td>\n",
       "      <td>0.5</td>\n",
       "      <td>0.7</td>\n",
       "      <td>0.0</td>\n",
       "      <td>0.2</td>\n",
       "      <td>0.2</td>\n",
       "      <td>0.3</td>\n",
       "      <td>0.8</td>\n",
       "      <td>1.7</td>\n",
       "      <td>2010</td>\n",
       "    </tr>\n",
       "    <tr>\n",
       "      <td>2</td>\n",
       "      <td>LaMarcus Aldridge</td>\n",
       "      <td>POR</td>\n",
       "      <td>PF</td>\n",
       "      <td>24</td>\n",
       "      <td>78</td>\n",
       "      <td>78</td>\n",
       "      <td>37.5</td>\n",
       "      <td>7.4</td>\n",
       "      <td>15.0</td>\n",
       "      <td>.495</td>\n",
       "      <td>...</td>\n",
       "      <td>2.5</td>\n",
       "      <td>5.6</td>\n",
       "      <td>8.0</td>\n",
       "      <td>2.1</td>\n",
       "      <td>0.9</td>\n",
       "      <td>0.6</td>\n",
       "      <td>1.3</td>\n",
       "      <td>3.0</td>\n",
       "      <td>17.9</td>\n",
       "      <td>2010</td>\n",
       "    </tr>\n",
       "    <tr>\n",
       "      <td>3</td>\n",
       "      <td>Joe Alexander</td>\n",
       "      <td>CHI</td>\n",
       "      <td>SF</td>\n",
       "      <td>23</td>\n",
       "      <td>8</td>\n",
       "      <td>0</td>\n",
       "      <td>3.6</td>\n",
       "      <td>0.1</td>\n",
       "      <td>0.8</td>\n",
       "      <td>.167</td>\n",
       "      <td>...</td>\n",
       "      <td>0.3</td>\n",
       "      <td>0.4</td>\n",
       "      <td>0.6</td>\n",
       "      <td>0.3</td>\n",
       "      <td>0.1</td>\n",
       "      <td>0.1</td>\n",
       "      <td>0.0</td>\n",
       "      <td>1.1</td>\n",
       "      <td>0.5</td>\n",
       "      <td>2010</td>\n",
       "    </tr>\n",
       "    <tr>\n",
       "      <td>4</td>\n",
       "      <td>Malik Allen</td>\n",
       "      <td>DEN</td>\n",
       "      <td>PF</td>\n",
       "      <td>31</td>\n",
       "      <td>51</td>\n",
       "      <td>3</td>\n",
       "      <td>8.9</td>\n",
       "      <td>0.9</td>\n",
       "      <td>2.3</td>\n",
       "      <td>.397</td>\n",
       "      <td>...</td>\n",
       "      <td>0.7</td>\n",
       "      <td>0.9</td>\n",
       "      <td>1.6</td>\n",
       "      <td>0.3</td>\n",
       "      <td>0.2</td>\n",
       "      <td>0.1</td>\n",
       "      <td>0.4</td>\n",
       "      <td>1.3</td>\n",
       "      <td>2.1</td>\n",
       "      <td>2010</td>\n",
       "    </tr>\n",
       "    <tr>\n",
       "      <td>...</td>\n",
       "      <td>...</td>\n",
       "      <td>...</td>\n",
       "      <td>...</td>\n",
       "      <td>...</td>\n",
       "      <td>...</td>\n",
       "      <td>...</td>\n",
       "      <td>...</td>\n",
       "      <td>...</td>\n",
       "      <td>...</td>\n",
       "      <td>...</td>\n",
       "      <td>...</td>\n",
       "      <td>...</td>\n",
       "      <td>...</td>\n",
       "      <td>...</td>\n",
       "      <td>...</td>\n",
       "      <td>...</td>\n",
       "      <td>...</td>\n",
       "      <td>...</td>\n",
       "      <td>...</td>\n",
       "      <td>...</td>\n",
       "      <td>...</td>\n",
       "    </tr>\n",
       "    <tr>\n",
       "      <td>5354</td>\n",
       "      <td>Thaddeus Young</td>\n",
       "      <td>CHI</td>\n",
       "      <td>PF</td>\n",
       "      <td>31</td>\n",
       "      <td>64</td>\n",
       "      <td>16</td>\n",
       "      <td>24.9</td>\n",
       "      <td>4.2</td>\n",
       "      <td>9.4</td>\n",
       "      <td>.448</td>\n",
       "      <td>...</td>\n",
       "      <td>1.5</td>\n",
       "      <td>3.5</td>\n",
       "      <td>4.9</td>\n",
       "      <td>1.8</td>\n",
       "      <td>1.4</td>\n",
       "      <td>0.4</td>\n",
       "      <td>1.6</td>\n",
       "      <td>2.1</td>\n",
       "      <td>10.3</td>\n",
       "      <td>2020</td>\n",
       "    </tr>\n",
       "    <tr>\n",
       "      <td>5355</td>\n",
       "      <td>Trae Young</td>\n",
       "      <td>ATL</td>\n",
       "      <td>PG</td>\n",
       "      <td>21</td>\n",
       "      <td>60</td>\n",
       "      <td>60</td>\n",
       "      <td>35.3</td>\n",
       "      <td>9.1</td>\n",
       "      <td>20.8</td>\n",
       "      <td>.437</td>\n",
       "      <td>...</td>\n",
       "      <td>0.5</td>\n",
       "      <td>3.7</td>\n",
       "      <td>4.3</td>\n",
       "      <td>9.3</td>\n",
       "      <td>1.1</td>\n",
       "      <td>0.1</td>\n",
       "      <td>4.8</td>\n",
       "      <td>1.7</td>\n",
       "      <td>29.6</td>\n",
       "      <td>2020</td>\n",
       "    </tr>\n",
       "    <tr>\n",
       "      <td>5356</td>\n",
       "      <td>Cody Zeller</td>\n",
       "      <td>CHO</td>\n",
       "      <td>C</td>\n",
       "      <td>27</td>\n",
       "      <td>58</td>\n",
       "      <td>39</td>\n",
       "      <td>23.1</td>\n",
       "      <td>4.3</td>\n",
       "      <td>8.3</td>\n",
       "      <td>.524</td>\n",
       "      <td>...</td>\n",
       "      <td>2.8</td>\n",
       "      <td>4.3</td>\n",
       "      <td>7.1</td>\n",
       "      <td>1.5</td>\n",
       "      <td>0.7</td>\n",
       "      <td>0.4</td>\n",
       "      <td>1.3</td>\n",
       "      <td>2.4</td>\n",
       "      <td>11.1</td>\n",
       "      <td>2020</td>\n",
       "    </tr>\n",
       "    <tr>\n",
       "      <td>5357</td>\n",
       "      <td>Ante Žižić</td>\n",
       "      <td>CLE</td>\n",
       "      <td>C</td>\n",
       "      <td>23</td>\n",
       "      <td>22</td>\n",
       "      <td>0</td>\n",
       "      <td>10.0</td>\n",
       "      <td>1.9</td>\n",
       "      <td>3.3</td>\n",
       "      <td>.569</td>\n",
       "      <td>...</td>\n",
       "      <td>0.8</td>\n",
       "      <td>2.2</td>\n",
       "      <td>3.0</td>\n",
       "      <td>0.3</td>\n",
       "      <td>0.3</td>\n",
       "      <td>0.2</td>\n",
       "      <td>0.5</td>\n",
       "      <td>1.2</td>\n",
       "      <td>4.4</td>\n",
       "      <td>2020</td>\n",
       "    </tr>\n",
       "    <tr>\n",
       "      <td>5358</td>\n",
       "      <td>Ivica Zubac</td>\n",
       "      <td>LAC</td>\n",
       "      <td>C</td>\n",
       "      <td>22</td>\n",
       "      <td>64</td>\n",
       "      <td>62</td>\n",
       "      <td>18.1</td>\n",
       "      <td>3.2</td>\n",
       "      <td>5.3</td>\n",
       "      <td>.601</td>\n",
       "      <td>...</td>\n",
       "      <td>2.6</td>\n",
       "      <td>4.6</td>\n",
       "      <td>7.2</td>\n",
       "      <td>1.1</td>\n",
       "      <td>0.2</td>\n",
       "      <td>0.9</td>\n",
       "      <td>0.8</td>\n",
       "      <td>2.3</td>\n",
       "      <td>8.0</td>\n",
       "      <td>2020</td>\n",
       "    </tr>\n",
       "  </tbody>\n",
       "</table>\n",
       "<p>5359 rows × 30 columns</p>\n",
       "</div>"
      ],
      "text/plain": [
       "                   NAME  TEAM  POS  AGE   G  GS    MP   FG   FGA    FG%  ...  \\\n",
       "0         Arron Afflalo   DEN   SG   24  82  75  27.1  3.3   7.1   .465  ...   \n",
       "1         Alexis Ajinça   CHA    C   21   6   0   5.0  0.8   1.7   .500  ...   \n",
       "2     LaMarcus Aldridge   POR   PF   24  78  78  37.5  7.4  15.0   .495  ...   \n",
       "3         Joe Alexander   CHI   SF   23   8   0   3.6  0.1   0.8   .167  ...   \n",
       "4           Malik Allen   DEN   PF   31  51   3   8.9  0.9   2.3   .397  ...   \n",
       "...                 ...   ...  ...  ...  ..  ..   ...  ...   ...    ...  ...   \n",
       "5354     Thaddeus Young   CHI   PF   31  64  16  24.9  4.2   9.4   .448  ...   \n",
       "5355         Trae Young   ATL   PG   21  60  60  35.3  9.1  20.8   .437  ...   \n",
       "5356        Cody Zeller   CHO    C   27  58  39  23.1  4.3   8.3   .524  ...   \n",
       "5357         Ante Žižić   CLE    C   23  22   0  10.0  1.9   3.3   .569  ...   \n",
       "5358        Ivica Zubac   LAC    C   22  64  62  18.1  3.2   5.3   .601  ...   \n",
       "\n",
       "      ORB  DRB  TRB  AST  STL  BLK  TOV   PF   PTS  YEAR  \n",
       "0     0.7  2.4  3.1  1.7  0.6  0.4  0.9  2.7   8.8  2010  \n",
       "1     0.2  0.5  0.7  0.0  0.2  0.2  0.3  0.8   1.7  2010  \n",
       "2     2.5  5.6  8.0  2.1  0.9  0.6  1.3  3.0  17.9  2010  \n",
       "3     0.3  0.4  0.6  0.3  0.1  0.1  0.0  1.1   0.5  2010  \n",
       "4     0.7  0.9  1.6  0.3  0.2  0.1  0.4  1.3   2.1  2010  \n",
       "...   ...  ...  ...  ...  ...  ...  ...  ...   ...   ...  \n",
       "5354  1.5  3.5  4.9  1.8  1.4  0.4  1.6  2.1  10.3  2020  \n",
       "5355  0.5  3.7  4.3  9.3  1.1  0.1  4.8  1.7  29.6  2020  \n",
       "5356  2.8  4.3  7.1  1.5  0.7  0.4  1.3  2.4  11.1  2020  \n",
       "5357  0.8  2.2  3.0  0.3  0.3  0.2  0.5  1.2   4.4  2020  \n",
       "5358  2.6  4.6  7.2  1.1  0.2  0.9  0.8  2.3   8.0  2020  \n",
       "\n",
       "[5359 rows x 30 columns]"
      ]
     },
     "execution_count": 49,
     "metadata": {},
     "output_type": "execute_result"
    }
   ],
   "source": [
    "all_players_df = pd.read_csv(\"csv_files/player_stats_\"+str(start_year)+\".csv\")\n",
    "all_players_df = all_players_df.drop_duplicates('NAME', keep='first')\n",
    "all_players_df['YEAR']= start_year\n",
    "\n",
    "for year in range(start_year+1, end_year+1):\n",
    "    \n",
    "    #store current year in df\n",
    "    current_year_players_df = pd.read_csv(\"csv_files/player_stats_\"+str(year)+\".csv\")\n",
    "\n",
    "    #since some players were traded during each season their stats are split first showing TOT (total season)\n",
    "    #and the following rows showing their stats specific for their teams\n",
    "    #since the total is always first we can drop all duplicates following the first instance (ASSUMING NO PLAYERS HAVE THE SAME NAME)\n",
    "    current_year_players_df = current_year_players_df.drop_duplicates('NAME', keep='first')\n",
    "    current_year_players_df['YEAR'] = year\n",
    "    #appending the current year to all previous years \n",
    "    all_players_df = all_players_df.append(current_year_players_df, ignore_index=True)\n",
    "    \n",
    "    \n",
    "\n",
    "all_players_df\n",
    "    "
   ]
  },
  {
   "cell_type": "code",
   "execution_count": 59,
   "metadata": {},
   "outputs": [],
   "source": [
    "# Adding helper method\n",
    "def make_per_36(df): \n",
    "    for index , player in df.iterrows():\n",
    "        if player['MP'] == 0:\n",
    "            continue\n",
    "        else:\n",
    "            multiplier = 36 / player['MP']\n",
    "\n",
    "        df.loc[index,['MP','FG','FGA','3P','3PA','2P','2PA','FT','FTA','ORB','DRB','TRB','AST','STL','BLK','TOV','PF','PTS']] *= multiplier\n",
    "       \n",
    "    \n",
    "        \n",
    "        if index % int(len(df)*0.25) == 0:\n",
    "            print(str(index) + \" players stats adjusted\")\n",
    "        \n",
    "    return df\n",
    "        "
   ]
  },
  {
   "cell_type": "code",
   "execution_count": 68,
   "metadata": {},
   "outputs": [
    {
     "name": "stdout",
     "output_type": "stream",
     "text": [
      "0 players stats adjusted\n",
      "849 players stats adjusted\n",
      "1698 players stats adjusted\n",
      "2547 players stats adjusted\n",
      "3396 players stats adjusted\n"
     ]
    },
    {
     "data": {
      "text/html": [
       "<div>\n",
       "<style scoped>\n",
       "    .dataframe tbody tr th:only-of-type {\n",
       "        vertical-align: middle;\n",
       "    }\n",
       "\n",
       "    .dataframe tbody tr th {\n",
       "        vertical-align: top;\n",
       "    }\n",
       "\n",
       "    .dataframe thead th {\n",
       "        text-align: right;\n",
       "    }\n",
       "</style>\n",
       "<table border=\"1\" class=\"dataframe\">\n",
       "  <thead>\n",
       "    <tr style=\"text-align: right;\">\n",
       "      <th></th>\n",
       "      <th>index</th>\n",
       "      <th>NAME</th>\n",
       "      <th>TEAM</th>\n",
       "      <th>POS</th>\n",
       "      <th>AGE</th>\n",
       "      <th>G</th>\n",
       "      <th>GS</th>\n",
       "      <th>MP</th>\n",
       "      <th>FG</th>\n",
       "      <th>FGA</th>\n",
       "      <th>...</th>\n",
       "      <th>ORB</th>\n",
       "      <th>DRB</th>\n",
       "      <th>TRB</th>\n",
       "      <th>AST</th>\n",
       "      <th>STL</th>\n",
       "      <th>BLK</th>\n",
       "      <th>TOV</th>\n",
       "      <th>PF</th>\n",
       "      <th>PTS</th>\n",
       "      <th>YEAR</th>\n",
       "    </tr>\n",
       "  </thead>\n",
       "  <tbody>\n",
       "    <tr>\n",
       "      <td>0</td>\n",
       "      <td>0</td>\n",
       "      <td>Arron Afflalo</td>\n",
       "      <td>DEN</td>\n",
       "      <td>SG</td>\n",
       "      <td>24</td>\n",
       "      <td>82</td>\n",
       "      <td>75</td>\n",
       "      <td>36.0</td>\n",
       "      <td>4.383764</td>\n",
       "      <td>9.431734</td>\n",
       "      <td>...</td>\n",
       "      <td>0.929889</td>\n",
       "      <td>3.188192</td>\n",
       "      <td>4.118081</td>\n",
       "      <td>2.258303</td>\n",
       "      <td>0.797048</td>\n",
       "      <td>0.531365</td>\n",
       "      <td>1.195572</td>\n",
       "      <td>3.586716</td>\n",
       "      <td>11.690037</td>\n",
       "      <td>2010</td>\n",
       "    </tr>\n",
       "    <tr>\n",
       "      <td>1</td>\n",
       "      <td>2</td>\n",
       "      <td>LaMarcus Aldridge</td>\n",
       "      <td>POR</td>\n",
       "      <td>PF</td>\n",
       "      <td>24</td>\n",
       "      <td>78</td>\n",
       "      <td>78</td>\n",
       "      <td>36.0</td>\n",
       "      <td>7.104000</td>\n",
       "      <td>14.400000</td>\n",
       "      <td>...</td>\n",
       "      <td>2.400000</td>\n",
       "      <td>5.376000</td>\n",
       "      <td>7.680000</td>\n",
       "      <td>2.016000</td>\n",
       "      <td>0.864000</td>\n",
       "      <td>0.576000</td>\n",
       "      <td>1.248000</td>\n",
       "      <td>2.880000</td>\n",
       "      <td>17.184000</td>\n",
       "      <td>2010</td>\n",
       "    </tr>\n",
       "    <tr>\n",
       "      <td>2</td>\n",
       "      <td>5</td>\n",
       "      <td>Ray Allen*</td>\n",
       "      <td>BOS</td>\n",
       "      <td>SG</td>\n",
       "      <td>34</td>\n",
       "      <td>80</td>\n",
       "      <td>80</td>\n",
       "      <td>36.0</td>\n",
       "      <td>5.931818</td>\n",
       "      <td>12.477273</td>\n",
       "      <td>...</td>\n",
       "      <td>0.613636</td>\n",
       "      <td>2.659091</td>\n",
       "      <td>3.272727</td>\n",
       "      <td>2.659091</td>\n",
       "      <td>0.818182</td>\n",
       "      <td>0.306818</td>\n",
       "      <td>1.636364</td>\n",
       "      <td>2.352273</td>\n",
       "      <td>16.670455</td>\n",
       "      <td>2010</td>\n",
       "    </tr>\n",
       "    <tr>\n",
       "      <td>3</td>\n",
       "      <td>6</td>\n",
       "      <td>Tony Allen</td>\n",
       "      <td>BOS</td>\n",
       "      <td>SG</td>\n",
       "      <td>28</td>\n",
       "      <td>54</td>\n",
       "      <td>8</td>\n",
       "      <td>36.0</td>\n",
       "      <td>5.236364</td>\n",
       "      <td>10.254545</td>\n",
       "      <td>...</td>\n",
       "      <td>2.181818</td>\n",
       "      <td>3.709091</td>\n",
       "      <td>5.890909</td>\n",
       "      <td>2.836364</td>\n",
       "      <td>2.400000</td>\n",
       "      <td>0.872727</td>\n",
       "      <td>2.618182</td>\n",
       "      <td>4.363636</td>\n",
       "      <td>13.309091</td>\n",
       "      <td>2010</td>\n",
       "    </tr>\n",
       "    <tr>\n",
       "      <td>4</td>\n",
       "      <td>7</td>\n",
       "      <td>Rafer Alston</td>\n",
       "      <td>TOT</td>\n",
       "      <td>PG</td>\n",
       "      <td>33</td>\n",
       "      <td>52</td>\n",
       "      <td>38</td>\n",
       "      <td>36.0</td>\n",
       "      <td>3.956044</td>\n",
       "      <td>11.340659</td>\n",
       "      <td>...</td>\n",
       "      <td>0.395604</td>\n",
       "      <td>2.901099</td>\n",
       "      <td>3.296703</td>\n",
       "      <td>4.483516</td>\n",
       "      <td>1.318681</td>\n",
       "      <td>0.263736</td>\n",
       "      <td>2.373626</td>\n",
       "      <td>2.637363</td>\n",
       "      <td>10.813187</td>\n",
       "      <td>2010</td>\n",
       "    </tr>\n",
       "    <tr>\n",
       "      <td>...</td>\n",
       "      <td>...</td>\n",
       "      <td>...</td>\n",
       "      <td>...</td>\n",
       "      <td>...</td>\n",
       "      <td>...</td>\n",
       "      <td>...</td>\n",
       "      <td>...</td>\n",
       "      <td>...</td>\n",
       "      <td>...</td>\n",
       "      <td>...</td>\n",
       "      <td>...</td>\n",
       "      <td>...</td>\n",
       "      <td>...</td>\n",
       "      <td>...</td>\n",
       "      <td>...</td>\n",
       "      <td>...</td>\n",
       "      <td>...</td>\n",
       "      <td>...</td>\n",
       "      <td>...</td>\n",
       "      <td>...</td>\n",
       "      <td>...</td>\n",
       "    </tr>\n",
       "    <tr>\n",
       "      <td>3393</td>\n",
       "      <td>5352</td>\n",
       "      <td>Delon Wright</td>\n",
       "      <td>DAL</td>\n",
       "      <td>SG</td>\n",
       "      <td>27</td>\n",
       "      <td>65</td>\n",
       "      <td>5</td>\n",
       "      <td>36.0</td>\n",
       "      <td>4.645161</td>\n",
       "      <td>9.788018</td>\n",
       "      <td>...</td>\n",
       "      <td>1.658986</td>\n",
       "      <td>4.976959</td>\n",
       "      <td>6.635945</td>\n",
       "      <td>5.640553</td>\n",
       "      <td>1.990783</td>\n",
       "      <td>0.497696</td>\n",
       "      <td>1.658986</td>\n",
       "      <td>2.156682</td>\n",
       "      <td>12.110599</td>\n",
       "      <td>2020</td>\n",
       "    </tr>\n",
       "    <tr>\n",
       "      <td>3394</td>\n",
       "      <td>5354</td>\n",
       "      <td>Thaddeus Young</td>\n",
       "      <td>CHI</td>\n",
       "      <td>PF</td>\n",
       "      <td>31</td>\n",
       "      <td>64</td>\n",
       "      <td>16</td>\n",
       "      <td>36.0</td>\n",
       "      <td>6.072289</td>\n",
       "      <td>13.590361</td>\n",
       "      <td>...</td>\n",
       "      <td>2.168675</td>\n",
       "      <td>5.060241</td>\n",
       "      <td>7.084337</td>\n",
       "      <td>2.602410</td>\n",
       "      <td>2.024096</td>\n",
       "      <td>0.578313</td>\n",
       "      <td>2.313253</td>\n",
       "      <td>3.036145</td>\n",
       "      <td>14.891566</td>\n",
       "      <td>2020</td>\n",
       "    </tr>\n",
       "    <tr>\n",
       "      <td>3395</td>\n",
       "      <td>5355</td>\n",
       "      <td>Trae Young</td>\n",
       "      <td>ATL</td>\n",
       "      <td>PG</td>\n",
       "      <td>21</td>\n",
       "      <td>60</td>\n",
       "      <td>60</td>\n",
       "      <td>36.0</td>\n",
       "      <td>9.280453</td>\n",
       "      <td>21.212465</td>\n",
       "      <td>...</td>\n",
       "      <td>0.509915</td>\n",
       "      <td>3.773371</td>\n",
       "      <td>4.385269</td>\n",
       "      <td>9.484419</td>\n",
       "      <td>1.121813</td>\n",
       "      <td>0.101983</td>\n",
       "      <td>4.895184</td>\n",
       "      <td>1.733711</td>\n",
       "      <td>30.186969</td>\n",
       "      <td>2020</td>\n",
       "    </tr>\n",
       "    <tr>\n",
       "      <td>3396</td>\n",
       "      <td>5356</td>\n",
       "      <td>Cody Zeller</td>\n",
       "      <td>CHO</td>\n",
       "      <td>C</td>\n",
       "      <td>27</td>\n",
       "      <td>58</td>\n",
       "      <td>39</td>\n",
       "      <td>36.0</td>\n",
       "      <td>6.701299</td>\n",
       "      <td>12.935065</td>\n",
       "      <td>...</td>\n",
       "      <td>4.363636</td>\n",
       "      <td>6.701299</td>\n",
       "      <td>11.064935</td>\n",
       "      <td>2.337662</td>\n",
       "      <td>1.090909</td>\n",
       "      <td>0.623377</td>\n",
       "      <td>2.025974</td>\n",
       "      <td>3.740260</td>\n",
       "      <td>17.298701</td>\n",
       "      <td>2020</td>\n",
       "    </tr>\n",
       "    <tr>\n",
       "      <td>3397</td>\n",
       "      <td>5358</td>\n",
       "      <td>Ivica Zubac</td>\n",
       "      <td>LAC</td>\n",
       "      <td>C</td>\n",
       "      <td>22</td>\n",
       "      <td>64</td>\n",
       "      <td>62</td>\n",
       "      <td>36.0</td>\n",
       "      <td>6.364641</td>\n",
       "      <td>10.541436</td>\n",
       "      <td>...</td>\n",
       "      <td>5.171271</td>\n",
       "      <td>9.149171</td>\n",
       "      <td>14.320442</td>\n",
       "      <td>2.187845</td>\n",
       "      <td>0.397790</td>\n",
       "      <td>1.790055</td>\n",
       "      <td>1.591160</td>\n",
       "      <td>4.574586</td>\n",
       "      <td>15.911602</td>\n",
       "      <td>2020</td>\n",
       "    </tr>\n",
       "  </tbody>\n",
       "</table>\n",
       "<p>3398 rows × 31 columns</p>\n",
       "</div>"
      ],
      "text/plain": [
       "      index               NAME  TEAM  POS  AGE   G  GS    MP        FG  \\\n",
       "0         0      Arron Afflalo   DEN   SG   24  82  75  36.0  4.383764   \n",
       "1         2  LaMarcus Aldridge   POR   PF   24  78  78  36.0  7.104000   \n",
       "2         5         Ray Allen*   BOS   SG   34  80  80  36.0  5.931818   \n",
       "3         6         Tony Allen   BOS   SG   28  54   8  36.0  5.236364   \n",
       "4         7       Rafer Alston   TOT   PG   33  52  38  36.0  3.956044   \n",
       "...     ...                ...   ...  ...  ...  ..  ..   ...       ...   \n",
       "3393   5352       Delon Wright   DAL   SG   27  65   5  36.0  4.645161   \n",
       "3394   5354     Thaddeus Young   CHI   PF   31  64  16  36.0  6.072289   \n",
       "3395   5355         Trae Young   ATL   PG   21  60  60  36.0  9.280453   \n",
       "3396   5356        Cody Zeller   CHO    C   27  58  39  36.0  6.701299   \n",
       "3397   5358        Ivica Zubac   LAC    C   22  64  62  36.0  6.364641   \n",
       "\n",
       "            FGA  ...       ORB       DRB        TRB       AST       STL  \\\n",
       "0      9.431734  ...  0.929889  3.188192   4.118081  2.258303  0.797048   \n",
       "1     14.400000  ...  2.400000  5.376000   7.680000  2.016000  0.864000   \n",
       "2     12.477273  ...  0.613636  2.659091   3.272727  2.659091  0.818182   \n",
       "3     10.254545  ...  2.181818  3.709091   5.890909  2.836364  2.400000   \n",
       "4     11.340659  ...  0.395604  2.901099   3.296703  4.483516  1.318681   \n",
       "...         ...  ...       ...       ...        ...       ...       ...   \n",
       "3393   9.788018  ...  1.658986  4.976959   6.635945  5.640553  1.990783   \n",
       "3394  13.590361  ...  2.168675  5.060241   7.084337  2.602410  2.024096   \n",
       "3395  21.212465  ...  0.509915  3.773371   4.385269  9.484419  1.121813   \n",
       "3396  12.935065  ...  4.363636  6.701299  11.064935  2.337662  1.090909   \n",
       "3397  10.541436  ...  5.171271  9.149171  14.320442  2.187845  0.397790   \n",
       "\n",
       "           BLK       TOV        PF        PTS  YEAR  \n",
       "0     0.531365  1.195572  3.586716  11.690037  2010  \n",
       "1     0.576000  1.248000  2.880000  17.184000  2010  \n",
       "2     0.306818  1.636364  2.352273  16.670455  2010  \n",
       "3     0.872727  2.618182  4.363636  13.309091  2010  \n",
       "4     0.263736  2.373626  2.637363  10.813187  2010  \n",
       "...        ...       ...       ...        ...   ...  \n",
       "3393  0.497696  1.658986  2.156682  12.110599  2020  \n",
       "3394  0.578313  2.313253  3.036145  14.891566  2020  \n",
       "3395  0.101983  4.895184  1.733711  30.186969  2020  \n",
       "3396  0.623377  2.025974  3.740260  17.298701  2020  \n",
       "3397  1.790055  1.591160  4.574586  15.911602  2020  \n",
       "\n",
       "[3398 rows x 31 columns]"
      ]
     },
     "execution_count": 68,
     "metadata": {},
     "output_type": "execute_result"
    }
   ],
   "source": [
    "#HERE WE WILL SET CRITERIA FOR OUR DATA BASE AND GET RID OF NANs\n",
    "\n",
    "#filling null values with 0\n",
    "all_players_df = all_players_df.fillna(0)\n",
    "\n",
    "######### UNCOMMENT IF YOU ONLY WANT TO LOOK AT CERTAIN POSITIONS #############\n",
    "position = 'C'\n",
    "players_df = all_players_df[all_players_df['POS'] == ' ' + position]\n",
    "\n",
    "######### UNCOMMENT IF YOU ONLY WANT TO LOOK AT CERTAIN TEAM #############\n",
    "# team = 'TOR'\n",
    "# players_df = all_players_df[all_players_df['TEAM'] == ' ' + team]\n",
    "\n",
    "######## UNCOMMENT TO PUT IN SOME PARAMETERS For Minutes Played #######3\n",
    "players_df = all_players_df[all_players_df['MP'] >= 15]\n",
    "players_df = players_df[players_df['G'] >= 20]\n",
    "\n",
    "\n",
    "######### UNCOMMENT IF WE WANT ALL PLAYERS #############\n",
    "# players_df = all_players_df\n",
    "\n",
    "players_df = players_df.reset_index()\n",
    "\n",
    "players_df=make_per_36(players_df)\n",
    "players_df"
   ]
  },
  {
   "cell_type": "markdown",
   "metadata": {},
   "source": [
    "<h2> First we will look at the age distrobusion of NBA Players </h2>"
   ]
  },
  {
   "cell_type": "code",
   "execution_count": 69,
   "metadata": {},
   "outputs": [
    {
     "data": {
      "application/vnd.plotly.v1+json": {
       "config": {
        "plotlyServerURL": "https://plot.ly"
       },
       "data": [
        {
         "alignmentgroup": "True",
         "bingroup": "x",
         "hovertemplate": "AGE=%{x}<br>count=%{y}<extra></extra>",
         "legendgroup": "",
         "marker": {
          "color": "#636efa"
         },
         "name": "",
         "offsetgroup": "",
         "orientation": "v",
         "showlegend": false,
         "type": "histogram",
         "x": [
          24,
          24,
          34,
          28,
          33,
          31,
          25,
          27,
          28,
          24,
          30,
          35,
          22,
          27,
          25,
          24,
          29,
          31,
          21,
          21,
          21,
          23,
          30,
          31,
          23,
          33,
          20,
          29,
          23,
          29,
          25,
          29,
          25,
          28,
          25,
          33,
          30,
          23,
          24,
          25,
          31,
          24,
          31,
          21,
          29,
          30,
          22,
          27,
          28,
          35,
          34,
          33,
          21,
          23,
          27,
          22,
          22,
          29,
          22,
          22,
          29,
          21,
          28,
          34,
          29,
          30,
          24,
          27,
          24,
          20,
          27,
          29,
          23,
          23,
          23,
          24,
          27,
          33,
          29,
          21,
          22,
          24,
          31,
          20,
          23,
          25,
          24,
          36,
          35,
          20,
          26,
          26,
          26,
          21,
          28,
          33,
          25,
          29,
          23,
          32,
          23,
          24,
          32,
          27,
          28,
          26,
          21,
          26,
          23,
          28,
          21,
          31,
          24,
          20,
          29,
          26,
          29,
          30,
          21,
          26,
          28,
          30,
          27,
          23,
          21,
          27,
          23,
          37,
          29,
          19,
          25,
          23,
          31,
          24,
          29,
          36,
          31,
          24,
          20,
          26,
          34,
          22,
          34,
          26,
          31,
          25,
          33,
          25,
          29,
          28,
          20,
          22,
          22,
          22,
          28,
          29,
          21,
          27,
          28,
          36,
          28,
          28,
          26,
          26,
          22,
          24,
          26,
          30,
          24,
          21,
          21,
          21,
          23,
          30,
          31,
          32,
          26,
          29,
          23,
          26,
          22,
          22,
          23,
          35,
          22,
          30,
          22,
          24,
          33,
          33,
          29,
          24,
          32,
          29,
          34,
          24,
          29,
          30,
          35,
          27,
          24,
          30,
          31,
          31,
          37,
          22,
          30,
          27,
          30,
          25,
          34,
          27,
          24,
          25,
          32,
          32,
          27,
          33,
          23,
          29,
          30,
          29,
          20,
          28,
          36,
          25,
          29,
          29,
          28,
          25,
          23,
          23,
          21,
          25,
          24,
          30,
          29,
          25,
          23,
          29,
          28,
          26,
          24,
          24,
          31,
          22,
          35,
          32,
          27,
          23,
          24,
          32,
          37,
          23,
          23,
          26,
          22,
          31,
          24,
          27,
          30,
          27,
          27,
          25,
          28,
          22,
          35,
          27,
          35,
          27,
          25,
          30,
          23,
          23,
          29,
          26,
          21,
          30,
          25,
          34,
          23,
          23,
          27,
          23,
          22,
          30,
          25,
          24,
          24,
          24,
          21,
          25,
          25,
          35,
          29,
          20,
          28,
          32,
          22,
          26,
          28,
          29,
          25,
          31,
          22,
          23,
          28,
          26,
          25,
          30,
          25,
          32,
          22,
          22,
          22,
          22,
          24,
          34,
          32,
          24,
          34,
          21,
          30,
          24,
          21,
          30,
          26,
          30,
          23,
          29,
          26,
          34,
          31,
          24,
          25,
          26,
          28,
          25,
          32,
          22,
          30,
          31,
          23,
          28,
          29,
          36,
          34,
          22,
          24,
          28,
          23,
          27,
          23,
          30,
          23,
          20,
          30,
          22,
          23,
          22,
          29,
          35,
          30,
          31,
          21,
          25,
          22,
          28,
          25,
          21,
          28,
          30,
          24,
          24,
          24,
          25,
          28,
          34,
          30,
          22,
          23,
          25,
          32,
          30,
          21,
          21,
          24,
          19,
          26,
          25,
          22,
          36,
          21,
          27,
          34,
          27,
          27,
          22,
          29,
          34,
          26,
          30,
          24,
          23,
          20,
          24,
          25,
          33,
          28,
          29,
          27,
          22,
          26,
          28,
          28,
          27,
          24,
          29,
          22,
          21,
          32,
          25,
          21,
          30,
          27,
          21,
          22,
          27,
          20,
          31,
          28,
          23,
          24,
          22,
          28,
          24,
          38,
          23,
          30,
          20,
          26,
          24,
          32,
          25,
          25,
          21,
          27,
          35,
          23,
          27,
          32,
          23,
          26,
          34,
          26,
          30,
          21,
          23,
          23,
          23,
          29,
          23,
          30,
          22,
          28,
          37,
          29,
          26,
          29,
          27,
          27,
          23,
          25,
          27,
          31,
          25,
          22,
          22,
          24,
          31,
          32,
          33,
          27,
          24,
          27,
          23,
          24,
          36,
          23,
          31,
          23,
          23,
          23,
          25,
          34,
          34,
          30,
          25,
          33,
          20,
          30,
          25,
          36,
          26,
          28,
          25,
          31,
          32,
          32,
          38,
          31,
          28,
          26,
          26,
          35,
          28,
          21,
          25,
          26,
          33,
          28,
          34,
          24,
          30,
          30,
          29,
          26,
          30,
          30,
          29,
          26,
          24,
          22,
          26,
          25,
          31,
          22,
          30,
          26,
          24,
          25,
          25,
          29,
          33,
          28,
          24,
          25,
          33,
          38,
          24,
          24,
          27,
          23,
          25,
          28,
          31,
          22,
          23,
          28,
          28,
          26,
          26,
          29,
          20,
          36,
          28,
          28,
          31,
          24,
          24,
          30,
          27,
          22,
          28,
          26,
          27,
          24,
          24,
          28,
          24,
          24,
          27,
          31,
          25,
          25,
          25,
          22,
          26,
          26,
          22,
          36,
          30,
          21,
          33,
          23,
          27,
          29,
          26,
          24,
          26,
          29,
          27,
          26,
          31,
          26,
          33,
          23,
          23,
          23,
          23,
          25,
          35,
          25,
          35,
          19,
          22,
          31,
          25,
          31,
          24,
          30,
          27,
          21,
          32,
          25,
          26,
          23,
          24,
          26,
          33,
          23,
          20,
          31,
          24,
          30,
          37,
          35,
          23,
          25,
          29,
          23,
          24,
          31,
          24,
          24,
          21,
          31,
          23,
          24,
          23,
          30,
          32,
          22,
          26,
          29,
          26,
          22,
          29,
          25,
          25,
          26,
          29,
          35,
          31,
          23,
          22,
          24,
          26,
          22,
          22,
          25,
          20,
          27,
          26,
          23,
          37,
          28,
          22,
          28,
          23,
          30,
          35,
          27,
          31,
          25,
          24,
          21,
          25,
          26,
          34,
          30,
          28,
          27,
          28,
          27,
          24,
          26,
          30,
          22,
          33,
          26,
          22,
          31,
          28,
          22,
          31,
          23,
          28,
          21,
          32,
          24,
          20,
          25,
          23,
          29,
          25,
          39,
          31,
          21,
          26,
          31,
          26,
          22,
          28,
          24,
          19,
          28,
          33,
          27,
          35,
          27,
          31,
          30,
          22,
          22,
          24,
          24,
          27,
          24,
          30,
          24,
          31,
          23,
          29,
          38,
          27,
          20,
          30,
          22,
          28,
          24,
          26,
          28,
          20,
          32,
          23,
          26,
          23,
          25,
          32,
          25,
          33,
          34,
          28,
          25,
          28,
          24,
          25,
          24,
          32,
          26,
          24,
          24,
          26,
          35,
          31,
          26,
          21,
          22,
          26,
          25,
          22,
          31,
          37,
          27,
          29,
          26,
          28,
          33,
          33,
          32,
          29,
          27,
          36,
          29,
          23,
          22,
          26,
          26,
          27,
          26,
          34,
          29,
          23,
          31,
          32,
          31,
          22,
          30,
          32,
          27,
          31,
          31,
          30,
          27,
          25,
          23,
          21,
          26,
          32,
          23,
          31,
          27,
          22,
          25,
          21,
          22,
          24,
          26,
          25,
          26,
          24,
          27,
          30,
          29,
          25,
          23,
          34,
          22,
          39,
          23,
          25,
          25,
          21,
          20,
          24,
          26,
          32,
          23,
          24,
          29,
          29,
          25,
          21,
          21,
          30,
          24,
          21,
          21,
          37,
          29,
          27,
          32,
          25,
          31,
          28,
          23,
          25,
          29,
          32,
          27,
          20,
          25,
          25,
          29,
          25,
          25,
          28,
          24,
          32,
          24,
          26,
          26,
          23,
          27,
          27,
          23,
          37,
          31,
          22,
          30,
          24,
          28,
          27,
          24,
          26,
          25,
          28,
          27,
          20,
          32,
          27,
          34,
          24,
          24,
          19,
          24,
          26,
          24,
          36,
          20,
          32,
          26,
          23,
          32,
          28,
          25,
          31,
          28,
          22,
          33,
          26,
          28,
          27,
          34,
          24,
          21,
          32,
          23,
          30,
          31,
          26,
          36,
          26,
          30,
          25,
          25,
          24,
          24,
          25,
          32,
          25,
          28,
          22,
          32,
          24,
          22,
          25,
          24,
          31,
          32,
          19,
          23,
          27,
          30,
          27,
          23,
          30,
          26,
          26,
          19,
          27,
          30,
          36,
          32,
          24,
          25,
          27,
          32,
          23,
          23,
          21,
          28,
          24,
          38,
          29,
          24,
          31,
          36,
          28,
          32,
          26,
          25,
          29,
          22,
          26,
          27,
          35,
          29,
          24,
          28,
          25,
          27,
          26,
          31,
          23,
          34,
          27,
          23,
          19,
          29,
          20,
          32,
          24,
          29,
          22,
          33,
          25,
          26,
          24,
          30,
          26,
          40,
          25,
          32,
          22,
          26,
          27,
          27,
          23,
          29,
          25,
          20,
          29,
          34,
          28,
          37,
          36,
          28,
          23,
          25,
          25,
          28,
          25,
          31,
          25,
          24,
          30,
          20,
          39,
          19,
          31,
          28,
          21,
          31,
          23,
          29,
          25,
          27,
          29,
          21,
          20,
          22,
          24,
          27,
          24,
          24,
          26,
          26,
          34,
          28,
          29,
          32,
          26,
          29,
          25,
          25,
          26,
          25,
          25,
          25,
          21,
          25,
          36,
          32,
          27,
          22,
          23,
          23,
          23,
          23,
          38,
          28,
          30,
          23,
          27,
          29,
          34,
          34,
          33,
          30,
          28,
          33,
          26,
          30,
          24,
          23,
          27,
          27,
          28,
          35,
          24,
          26,
          35,
          32,
          31,
          28,
          32,
          31,
          20,
          27,
          28,
          21,
          26,
          21,
          22,
          33,
          24,
          32,
          28,
          23,
          26,
          22,
          24,
          24,
          23,
          22,
          27,
          26,
          27,
          25,
          28,
          22,
          31,
          27,
          30,
          26,
          20,
          23,
          24,
          27,
          26,
          35,
          23,
          26,
          22,
          21,
          25,
          34,
          27,
          27,
          24,
          25,
          30,
          20,
          30,
          26,
          28,
          22,
          31,
          21,
          22,
          22,
          30,
          32,
          30,
          28,
          33,
          26,
          32,
          24,
          33,
          28,
          21,
          26,
          26,
          30,
          33,
          25,
          27,
          27,
          24,
          23,
          27,
          28,
          25,
          28,
          24,
          38,
          32,
          23,
          35,
          31,
          24,
          25,
          19,
          29,
          31,
          28,
          25,
          27,
          26,
          28,
          24,
          31,
          29,
          28,
          21,
          33,
          28,
          35,
          25,
          25,
          20,
          25,
          27,
          25,
          24,
          33,
          27,
          24,
          29,
          26,
          32,
          29,
          23,
          34,
          27,
          29,
          25,
          21,
          22,
          33,
          24,
          26,
          31,
          24,
          32,
          20,
          27,
          37,
          22,
          25,
          27,
          31,
          26,
          25,
          26,
          33,
          26,
          23,
          33,
          25,
          23,
          26,
          25,
          32,
          20,
          24,
          28,
          23,
          28,
          24,
          31,
          27,
          27,
          20,
          28,
          37,
          33,
          25,
          28,
          26,
          33,
          24,
          24,
          27,
          22,
          29,
          39,
          21,
          30,
          30,
          32,
          37,
          29,
          33,
          27,
          26,
          23,
          28,
          36,
          32,
          25,
          29,
          30,
          26,
          23,
          28,
          27,
          32,
          24,
          23,
          28,
          21,
          24,
          20,
          33,
          30,
          21,
          25,
          23,
          26,
          22,
          23,
          27,
          25,
          31,
          27,
          26,
          33,
          23,
          27,
          28,
          28,
          24,
          30,
          26,
          21,
          30,
          23,
          29,
          29,
          33,
          24,
          26,
          23,
          26,
          32,
          26,
          22,
          25,
          31,
          21,
          22,
          20,
          32,
          22,
          32,
          24,
          21,
          26,
          28,
          30,
          22,
          34,
          23,
          25,
          28,
          25,
          25,
          27,
          23,
          27,
          35,
          22,
          36,
          30,
          27,
          26,
          27,
          22,
          20,
          26,
          26,
          22,
          26,
          37,
          23,
          33,
          21,
          25,
          28,
          23,
          24,
          24,
          24,
          28,
          23,
          27,
          29,
          31,
          24,
          28,
          35,
          35,
          23,
          21,
          22,
          29,
          29,
          31,
          25,
          24,
          28,
          28,
          29,
          36,
          23,
          25,
          22,
          36,
          33,
          32,
          29,
          32,
          21,
          28,
          29,
          27,
          22,
          23,
          24,
          34,
          25,
          33,
          25,
          29,
          27,
          23,
          23,
          25,
          28,
          27,
          28,
          22,
          29,
          23,
          28,
          31,
          27,
          21,
          24,
          25,
          28,
          36,
          24,
          22,
          27,
          23,
          22,
          26,
          28,
          28,
          31,
          25,
          26,
          31,
          21,
          31,
          27,
          23,
          32,
          22,
          23,
          23,
          31,
          29,
          27,
          33,
          25,
          29,
          22,
          24,
          27,
          27,
          31,
          27,
          22,
          26,
          20,
          28,
          25,
          21,
          24,
          24,
          21,
          29,
          26,
          29,
          25,
          33,
          24,
          32,
          36,
          32,
          26,
          20,
          30,
          32,
          29,
          26,
          28,
          27,
          30,
          29,
          22,
          34,
          24,
          29,
          26,
          26,
          28,
          25,
          21,
          26,
          28,
          21,
          26,
          22,
          23,
          34,
          25,
          25,
          30,
          27,
          33,
          30,
          24,
          28,
          30,
          24,
          23,
          36,
          26,
          22,
          23,
          34,
          25,
          35,
          33,
          21,
          23,
          28,
          38,
          23,
          26,
          28,
          32,
          27,
          22,
          26,
          27,
          34,
          27,
          30,
          24,
          24,
          34,
          24,
          27,
          26,
          33,
          23,
          21,
          25,
          24,
          29,
          25,
          32,
          25,
          28,
          21,
          29,
          38,
          34,
          26,
          23,
          27,
          29,
          24,
          34,
          25,
          19,
          25,
          23,
          22,
          31,
          31,
          26,
          23,
          38,
          30,
          34,
          28,
          29,
          37,
          22,
          33,
          19,
          26,
          30,
          31,
          20,
          27,
          24,
          29,
          28,
          33,
          25,
          22,
          24,
          22,
          25,
          21,
          31,
          22,
          34,
          26,
          24,
          27,
          24,
          28,
          26,
          32,
          28,
          27,
          23,
          34,
          24,
          22,
          28,
          29,
          25,
          29,
          25,
          31,
          27,
          27,
          22,
          31,
          24,
          30,
          30,
          34,
          25,
          27,
          27,
          24,
          27,
          33,
          22,
          27,
          23,
          26,
          23,
          32,
          22,
          21,
          23,
          21,
          23,
          33,
          25,
          31,
          22,
          19,
          27,
          29,
          31,
          21,
          23,
          22,
          24,
          26,
          29,
          26,
          26,
          26,
          28,
          24,
          28,
          36,
          31,
          28,
          27,
          28,
          23,
          23,
          21,
          22,
          21,
          27,
          23,
          27,
          38,
          26,
          27,
          29,
          23,
          24,
          25,
          25,
          29,
          24,
          28,
          22,
          23,
          30,
          32,
          29,
          20,
          36,
          20,
          24,
          22,
          23,
          30,
          24,
          19,
          32,
          26,
          25,
          29,
          23,
          20,
          29,
          30,
          37,
          24,
          26,
          26,
          21,
          31,
          37,
          34,
          33,
          30,
          22,
          23,
          29,
          28,
          26,
          23,
          24,
          28,
          25,
          21,
          26,
          21,
          34,
          26,
          30,
          25,
          28,
          24,
          26,
          24,
          26,
          27,
          20,
          26,
          29,
          28,
          29,
          23,
          27,
          30,
          21,
          24,
          32,
          28,
          22,
          26,
          29,
          37,
          25,
          26,
          23,
          28,
          24,
          23,
          27,
          29,
          29,
          26,
          32,
          22,
          32,
          28,
          24,
          33,
          23,
          27,
          24,
          24,
          21,
          30,
          34,
          26,
          25,
          19,
          30,
          23,
          28,
          28,
          32,
          28,
          27,
          21,
          29,
          26,
          22,
          25,
          22,
          30,
          30,
          26,
          34,
          25,
          22,
          27,
          21,
          31,
          30,
          27,
          29,
          28,
          26,
          33,
          31,
          23,
          35,
          25,
          30,
          27,
          27,
          29,
          26,
          22,
          27,
          29,
          27,
          23,
          27,
          35,
          26,
          26,
          31,
          19,
          28,
          31,
          25,
          29,
          31,
          23,
          24,
          37,
          23,
          24,
          26,
          34,
          22,
          24,
          21,
          29,
          39,
          24,
          27,
          22,
          29,
          33,
          23,
          27,
          28,
          28,
          25,
          25,
          23,
          35,
          25,
          28,
          25,
          27,
          22,
          26,
          25,
          30,
          26,
          33,
          26,
          29,
          29,
          22,
          30,
          39,
          35,
          27,
          28,
          30,
          25,
          26,
          26,
          26,
          24,
          31,
          23,
          32,
          32,
          27,
          24,
          31,
          35,
          29,
          28,
          25,
          30,
          38,
          23,
          21,
          20,
          27,
          31,
          21,
          23,
          28,
          25,
          30,
          25,
          29,
          26,
          23,
          23,
          26,
          22,
          32,
          21,
          23,
          27,
          25,
          28,
          25,
          20,
          29,
          33,
          29,
          28,
          25,
          21,
          23,
          29,
          30,
          32,
          30,
          26,
          32,
          28,
          28,
          23,
          32,
          25,
          31,
          31,
          35,
          26,
          28,
          28,
          28,
          34,
          19,
          23,
          28,
          20,
          24,
          19,
          27,
          24,
          22,
          23,
          26,
          24,
          34,
          26,
          23,
          32,
          23,
          24,
          20,
          28,
          30,
          32,
          22,
          24,
          23,
          26,
          25,
          27,
          30,
          27,
          27,
          27,
          29,
          20,
          25,
          29,
          32,
          29,
          28,
          29,
          24,
          23,
          20,
          24,
          22,
          24,
          28,
          27,
          30,
          24,
          25,
          26,
          26,
          26,
          29,
          19,
          23,
          23,
          31,
          33,
          23,
          30,
          21,
          37,
          21,
          20,
          23,
          24,
          31,
          20,
          33,
          27,
          26,
          30,
          21,
          38,
          25,
          22,
          20,
          20,
          32,
          35,
          21,
          34,
          31,
          22,
          23,
          24,
          29,
          27,
          24,
          25,
          19,
          22,
          22,
          35,
          27,
          31,
          29,
          25,
          28,
          21,
          27,
          30,
          29,
          30,
          24,
          31,
          22,
          25,
          29,
          23,
          27,
          30,
          29,
          38,
          26,
          27,
          24,
          25,
          24,
          28,
          30,
          20,
          30,
          27,
          19,
          33,
          23,
          29,
          20,
          25,
          34,
          24,
          25,
          25,
          22,
          31,
          35,
          27,
          26,
          20,
          31,
          24,
          29,
          29,
          33,
          19,
          36,
          30,
          27,
          23,
          23,
          23,
          31,
          28,
          31,
          35,
          26,
          23,
          28,
          22,
          32,
          31,
          28,
          30,
          29,
          27,
          23,
          32,
          24,
          36,
          26,
          28,
          30,
          27,
          23,
          28,
          30,
          28,
          24,
          28,
          25,
          27,
          27,
          32,
          20,
          29,
          26,
          30,
          24,
          20,
          25,
          25,
          27,
          23,
          25,
          22,
          30,
          40,
          25,
          28,
          23,
          34,
          29,
          19,
          24,
          24,
          29,
          29,
          26,
          26,
          24,
          36,
          26,
          29,
          26,
          28,
          25,
          23,
          27,
          27,
          22,
          27,
          26,
          31,
          27,
          34,
          27,
          23,
          30,
          30,
          23,
          31,
          36,
          22,
          28,
          29,
          31,
          22,
          26,
          27,
          21,
          27,
          25,
          24,
          32,
          23,
          23,
          24,
          33,
          26,
          33,
          28,
          25,
          32,
          36,
          30,
          26,
          31,
          39,
          24,
          21,
          28,
          32,
          22,
          24,
          29,
          26,
          26,
          30,
          27,
          26,
          24,
          27,
          23,
          23,
          33,
          22,
          25,
          24,
          22,
          26,
          29,
          26,
          22,
          24,
          34,
          30,
          25,
          26,
          27,
          22,
          23,
          24,
          30,
          31,
          27,
          33,
          29,
          29,
          19,
          24,
          26,
          32,
          36,
          27,
          29,
          29,
          29,
          35,
          20,
          24,
          21,
          19,
          25,
          28,
          25,
          23,
          24,
          23,
          27,
          25,
          35,
          27,
          20,
          24,
          21,
          29,
          31,
          33,
          23,
          25,
          24,
          27,
          22,
          26,
          28,
          31,
          28,
          28,
          28,
          30,
          21,
          21,
          26,
          30,
          30,
          30,
          21,
          25,
          24,
          25,
          25,
          23,
          29,
          29,
          25,
          29,
          28,
          31,
          25,
          26,
          27,
          27,
          27,
          30,
          20,
          24,
          19,
          25,
          24,
          34,
          31,
          22,
          24,
          38,
          22,
          24,
          26,
          21,
          24,
          25,
          21,
          32,
          19,
          21,
          34,
          28,
          27,
          31,
          22,
          26,
          23,
          21,
          21,
          25,
          23,
          22,
          35,
          32,
          23,
          24,
          25,
          23,
          30,
          30,
          28,
          25,
          22,
          26,
          31,
          20,
          20,
          22,
          23,
          32,
          30,
          26,
          22,
          27,
          22,
          28,
          31,
          25,
          29,
          23,
          30,
          28,
          31,
          30,
          39,
          27,
          28,
          25,
          26,
          25,
          29,
          31,
          21,
          31,
          28,
          20,
          21,
          24,
          23,
          21,
          26,
          35,
          25,
          26,
          26,
          22,
          23,
          32,
          28,
          21,
          27,
          21,
          24,
          32,
          25,
          30,
          30,
          22,
          29,
          24,
          31,
          28,
          24,
          22,
          19,
          24,
          27,
          24,
          20,
          32,
          19,
          27,
          24,
          29,
          23,
          33,
          20,
          32,
          30,
          20,
          33,
          25,
          27,
          29,
          29,
          31,
          28,
          24,
          29,
          31,
          23,
          20,
          25,
          29,
          28,
          25,
          28,
          21,
          30,
          27,
          31,
          25,
          22,
          21,
          26,
          25,
          26,
          28,
          36,
          24,
          26,
          23,
          31,
          41,
          26,
          23,
          24,
          31,
          35,
          30,
          20,
          26,
          25,
          20,
          20,
          26,
          30,
          25,
          24,
          27,
          27,
          25,
          27,
          37,
          27,
          30,
          29,
          26,
          24,
          21,
          28,
          28,
          28,
          27,
          28,
          28,
          24,
          21,
          31,
          24,
          23,
          29,
          30,
          23,
          27,
          21,
          28,
          26,
          25,
          33,
          24,
          24,
          24,
          25,
          20,
          29,
          33,
          37,
          31,
          27,
          32,
          40,
          25,
          22,
          29,
          33,
          24,
          23,
          25,
          30,
          27,
          32,
          27,
          31,
          28,
          25,
          28,
          24,
          24,
          34,
          23,
          26,
          25,
          23,
          24,
          22,
          25,
          27,
          22,
          25,
          31,
          27,
          28,
          23,
          24,
          25,
          31,
          24,
          32,
          28,
          34,
          30,
          30,
          20,
          25,
          20,
          23,
          34,
          20,
          22,
          27,
          33,
          27,
          30,
          30,
          30,
          36,
          21,
          25,
          30,
          22,
          21,
          29,
          26,
          24,
          25,
          21,
          24,
          26,
          22,
          36,
          28,
          22,
          21,
          25,
          22,
          32,
          24,
          23,
          27,
          32,
          29,
          29,
          29,
          31,
          22,
          22,
          27,
          20,
          20,
          23,
          23,
          31,
          31,
          22,
          26,
          25,
          26,
          24,
          26,
          30,
          27,
          29,
          32,
          26,
          21,
          27,
          28,
          28,
          28,
          21,
          21,
          20,
          26,
          25,
          26,
          35,
          23,
          39,
          19,
          23,
          25,
          24,
          27,
          23,
          25,
          26,
          22,
          22,
          35,
          29,
          28,
          32,
          23,
          23,
          27,
          29,
          22,
          24,
          22,
          22,
          26,
          24,
          23,
          36,
          33,
          24,
          25,
          26,
          31,
          29,
          26,
          23,
          27,
          21,
          21,
          24,
          23,
          26,
          24,
          29,
          33,
          23,
          23,
          21,
          28,
          20,
          23,
          20,
          29,
          32,
          26,
          27,
          19,
          23,
          29,
          31,
          30,
          40,
          28,
          29,
          27,
          26,
          23,
          32,
          22,
          32,
          29,
          21,
          22,
          25,
          24,
          23,
          22,
          27,
          36,
          26,
          27,
          27,
          23,
          23,
          24,
          29,
          28,
          22,
          27,
          31,
          31,
          21,
          25,
          32,
          29,
          25,
          28,
          23,
          25,
          25,
          21,
          33,
          20,
          28,
          25,
          24,
          21,
          24,
          33,
          31,
          20,
          23,
          19,
          21,
          20,
          34,
          26,
          28,
          23,
          30,
          30,
          32,
          29,
          25,
          22,
          32,
          24,
          21,
          26,
          30,
          30,
          29,
          25,
          26,
          29,
          22,
          28,
          32,
          22,
          20,
          26,
          22,
          22,
          23,
          22,
          21,
          27,
          26,
          27,
          29,
          23,
          25,
          27,
          24,
          32,
          42,
          19,
          24,
          25,
          36,
          31,
          27,
          26,
          21,
          21,
          31,
          31,
          26,
          28,
          28,
          26,
          28,
          38,
          28,
          28,
          30,
          25,
          29,
          29,
          24,
          28,
          33,
          29,
          25,
          22,
          19,
          24,
          32,
          25,
          33,
          24,
          30,
          31,
          24,
          28,
          29,
          23,
          29,
          27,
          20,
          25,
          25,
          25,
          26,
          21,
          28,
          30,
          27,
          34,
          32,
          28,
          33,
          20,
          26,
          23,
          30,
          34,
          25,
          24,
          26,
          31,
          28,
          33,
          28,
          32,
          29,
          26,
          29,
          25,
          25,
          35,
          24,
          27,
          26,
          25,
          23,
          28,
          23,
          23,
          26,
          32,
          27,
          28,
          29,
          24,
          25,
          26,
          32,
          25,
          20,
          22,
          29,
          35,
          31,
          31,
          21,
          26,
          21,
          24,
          20,
          19,
          21,
          23,
          28,
          34,
          31,
          31,
          22,
          26,
          23,
          23,
          21,
          22,
          30,
          27,
          25,
          26,
          22,
          25,
          27,
          27,
          19,
          23,
          37,
          20,
          23,
          26,
          23,
          24,
          25,
          27,
          24,
          28,
          30,
          33,
          22,
          30,
          30,
          30,
          32,
          23,
          28,
          21,
          21,
          32,
          27,
          26,
          27,
          31,
          27,
          20,
          27,
          31,
          28,
          30,
          33,
          27,
          22,
          20,
          29,
          29,
          29,
          23,
          22,
          21,
          27,
          26,
          27,
          33,
          40,
          20,
          24,
          26,
          25,
          23,
          21,
          20,
          26,
          27,
          23,
          23,
          23,
          36,
          30,
          33,
          24,
          24,
          28,
          23,
          25,
          23,
          27,
          25,
          25,
          24,
          34,
          25,
          26,
          20,
          32,
          30,
          27,
          24,
          28,
          22,
          22,
          24,
          27,
          25,
          30,
          24,
          20,
          21,
          28,
          24,
          22,
          29,
          24,
          21,
          30,
          27,
          21,
          28,
          20,
          30,
          32,
          30,
          28,
          27,
          33,
          23,
          23,
          33,
          30,
          22,
          26,
          24,
          23,
          28,
          37,
          27,
          28,
          28,
          24,
          25,
          30,
          24,
          29,
          23,
          23,
          24,
          32,
          32,
          22,
          22,
          26,
          30,
          20,
          26,
          22,
          21,
          26,
          22,
          34,
          24,
          21,
          26,
          25,
          35,
          22,
          25,
          34,
          32,
          21,
          24,
          22,
          35,
          27,
          19,
          29,
          24,
          31,
          33,
          30,
          19,
          26,
          23,
          33,
          25,
          27,
          31,
          27,
          27,
          31,
          30,
          27,
          30,
          20,
          23,
          22,
          29,
          23,
          21,
          27,
          24,
          23,
          23,
          20,
          23,
          22,
          28,
          28,
          30,
          26,
          25,
          24,
          20,
          28,
          25,
          26,
          32,
          22,
          23,
          27,
          22,
          32,
          27,
          29,
          27,
          29,
          29,
          20,
          29,
          26,
          22,
          30,
          30,
          21,
          30,
          26,
          23,
          20,
          20,
          25,
          19,
          33,
          26,
          25,
          32,
          25,
          29,
          28,
          27,
          21,
          26,
          26,
          27,
          22,
          21,
          31,
          28,
          20,
          35,
          33,
          29,
          34,
          21,
          21,
          27,
          24,
          31,
          24,
          26,
          25,
          32,
          29,
          29,
          33,
          21,
          27,
          30,
          26,
          26,
          25,
          28,
          27,
          24,
          19,
          29,
          29,
          24,
          20,
          24,
          27,
          33,
          28,
          23,
          29,
          30,
          25,
          26,
          27,
          33,
          26,
          34,
          21,
          22,
          23,
          30,
          32,
          32,
          22,
          27,
          22,
          25,
          20,
          24,
          29,
          35,
          23,
          32,
          27,
          24,
          24,
          22,
          23,
          31,
          28,
          26,
          27,
          23,
          28,
          28,
          20,
          22,
          24,
          38,
          24,
          23,
          27,
          24,
          25,
          27,
          26,
          28,
          27,
          25,
          29,
          31,
          31,
          33,
          24,
          24,
          33,
          22,
          24,
          24,
          33,
          24,
          28,
          27,
          28,
          32,
          28,
          23,
          26,
          28,
          29,
          21,
          28,
          31,
          34,
          23,
          23,
          21,
          30,
          20,
          30,
          30,
          24,
          23,
          23,
          22,
          22,
          26,
          27,
          28,
          25,
          21,
          24,
          26,
          24,
          21,
          28,
          24,
          24,
          24,
          23,
          24,
          34,
          25,
          29,
          24,
          20,
          19,
          24,
          24,
          28,
          26,
          25,
          20,
          35,
          20,
          26,
          27,
          25,
          26,
          21,
          33,
          31,
          28,
          25,
          29,
          23,
          23,
          25,
          28,
          26,
          31,
          21,
          22,
          25,
          23,
          20,
          25,
          22,
          31,
          28,
          22,
          21,
          31,
          33,
          27,
          30,
          28,
          22,
          34,
          24,
          21,
          34,
          23,
          27,
          25,
          29,
          22,
          29,
          25,
          30,
          26,
          21,
          31,
          19,
          25,
          30,
          24,
          21,
          25,
          33,
          33,
          24,
          27,
          31,
          21,
          27,
          22
         ],
         "xaxis": "x",
         "yaxis": "y"
        }
       ],
       "layout": {
        "bargroupgap": 0.2,
        "barmode": "relative",
        "legend": {
         "tracegroupgap": 0
        },
        "margin": {
         "t": 60
        },
        "template": {
         "data": {
          "bar": [
           {
            "error_x": {
             "color": "#2a3f5f"
            },
            "error_y": {
             "color": "#2a3f5f"
            },
            "marker": {
             "line": {
              "color": "#E5ECF6",
              "width": 0.5
             }
            },
            "type": "bar"
           }
          ],
          "barpolar": [
           {
            "marker": {
             "line": {
              "color": "#E5ECF6",
              "width": 0.5
             }
            },
            "type": "barpolar"
           }
          ],
          "carpet": [
           {
            "aaxis": {
             "endlinecolor": "#2a3f5f",
             "gridcolor": "white",
             "linecolor": "white",
             "minorgridcolor": "white",
             "startlinecolor": "#2a3f5f"
            },
            "baxis": {
             "endlinecolor": "#2a3f5f",
             "gridcolor": "white",
             "linecolor": "white",
             "minorgridcolor": "white",
             "startlinecolor": "#2a3f5f"
            },
            "type": "carpet"
           }
          ],
          "choropleth": [
           {
            "colorbar": {
             "outlinewidth": 0,
             "ticks": ""
            },
            "type": "choropleth"
           }
          ],
          "contour": [
           {
            "colorbar": {
             "outlinewidth": 0,
             "ticks": ""
            },
            "colorscale": [
             [
              0,
              "#0d0887"
             ],
             [
              0.1111111111111111,
              "#46039f"
             ],
             [
              0.2222222222222222,
              "#7201a8"
             ],
             [
              0.3333333333333333,
              "#9c179e"
             ],
             [
              0.4444444444444444,
              "#bd3786"
             ],
             [
              0.5555555555555556,
              "#d8576b"
             ],
             [
              0.6666666666666666,
              "#ed7953"
             ],
             [
              0.7777777777777778,
              "#fb9f3a"
             ],
             [
              0.8888888888888888,
              "#fdca26"
             ],
             [
              1,
              "#f0f921"
             ]
            ],
            "type": "contour"
           }
          ],
          "contourcarpet": [
           {
            "colorbar": {
             "outlinewidth": 0,
             "ticks": ""
            },
            "type": "contourcarpet"
           }
          ],
          "heatmap": [
           {
            "colorbar": {
             "outlinewidth": 0,
             "ticks": ""
            },
            "colorscale": [
             [
              0,
              "#0d0887"
             ],
             [
              0.1111111111111111,
              "#46039f"
             ],
             [
              0.2222222222222222,
              "#7201a8"
             ],
             [
              0.3333333333333333,
              "#9c179e"
             ],
             [
              0.4444444444444444,
              "#bd3786"
             ],
             [
              0.5555555555555556,
              "#d8576b"
             ],
             [
              0.6666666666666666,
              "#ed7953"
             ],
             [
              0.7777777777777778,
              "#fb9f3a"
             ],
             [
              0.8888888888888888,
              "#fdca26"
             ],
             [
              1,
              "#f0f921"
             ]
            ],
            "type": "heatmap"
           }
          ],
          "heatmapgl": [
           {
            "colorbar": {
             "outlinewidth": 0,
             "ticks": ""
            },
            "colorscale": [
             [
              0,
              "#0d0887"
             ],
             [
              0.1111111111111111,
              "#46039f"
             ],
             [
              0.2222222222222222,
              "#7201a8"
             ],
             [
              0.3333333333333333,
              "#9c179e"
             ],
             [
              0.4444444444444444,
              "#bd3786"
             ],
             [
              0.5555555555555556,
              "#d8576b"
             ],
             [
              0.6666666666666666,
              "#ed7953"
             ],
             [
              0.7777777777777778,
              "#fb9f3a"
             ],
             [
              0.8888888888888888,
              "#fdca26"
             ],
             [
              1,
              "#f0f921"
             ]
            ],
            "type": "heatmapgl"
           }
          ],
          "histogram": [
           {
            "marker": {
             "colorbar": {
              "outlinewidth": 0,
              "ticks": ""
             }
            },
            "type": "histogram"
           }
          ],
          "histogram2d": [
           {
            "colorbar": {
             "outlinewidth": 0,
             "ticks": ""
            },
            "colorscale": [
             [
              0,
              "#0d0887"
             ],
             [
              0.1111111111111111,
              "#46039f"
             ],
             [
              0.2222222222222222,
              "#7201a8"
             ],
             [
              0.3333333333333333,
              "#9c179e"
             ],
             [
              0.4444444444444444,
              "#bd3786"
             ],
             [
              0.5555555555555556,
              "#d8576b"
             ],
             [
              0.6666666666666666,
              "#ed7953"
             ],
             [
              0.7777777777777778,
              "#fb9f3a"
             ],
             [
              0.8888888888888888,
              "#fdca26"
             ],
             [
              1,
              "#f0f921"
             ]
            ],
            "type": "histogram2d"
           }
          ],
          "histogram2dcontour": [
           {
            "colorbar": {
             "outlinewidth": 0,
             "ticks": ""
            },
            "colorscale": [
             [
              0,
              "#0d0887"
             ],
             [
              0.1111111111111111,
              "#46039f"
             ],
             [
              0.2222222222222222,
              "#7201a8"
             ],
             [
              0.3333333333333333,
              "#9c179e"
             ],
             [
              0.4444444444444444,
              "#bd3786"
             ],
             [
              0.5555555555555556,
              "#d8576b"
             ],
             [
              0.6666666666666666,
              "#ed7953"
             ],
             [
              0.7777777777777778,
              "#fb9f3a"
             ],
             [
              0.8888888888888888,
              "#fdca26"
             ],
             [
              1,
              "#f0f921"
             ]
            ],
            "type": "histogram2dcontour"
           }
          ],
          "mesh3d": [
           {
            "colorbar": {
             "outlinewidth": 0,
             "ticks": ""
            },
            "type": "mesh3d"
           }
          ],
          "parcoords": [
           {
            "line": {
             "colorbar": {
              "outlinewidth": 0,
              "ticks": ""
             }
            },
            "type": "parcoords"
           }
          ],
          "pie": [
           {
            "automargin": true,
            "type": "pie"
           }
          ],
          "scatter": [
           {
            "marker": {
             "colorbar": {
              "outlinewidth": 0,
              "ticks": ""
             }
            },
            "type": "scatter"
           }
          ],
          "scatter3d": [
           {
            "line": {
             "colorbar": {
              "outlinewidth": 0,
              "ticks": ""
             }
            },
            "marker": {
             "colorbar": {
              "outlinewidth": 0,
              "ticks": ""
             }
            },
            "type": "scatter3d"
           }
          ],
          "scattercarpet": [
           {
            "marker": {
             "colorbar": {
              "outlinewidth": 0,
              "ticks": ""
             }
            },
            "type": "scattercarpet"
           }
          ],
          "scattergeo": [
           {
            "marker": {
             "colorbar": {
              "outlinewidth": 0,
              "ticks": ""
             }
            },
            "type": "scattergeo"
           }
          ],
          "scattergl": [
           {
            "marker": {
             "colorbar": {
              "outlinewidth": 0,
              "ticks": ""
             }
            },
            "type": "scattergl"
           }
          ],
          "scattermapbox": [
           {
            "marker": {
             "colorbar": {
              "outlinewidth": 0,
              "ticks": ""
             }
            },
            "type": "scattermapbox"
           }
          ],
          "scatterpolar": [
           {
            "marker": {
             "colorbar": {
              "outlinewidth": 0,
              "ticks": ""
             }
            },
            "type": "scatterpolar"
           }
          ],
          "scatterpolargl": [
           {
            "marker": {
             "colorbar": {
              "outlinewidth": 0,
              "ticks": ""
             }
            },
            "type": "scatterpolargl"
           }
          ],
          "scatterternary": [
           {
            "marker": {
             "colorbar": {
              "outlinewidth": 0,
              "ticks": ""
             }
            },
            "type": "scatterternary"
           }
          ],
          "surface": [
           {
            "colorbar": {
             "outlinewidth": 0,
             "ticks": ""
            },
            "colorscale": [
             [
              0,
              "#0d0887"
             ],
             [
              0.1111111111111111,
              "#46039f"
             ],
             [
              0.2222222222222222,
              "#7201a8"
             ],
             [
              0.3333333333333333,
              "#9c179e"
             ],
             [
              0.4444444444444444,
              "#bd3786"
             ],
             [
              0.5555555555555556,
              "#d8576b"
             ],
             [
              0.6666666666666666,
              "#ed7953"
             ],
             [
              0.7777777777777778,
              "#fb9f3a"
             ],
             [
              0.8888888888888888,
              "#fdca26"
             ],
             [
              1,
              "#f0f921"
             ]
            ],
            "type": "surface"
           }
          ],
          "table": [
           {
            "cells": {
             "fill": {
              "color": "#EBF0F8"
             },
             "line": {
              "color": "white"
             }
            },
            "header": {
             "fill": {
              "color": "#C8D4E3"
             },
             "line": {
              "color": "white"
             }
            },
            "type": "table"
           }
          ]
         },
         "layout": {
          "annotationdefaults": {
           "arrowcolor": "#2a3f5f",
           "arrowhead": 0,
           "arrowwidth": 1
          },
          "coloraxis": {
           "colorbar": {
            "outlinewidth": 0,
            "ticks": ""
           }
          },
          "colorscale": {
           "diverging": [
            [
             0,
             "#8e0152"
            ],
            [
             0.1,
             "#c51b7d"
            ],
            [
             0.2,
             "#de77ae"
            ],
            [
             0.3,
             "#f1b6da"
            ],
            [
             0.4,
             "#fde0ef"
            ],
            [
             0.5,
             "#f7f7f7"
            ],
            [
             0.6,
             "#e6f5d0"
            ],
            [
             0.7,
             "#b8e186"
            ],
            [
             0.8,
             "#7fbc41"
            ],
            [
             0.9,
             "#4d9221"
            ],
            [
             1,
             "#276419"
            ]
           ],
           "sequential": [
            [
             0,
             "#0d0887"
            ],
            [
             0.1111111111111111,
             "#46039f"
            ],
            [
             0.2222222222222222,
             "#7201a8"
            ],
            [
             0.3333333333333333,
             "#9c179e"
            ],
            [
             0.4444444444444444,
             "#bd3786"
            ],
            [
             0.5555555555555556,
             "#d8576b"
            ],
            [
             0.6666666666666666,
             "#ed7953"
            ],
            [
             0.7777777777777778,
             "#fb9f3a"
            ],
            [
             0.8888888888888888,
             "#fdca26"
            ],
            [
             1,
             "#f0f921"
            ]
           ],
           "sequentialminus": [
            [
             0,
             "#0d0887"
            ],
            [
             0.1111111111111111,
             "#46039f"
            ],
            [
             0.2222222222222222,
             "#7201a8"
            ],
            [
             0.3333333333333333,
             "#9c179e"
            ],
            [
             0.4444444444444444,
             "#bd3786"
            ],
            [
             0.5555555555555556,
             "#d8576b"
            ],
            [
             0.6666666666666666,
             "#ed7953"
            ],
            [
             0.7777777777777778,
             "#fb9f3a"
            ],
            [
             0.8888888888888888,
             "#fdca26"
            ],
            [
             1,
             "#f0f921"
            ]
           ]
          },
          "colorway": [
           "#636efa",
           "#EF553B",
           "#00cc96",
           "#ab63fa",
           "#FFA15A",
           "#19d3f3",
           "#FF6692",
           "#B6E880",
           "#FF97FF",
           "#FECB52"
          ],
          "font": {
           "color": "#2a3f5f"
          },
          "geo": {
           "bgcolor": "white",
           "lakecolor": "white",
           "landcolor": "#E5ECF6",
           "showlakes": true,
           "showland": true,
           "subunitcolor": "white"
          },
          "hoverlabel": {
           "align": "left"
          },
          "hovermode": "closest",
          "mapbox": {
           "style": "light"
          },
          "paper_bgcolor": "white",
          "plot_bgcolor": "#E5ECF6",
          "polar": {
           "angularaxis": {
            "gridcolor": "white",
            "linecolor": "white",
            "ticks": ""
           },
           "bgcolor": "#E5ECF6",
           "radialaxis": {
            "gridcolor": "white",
            "linecolor": "white",
            "ticks": ""
           }
          },
          "scene": {
           "xaxis": {
            "backgroundcolor": "#E5ECF6",
            "gridcolor": "white",
            "gridwidth": 2,
            "linecolor": "white",
            "showbackground": true,
            "ticks": "",
            "zerolinecolor": "white"
           },
           "yaxis": {
            "backgroundcolor": "#E5ECF6",
            "gridcolor": "white",
            "gridwidth": 2,
            "linecolor": "white",
            "showbackground": true,
            "ticks": "",
            "zerolinecolor": "white"
           },
           "zaxis": {
            "backgroundcolor": "#E5ECF6",
            "gridcolor": "white",
            "gridwidth": 2,
            "linecolor": "white",
            "showbackground": true,
            "ticks": "",
            "zerolinecolor": "white"
           }
          },
          "shapedefaults": {
           "line": {
            "color": "#2a3f5f"
           }
          },
          "ternary": {
           "aaxis": {
            "gridcolor": "white",
            "linecolor": "white",
            "ticks": ""
           },
           "baxis": {
            "gridcolor": "white",
            "linecolor": "white",
            "ticks": ""
           },
           "bgcolor": "#E5ECF6",
           "caxis": {
            "gridcolor": "white",
            "linecolor": "white",
            "ticks": ""
           }
          },
          "title": {
           "x": 0.05
          },
          "xaxis": {
           "automargin": true,
           "gridcolor": "white",
           "linecolor": "white",
           "ticks": "",
           "title": {
            "standoff": 15
           },
           "zerolinecolor": "white",
           "zerolinewidth": 2
          },
          "yaxis": {
           "automargin": true,
           "gridcolor": "white",
           "linecolor": "white",
           "ticks": "",
           "title": {
            "standoff": 15
           },
           "zerolinecolor": "white",
           "zerolinewidth": 2
          }
         }
        },
        "xaxis": {
         "anchor": "y",
         "domain": [
          0,
          1
         ],
         "title": {
          "text": "AGE"
         }
        },
        "yaxis": {
         "anchor": "x",
         "domain": [
          0,
          1
         ],
         "title": {
          "text": "count"
         }
        }
       }
      },
      "text/html": [
       "<div>\n",
       "        \n",
       "        \n",
       "            <div id=\"27d1efc1-87a6-47d1-bb1d-2f1b3ba203c9\" class=\"plotly-graph-div\" style=\"height:525px; width:100%;\"></div>\n",
       "            <script type=\"text/javascript\">\n",
       "                require([\"plotly\"], function(Plotly) {\n",
       "                    window.PLOTLYENV=window.PLOTLYENV || {};\n",
       "                    \n",
       "                if (document.getElementById(\"27d1efc1-87a6-47d1-bb1d-2f1b3ba203c9\")) {\n",
       "                    Plotly.newPlot(\n",
       "                        '27d1efc1-87a6-47d1-bb1d-2f1b3ba203c9',\n",
       "                        [{\"alignmentgroup\": \"True\", \"bingroup\": \"x\", \"hovertemplate\": \"AGE=%{x}<br>count=%{y}<extra></extra>\", \"legendgroup\": \"\", \"marker\": {\"color\": \"#636efa\"}, \"name\": \"\", \"offsetgroup\": \"\", \"orientation\": \"v\", \"showlegend\": false, \"type\": \"histogram\", \"x\": [24, 24, 34, 28, 33, 31, 25, 27, 28, 24, 30, 35, 22, 27, 25, 24, 29, 31, 21, 21, 21, 23, 30, 31, 23, 33, 20, 29, 23, 29, 25, 29, 25, 28, 25, 33, 30, 23, 24, 25, 31, 24, 31, 21, 29, 30, 22, 27, 28, 35, 34, 33, 21, 23, 27, 22, 22, 29, 22, 22, 29, 21, 28, 34, 29, 30, 24, 27, 24, 20, 27, 29, 23, 23, 23, 24, 27, 33, 29, 21, 22, 24, 31, 20, 23, 25, 24, 36, 35, 20, 26, 26, 26, 21, 28, 33, 25, 29, 23, 32, 23, 24, 32, 27, 28, 26, 21, 26, 23, 28, 21, 31, 24, 20, 29, 26, 29, 30, 21, 26, 28, 30, 27, 23, 21, 27, 23, 37, 29, 19, 25, 23, 31, 24, 29, 36, 31, 24, 20, 26, 34, 22, 34, 26, 31, 25, 33, 25, 29, 28, 20, 22, 22, 22, 28, 29, 21, 27, 28, 36, 28, 28, 26, 26, 22, 24, 26, 30, 24, 21, 21, 21, 23, 30, 31, 32, 26, 29, 23, 26, 22, 22, 23, 35, 22, 30, 22, 24, 33, 33, 29, 24, 32, 29, 34, 24, 29, 30, 35, 27, 24, 30, 31, 31, 37, 22, 30, 27, 30, 25, 34, 27, 24, 25, 32, 32, 27, 33, 23, 29, 30, 29, 20, 28, 36, 25, 29, 29, 28, 25, 23, 23, 21, 25, 24, 30, 29, 25, 23, 29, 28, 26, 24, 24, 31, 22, 35, 32, 27, 23, 24, 32, 37, 23, 23, 26, 22, 31, 24, 27, 30, 27, 27, 25, 28, 22, 35, 27, 35, 27, 25, 30, 23, 23, 29, 26, 21, 30, 25, 34, 23, 23, 27, 23, 22, 30, 25, 24, 24, 24, 21, 25, 25, 35, 29, 20, 28, 32, 22, 26, 28, 29, 25, 31, 22, 23, 28, 26, 25, 30, 25, 32, 22, 22, 22, 22, 24, 34, 32, 24, 34, 21, 30, 24, 21, 30, 26, 30, 23, 29, 26, 34, 31, 24, 25, 26, 28, 25, 32, 22, 30, 31, 23, 28, 29, 36, 34, 22, 24, 28, 23, 27, 23, 30, 23, 20, 30, 22, 23, 22, 29, 35, 30, 31, 21, 25, 22, 28, 25, 21, 28, 30, 24, 24, 24, 25, 28, 34, 30, 22, 23, 25, 32, 30, 21, 21, 24, 19, 26, 25, 22, 36, 21, 27, 34, 27, 27, 22, 29, 34, 26, 30, 24, 23, 20, 24, 25, 33, 28, 29, 27, 22, 26, 28, 28, 27, 24, 29, 22, 21, 32, 25, 21, 30, 27, 21, 22, 27, 20, 31, 28, 23, 24, 22, 28, 24, 38, 23, 30, 20, 26, 24, 32, 25, 25, 21, 27, 35, 23, 27, 32, 23, 26, 34, 26, 30, 21, 23, 23, 23, 29, 23, 30, 22, 28, 37, 29, 26, 29, 27, 27, 23, 25, 27, 31, 25, 22, 22, 24, 31, 32, 33, 27, 24, 27, 23, 24, 36, 23, 31, 23, 23, 23, 25, 34, 34, 30, 25, 33, 20, 30, 25, 36, 26, 28, 25, 31, 32, 32, 38, 31, 28, 26, 26, 35, 28, 21, 25, 26, 33, 28, 34, 24, 30, 30, 29, 26, 30, 30, 29, 26, 24, 22, 26, 25, 31, 22, 30, 26, 24, 25, 25, 29, 33, 28, 24, 25, 33, 38, 24, 24, 27, 23, 25, 28, 31, 22, 23, 28, 28, 26, 26, 29, 20, 36, 28, 28, 31, 24, 24, 30, 27, 22, 28, 26, 27, 24, 24, 28, 24, 24, 27, 31, 25, 25, 25, 22, 26, 26, 22, 36, 30, 21, 33, 23, 27, 29, 26, 24, 26, 29, 27, 26, 31, 26, 33, 23, 23, 23, 23, 25, 35, 25, 35, 19, 22, 31, 25, 31, 24, 30, 27, 21, 32, 25, 26, 23, 24, 26, 33, 23, 20, 31, 24, 30, 37, 35, 23, 25, 29, 23, 24, 31, 24, 24, 21, 31, 23, 24, 23, 30, 32, 22, 26, 29, 26, 22, 29, 25, 25, 26, 29, 35, 31, 23, 22, 24, 26, 22, 22, 25, 20, 27, 26, 23, 37, 28, 22, 28, 23, 30, 35, 27, 31, 25, 24, 21, 25, 26, 34, 30, 28, 27, 28, 27, 24, 26, 30, 22, 33, 26, 22, 31, 28, 22, 31, 23, 28, 21, 32, 24, 20, 25, 23, 29, 25, 39, 31, 21, 26, 31, 26, 22, 28, 24, 19, 28, 33, 27, 35, 27, 31, 30, 22, 22, 24, 24, 27, 24, 30, 24, 31, 23, 29, 38, 27, 20, 30, 22, 28, 24, 26, 28, 20, 32, 23, 26, 23, 25, 32, 25, 33, 34, 28, 25, 28, 24, 25, 24, 32, 26, 24, 24, 26, 35, 31, 26, 21, 22, 26, 25, 22, 31, 37, 27, 29, 26, 28, 33, 33, 32, 29, 27, 36, 29, 23, 22, 26, 26, 27, 26, 34, 29, 23, 31, 32, 31, 22, 30, 32, 27, 31, 31, 30, 27, 25, 23, 21, 26, 32, 23, 31, 27, 22, 25, 21, 22, 24, 26, 25, 26, 24, 27, 30, 29, 25, 23, 34, 22, 39, 23, 25, 25, 21, 20, 24, 26, 32, 23, 24, 29, 29, 25, 21, 21, 30, 24, 21, 21, 37, 29, 27, 32, 25, 31, 28, 23, 25, 29, 32, 27, 20, 25, 25, 29, 25, 25, 28, 24, 32, 24, 26, 26, 23, 27, 27, 23, 37, 31, 22, 30, 24, 28, 27, 24, 26, 25, 28, 27, 20, 32, 27, 34, 24, 24, 19, 24, 26, 24, 36, 20, 32, 26, 23, 32, 28, 25, 31, 28, 22, 33, 26, 28, 27, 34, 24, 21, 32, 23, 30, 31, 26, 36, 26, 30, 25, 25, 24, 24, 25, 32, 25, 28, 22, 32, 24, 22, 25, 24, 31, 32, 19, 23, 27, 30, 27, 23, 30, 26, 26, 19, 27, 30, 36, 32, 24, 25, 27, 32, 23, 23, 21, 28, 24, 38, 29, 24, 31, 36, 28, 32, 26, 25, 29, 22, 26, 27, 35, 29, 24, 28, 25, 27, 26, 31, 23, 34, 27, 23, 19, 29, 20, 32, 24, 29, 22, 33, 25, 26, 24, 30, 26, 40, 25, 32, 22, 26, 27, 27, 23, 29, 25, 20, 29, 34, 28, 37, 36, 28, 23, 25, 25, 28, 25, 31, 25, 24, 30, 20, 39, 19, 31, 28, 21, 31, 23, 29, 25, 27, 29, 21, 20, 22, 24, 27, 24, 24, 26, 26, 34, 28, 29, 32, 26, 29, 25, 25, 26, 25, 25, 25, 21, 25, 36, 32, 27, 22, 23, 23, 23, 23, 38, 28, 30, 23, 27, 29, 34, 34, 33, 30, 28, 33, 26, 30, 24, 23, 27, 27, 28, 35, 24, 26, 35, 32, 31, 28, 32, 31, 20, 27, 28, 21, 26, 21, 22, 33, 24, 32, 28, 23, 26, 22, 24, 24, 23, 22, 27, 26, 27, 25, 28, 22, 31, 27, 30, 26, 20, 23, 24, 27, 26, 35, 23, 26, 22, 21, 25, 34, 27, 27, 24, 25, 30, 20, 30, 26, 28, 22, 31, 21, 22, 22, 30, 32, 30, 28, 33, 26, 32, 24, 33, 28, 21, 26, 26, 30, 33, 25, 27, 27, 24, 23, 27, 28, 25, 28, 24, 38, 32, 23, 35, 31, 24, 25, 19, 29, 31, 28, 25, 27, 26, 28, 24, 31, 29, 28, 21, 33, 28, 35, 25, 25, 20, 25, 27, 25, 24, 33, 27, 24, 29, 26, 32, 29, 23, 34, 27, 29, 25, 21, 22, 33, 24, 26, 31, 24, 32, 20, 27, 37, 22, 25, 27, 31, 26, 25, 26, 33, 26, 23, 33, 25, 23, 26, 25, 32, 20, 24, 28, 23, 28, 24, 31, 27, 27, 20, 28, 37, 33, 25, 28, 26, 33, 24, 24, 27, 22, 29, 39, 21, 30, 30, 32, 37, 29, 33, 27, 26, 23, 28, 36, 32, 25, 29, 30, 26, 23, 28, 27, 32, 24, 23, 28, 21, 24, 20, 33, 30, 21, 25, 23, 26, 22, 23, 27, 25, 31, 27, 26, 33, 23, 27, 28, 28, 24, 30, 26, 21, 30, 23, 29, 29, 33, 24, 26, 23, 26, 32, 26, 22, 25, 31, 21, 22, 20, 32, 22, 32, 24, 21, 26, 28, 30, 22, 34, 23, 25, 28, 25, 25, 27, 23, 27, 35, 22, 36, 30, 27, 26, 27, 22, 20, 26, 26, 22, 26, 37, 23, 33, 21, 25, 28, 23, 24, 24, 24, 28, 23, 27, 29, 31, 24, 28, 35, 35, 23, 21, 22, 29, 29, 31, 25, 24, 28, 28, 29, 36, 23, 25, 22, 36, 33, 32, 29, 32, 21, 28, 29, 27, 22, 23, 24, 34, 25, 33, 25, 29, 27, 23, 23, 25, 28, 27, 28, 22, 29, 23, 28, 31, 27, 21, 24, 25, 28, 36, 24, 22, 27, 23, 22, 26, 28, 28, 31, 25, 26, 31, 21, 31, 27, 23, 32, 22, 23, 23, 31, 29, 27, 33, 25, 29, 22, 24, 27, 27, 31, 27, 22, 26, 20, 28, 25, 21, 24, 24, 21, 29, 26, 29, 25, 33, 24, 32, 36, 32, 26, 20, 30, 32, 29, 26, 28, 27, 30, 29, 22, 34, 24, 29, 26, 26, 28, 25, 21, 26, 28, 21, 26, 22, 23, 34, 25, 25, 30, 27, 33, 30, 24, 28, 30, 24, 23, 36, 26, 22, 23, 34, 25, 35, 33, 21, 23, 28, 38, 23, 26, 28, 32, 27, 22, 26, 27, 34, 27, 30, 24, 24, 34, 24, 27, 26, 33, 23, 21, 25, 24, 29, 25, 32, 25, 28, 21, 29, 38, 34, 26, 23, 27, 29, 24, 34, 25, 19, 25, 23, 22, 31, 31, 26, 23, 38, 30, 34, 28, 29, 37, 22, 33, 19, 26, 30, 31, 20, 27, 24, 29, 28, 33, 25, 22, 24, 22, 25, 21, 31, 22, 34, 26, 24, 27, 24, 28, 26, 32, 28, 27, 23, 34, 24, 22, 28, 29, 25, 29, 25, 31, 27, 27, 22, 31, 24, 30, 30, 34, 25, 27, 27, 24, 27, 33, 22, 27, 23, 26, 23, 32, 22, 21, 23, 21, 23, 33, 25, 31, 22, 19, 27, 29, 31, 21, 23, 22, 24, 26, 29, 26, 26, 26, 28, 24, 28, 36, 31, 28, 27, 28, 23, 23, 21, 22, 21, 27, 23, 27, 38, 26, 27, 29, 23, 24, 25, 25, 29, 24, 28, 22, 23, 30, 32, 29, 20, 36, 20, 24, 22, 23, 30, 24, 19, 32, 26, 25, 29, 23, 20, 29, 30, 37, 24, 26, 26, 21, 31, 37, 34, 33, 30, 22, 23, 29, 28, 26, 23, 24, 28, 25, 21, 26, 21, 34, 26, 30, 25, 28, 24, 26, 24, 26, 27, 20, 26, 29, 28, 29, 23, 27, 30, 21, 24, 32, 28, 22, 26, 29, 37, 25, 26, 23, 28, 24, 23, 27, 29, 29, 26, 32, 22, 32, 28, 24, 33, 23, 27, 24, 24, 21, 30, 34, 26, 25, 19, 30, 23, 28, 28, 32, 28, 27, 21, 29, 26, 22, 25, 22, 30, 30, 26, 34, 25, 22, 27, 21, 31, 30, 27, 29, 28, 26, 33, 31, 23, 35, 25, 30, 27, 27, 29, 26, 22, 27, 29, 27, 23, 27, 35, 26, 26, 31, 19, 28, 31, 25, 29, 31, 23, 24, 37, 23, 24, 26, 34, 22, 24, 21, 29, 39, 24, 27, 22, 29, 33, 23, 27, 28, 28, 25, 25, 23, 35, 25, 28, 25, 27, 22, 26, 25, 30, 26, 33, 26, 29, 29, 22, 30, 39, 35, 27, 28, 30, 25, 26, 26, 26, 24, 31, 23, 32, 32, 27, 24, 31, 35, 29, 28, 25, 30, 38, 23, 21, 20, 27, 31, 21, 23, 28, 25, 30, 25, 29, 26, 23, 23, 26, 22, 32, 21, 23, 27, 25, 28, 25, 20, 29, 33, 29, 28, 25, 21, 23, 29, 30, 32, 30, 26, 32, 28, 28, 23, 32, 25, 31, 31, 35, 26, 28, 28, 28, 34, 19, 23, 28, 20, 24, 19, 27, 24, 22, 23, 26, 24, 34, 26, 23, 32, 23, 24, 20, 28, 30, 32, 22, 24, 23, 26, 25, 27, 30, 27, 27, 27, 29, 20, 25, 29, 32, 29, 28, 29, 24, 23, 20, 24, 22, 24, 28, 27, 30, 24, 25, 26, 26, 26, 29, 19, 23, 23, 31, 33, 23, 30, 21, 37, 21, 20, 23, 24, 31, 20, 33, 27, 26, 30, 21, 38, 25, 22, 20, 20, 32, 35, 21, 34, 31, 22, 23, 24, 29, 27, 24, 25, 19, 22, 22, 35, 27, 31, 29, 25, 28, 21, 27, 30, 29, 30, 24, 31, 22, 25, 29, 23, 27, 30, 29, 38, 26, 27, 24, 25, 24, 28, 30, 20, 30, 27, 19, 33, 23, 29, 20, 25, 34, 24, 25, 25, 22, 31, 35, 27, 26, 20, 31, 24, 29, 29, 33, 19, 36, 30, 27, 23, 23, 23, 31, 28, 31, 35, 26, 23, 28, 22, 32, 31, 28, 30, 29, 27, 23, 32, 24, 36, 26, 28, 30, 27, 23, 28, 30, 28, 24, 28, 25, 27, 27, 32, 20, 29, 26, 30, 24, 20, 25, 25, 27, 23, 25, 22, 30, 40, 25, 28, 23, 34, 29, 19, 24, 24, 29, 29, 26, 26, 24, 36, 26, 29, 26, 28, 25, 23, 27, 27, 22, 27, 26, 31, 27, 34, 27, 23, 30, 30, 23, 31, 36, 22, 28, 29, 31, 22, 26, 27, 21, 27, 25, 24, 32, 23, 23, 24, 33, 26, 33, 28, 25, 32, 36, 30, 26, 31, 39, 24, 21, 28, 32, 22, 24, 29, 26, 26, 30, 27, 26, 24, 27, 23, 23, 33, 22, 25, 24, 22, 26, 29, 26, 22, 24, 34, 30, 25, 26, 27, 22, 23, 24, 30, 31, 27, 33, 29, 29, 19, 24, 26, 32, 36, 27, 29, 29, 29, 35, 20, 24, 21, 19, 25, 28, 25, 23, 24, 23, 27, 25, 35, 27, 20, 24, 21, 29, 31, 33, 23, 25, 24, 27, 22, 26, 28, 31, 28, 28, 28, 30, 21, 21, 26, 30, 30, 30, 21, 25, 24, 25, 25, 23, 29, 29, 25, 29, 28, 31, 25, 26, 27, 27, 27, 30, 20, 24, 19, 25, 24, 34, 31, 22, 24, 38, 22, 24, 26, 21, 24, 25, 21, 32, 19, 21, 34, 28, 27, 31, 22, 26, 23, 21, 21, 25, 23, 22, 35, 32, 23, 24, 25, 23, 30, 30, 28, 25, 22, 26, 31, 20, 20, 22, 23, 32, 30, 26, 22, 27, 22, 28, 31, 25, 29, 23, 30, 28, 31, 30, 39, 27, 28, 25, 26, 25, 29, 31, 21, 31, 28, 20, 21, 24, 23, 21, 26, 35, 25, 26, 26, 22, 23, 32, 28, 21, 27, 21, 24, 32, 25, 30, 30, 22, 29, 24, 31, 28, 24, 22, 19, 24, 27, 24, 20, 32, 19, 27, 24, 29, 23, 33, 20, 32, 30, 20, 33, 25, 27, 29, 29, 31, 28, 24, 29, 31, 23, 20, 25, 29, 28, 25, 28, 21, 30, 27, 31, 25, 22, 21, 26, 25, 26, 28, 36, 24, 26, 23, 31, 41, 26, 23, 24, 31, 35, 30, 20, 26, 25, 20, 20, 26, 30, 25, 24, 27, 27, 25, 27, 37, 27, 30, 29, 26, 24, 21, 28, 28, 28, 27, 28, 28, 24, 21, 31, 24, 23, 29, 30, 23, 27, 21, 28, 26, 25, 33, 24, 24, 24, 25, 20, 29, 33, 37, 31, 27, 32, 40, 25, 22, 29, 33, 24, 23, 25, 30, 27, 32, 27, 31, 28, 25, 28, 24, 24, 34, 23, 26, 25, 23, 24, 22, 25, 27, 22, 25, 31, 27, 28, 23, 24, 25, 31, 24, 32, 28, 34, 30, 30, 20, 25, 20, 23, 34, 20, 22, 27, 33, 27, 30, 30, 30, 36, 21, 25, 30, 22, 21, 29, 26, 24, 25, 21, 24, 26, 22, 36, 28, 22, 21, 25, 22, 32, 24, 23, 27, 32, 29, 29, 29, 31, 22, 22, 27, 20, 20, 23, 23, 31, 31, 22, 26, 25, 26, 24, 26, 30, 27, 29, 32, 26, 21, 27, 28, 28, 28, 21, 21, 20, 26, 25, 26, 35, 23, 39, 19, 23, 25, 24, 27, 23, 25, 26, 22, 22, 35, 29, 28, 32, 23, 23, 27, 29, 22, 24, 22, 22, 26, 24, 23, 36, 33, 24, 25, 26, 31, 29, 26, 23, 27, 21, 21, 24, 23, 26, 24, 29, 33, 23, 23, 21, 28, 20, 23, 20, 29, 32, 26, 27, 19, 23, 29, 31, 30, 40, 28, 29, 27, 26, 23, 32, 22, 32, 29, 21, 22, 25, 24, 23, 22, 27, 36, 26, 27, 27, 23, 23, 24, 29, 28, 22, 27, 31, 31, 21, 25, 32, 29, 25, 28, 23, 25, 25, 21, 33, 20, 28, 25, 24, 21, 24, 33, 31, 20, 23, 19, 21, 20, 34, 26, 28, 23, 30, 30, 32, 29, 25, 22, 32, 24, 21, 26, 30, 30, 29, 25, 26, 29, 22, 28, 32, 22, 20, 26, 22, 22, 23, 22, 21, 27, 26, 27, 29, 23, 25, 27, 24, 32, 42, 19, 24, 25, 36, 31, 27, 26, 21, 21, 31, 31, 26, 28, 28, 26, 28, 38, 28, 28, 30, 25, 29, 29, 24, 28, 33, 29, 25, 22, 19, 24, 32, 25, 33, 24, 30, 31, 24, 28, 29, 23, 29, 27, 20, 25, 25, 25, 26, 21, 28, 30, 27, 34, 32, 28, 33, 20, 26, 23, 30, 34, 25, 24, 26, 31, 28, 33, 28, 32, 29, 26, 29, 25, 25, 35, 24, 27, 26, 25, 23, 28, 23, 23, 26, 32, 27, 28, 29, 24, 25, 26, 32, 25, 20, 22, 29, 35, 31, 31, 21, 26, 21, 24, 20, 19, 21, 23, 28, 34, 31, 31, 22, 26, 23, 23, 21, 22, 30, 27, 25, 26, 22, 25, 27, 27, 19, 23, 37, 20, 23, 26, 23, 24, 25, 27, 24, 28, 30, 33, 22, 30, 30, 30, 32, 23, 28, 21, 21, 32, 27, 26, 27, 31, 27, 20, 27, 31, 28, 30, 33, 27, 22, 20, 29, 29, 29, 23, 22, 21, 27, 26, 27, 33, 40, 20, 24, 26, 25, 23, 21, 20, 26, 27, 23, 23, 23, 36, 30, 33, 24, 24, 28, 23, 25, 23, 27, 25, 25, 24, 34, 25, 26, 20, 32, 30, 27, 24, 28, 22, 22, 24, 27, 25, 30, 24, 20, 21, 28, 24, 22, 29, 24, 21, 30, 27, 21, 28, 20, 30, 32, 30, 28, 27, 33, 23, 23, 33, 30, 22, 26, 24, 23, 28, 37, 27, 28, 28, 24, 25, 30, 24, 29, 23, 23, 24, 32, 32, 22, 22, 26, 30, 20, 26, 22, 21, 26, 22, 34, 24, 21, 26, 25, 35, 22, 25, 34, 32, 21, 24, 22, 35, 27, 19, 29, 24, 31, 33, 30, 19, 26, 23, 33, 25, 27, 31, 27, 27, 31, 30, 27, 30, 20, 23, 22, 29, 23, 21, 27, 24, 23, 23, 20, 23, 22, 28, 28, 30, 26, 25, 24, 20, 28, 25, 26, 32, 22, 23, 27, 22, 32, 27, 29, 27, 29, 29, 20, 29, 26, 22, 30, 30, 21, 30, 26, 23, 20, 20, 25, 19, 33, 26, 25, 32, 25, 29, 28, 27, 21, 26, 26, 27, 22, 21, 31, 28, 20, 35, 33, 29, 34, 21, 21, 27, 24, 31, 24, 26, 25, 32, 29, 29, 33, 21, 27, 30, 26, 26, 25, 28, 27, 24, 19, 29, 29, 24, 20, 24, 27, 33, 28, 23, 29, 30, 25, 26, 27, 33, 26, 34, 21, 22, 23, 30, 32, 32, 22, 27, 22, 25, 20, 24, 29, 35, 23, 32, 27, 24, 24, 22, 23, 31, 28, 26, 27, 23, 28, 28, 20, 22, 24, 38, 24, 23, 27, 24, 25, 27, 26, 28, 27, 25, 29, 31, 31, 33, 24, 24, 33, 22, 24, 24, 33, 24, 28, 27, 28, 32, 28, 23, 26, 28, 29, 21, 28, 31, 34, 23, 23, 21, 30, 20, 30, 30, 24, 23, 23, 22, 22, 26, 27, 28, 25, 21, 24, 26, 24, 21, 28, 24, 24, 24, 23, 24, 34, 25, 29, 24, 20, 19, 24, 24, 28, 26, 25, 20, 35, 20, 26, 27, 25, 26, 21, 33, 31, 28, 25, 29, 23, 23, 25, 28, 26, 31, 21, 22, 25, 23, 20, 25, 22, 31, 28, 22, 21, 31, 33, 27, 30, 28, 22, 34, 24, 21, 34, 23, 27, 25, 29, 22, 29, 25, 30, 26, 21, 31, 19, 25, 30, 24, 21, 25, 33, 33, 24, 27, 31, 21, 27, 22], \"xaxis\": \"x\", \"yaxis\": \"y\"}],\n",
       "                        {\"bargroupgap\": 0.2, \"barmode\": \"relative\", \"legend\": {\"tracegroupgap\": 0}, \"margin\": {\"t\": 60}, \"template\": {\"data\": {\"bar\": [{\"error_x\": {\"color\": \"#2a3f5f\"}, \"error_y\": {\"color\": \"#2a3f5f\"}, \"marker\": {\"line\": {\"color\": \"#E5ECF6\", \"width\": 0.5}}, \"type\": \"bar\"}], \"barpolar\": [{\"marker\": {\"line\": {\"color\": \"#E5ECF6\", \"width\": 0.5}}, \"type\": \"barpolar\"}], \"carpet\": [{\"aaxis\": {\"endlinecolor\": \"#2a3f5f\", \"gridcolor\": \"white\", \"linecolor\": \"white\", \"minorgridcolor\": \"white\", \"startlinecolor\": \"#2a3f5f\"}, \"baxis\": {\"endlinecolor\": \"#2a3f5f\", \"gridcolor\": \"white\", \"linecolor\": \"white\", \"minorgridcolor\": \"white\", \"startlinecolor\": \"#2a3f5f\"}, \"type\": \"carpet\"}], \"choropleth\": [{\"colorbar\": {\"outlinewidth\": 0, \"ticks\": \"\"}, \"type\": \"choropleth\"}], \"contour\": [{\"colorbar\": {\"outlinewidth\": 0, \"ticks\": \"\"}, \"colorscale\": [[0.0, \"#0d0887\"], [0.1111111111111111, \"#46039f\"], [0.2222222222222222, \"#7201a8\"], [0.3333333333333333, \"#9c179e\"], [0.4444444444444444, \"#bd3786\"], [0.5555555555555556, \"#d8576b\"], [0.6666666666666666, \"#ed7953\"], [0.7777777777777778, \"#fb9f3a\"], [0.8888888888888888, \"#fdca26\"], [1.0, \"#f0f921\"]], \"type\": \"contour\"}], \"contourcarpet\": [{\"colorbar\": {\"outlinewidth\": 0, \"ticks\": \"\"}, \"type\": \"contourcarpet\"}], \"heatmap\": [{\"colorbar\": {\"outlinewidth\": 0, \"ticks\": \"\"}, \"colorscale\": [[0.0, \"#0d0887\"], [0.1111111111111111, \"#46039f\"], [0.2222222222222222, \"#7201a8\"], [0.3333333333333333, \"#9c179e\"], [0.4444444444444444, \"#bd3786\"], [0.5555555555555556, \"#d8576b\"], [0.6666666666666666, \"#ed7953\"], [0.7777777777777778, \"#fb9f3a\"], [0.8888888888888888, \"#fdca26\"], [1.0, \"#f0f921\"]], \"type\": \"heatmap\"}], \"heatmapgl\": [{\"colorbar\": {\"outlinewidth\": 0, \"ticks\": \"\"}, \"colorscale\": [[0.0, \"#0d0887\"], [0.1111111111111111, \"#46039f\"], [0.2222222222222222, \"#7201a8\"], [0.3333333333333333, \"#9c179e\"], [0.4444444444444444, \"#bd3786\"], [0.5555555555555556, \"#d8576b\"], [0.6666666666666666, \"#ed7953\"], [0.7777777777777778, \"#fb9f3a\"], [0.8888888888888888, \"#fdca26\"], [1.0, \"#f0f921\"]], \"type\": \"heatmapgl\"}], \"histogram\": [{\"marker\": {\"colorbar\": {\"outlinewidth\": 0, \"ticks\": \"\"}}, \"type\": \"histogram\"}], \"histogram2d\": [{\"colorbar\": {\"outlinewidth\": 0, \"ticks\": \"\"}, \"colorscale\": [[0.0, \"#0d0887\"], [0.1111111111111111, \"#46039f\"], [0.2222222222222222, \"#7201a8\"], [0.3333333333333333, \"#9c179e\"], [0.4444444444444444, \"#bd3786\"], [0.5555555555555556, \"#d8576b\"], [0.6666666666666666, \"#ed7953\"], [0.7777777777777778, \"#fb9f3a\"], [0.8888888888888888, \"#fdca26\"], [1.0, \"#f0f921\"]], \"type\": \"histogram2d\"}], \"histogram2dcontour\": [{\"colorbar\": {\"outlinewidth\": 0, \"ticks\": \"\"}, \"colorscale\": [[0.0, \"#0d0887\"], [0.1111111111111111, \"#46039f\"], [0.2222222222222222, \"#7201a8\"], [0.3333333333333333, \"#9c179e\"], [0.4444444444444444, \"#bd3786\"], [0.5555555555555556, \"#d8576b\"], [0.6666666666666666, \"#ed7953\"], [0.7777777777777778, \"#fb9f3a\"], [0.8888888888888888, \"#fdca26\"], [1.0, \"#f0f921\"]], \"type\": \"histogram2dcontour\"}], \"mesh3d\": [{\"colorbar\": {\"outlinewidth\": 0, \"ticks\": \"\"}, \"type\": \"mesh3d\"}], \"parcoords\": [{\"line\": {\"colorbar\": {\"outlinewidth\": 0, \"ticks\": \"\"}}, \"type\": \"parcoords\"}], \"pie\": [{\"automargin\": true, \"type\": \"pie\"}], \"scatter\": [{\"marker\": {\"colorbar\": {\"outlinewidth\": 0, \"ticks\": \"\"}}, \"type\": \"scatter\"}], \"scatter3d\": [{\"line\": {\"colorbar\": {\"outlinewidth\": 0, \"ticks\": \"\"}}, \"marker\": {\"colorbar\": {\"outlinewidth\": 0, \"ticks\": \"\"}}, \"type\": \"scatter3d\"}], \"scattercarpet\": [{\"marker\": {\"colorbar\": {\"outlinewidth\": 0, \"ticks\": \"\"}}, \"type\": \"scattercarpet\"}], \"scattergeo\": [{\"marker\": {\"colorbar\": {\"outlinewidth\": 0, \"ticks\": \"\"}}, \"type\": \"scattergeo\"}], \"scattergl\": [{\"marker\": {\"colorbar\": {\"outlinewidth\": 0, \"ticks\": \"\"}}, \"type\": \"scattergl\"}], \"scattermapbox\": [{\"marker\": {\"colorbar\": {\"outlinewidth\": 0, \"ticks\": \"\"}}, \"type\": \"scattermapbox\"}], \"scatterpolar\": [{\"marker\": {\"colorbar\": {\"outlinewidth\": 0, \"ticks\": \"\"}}, \"type\": \"scatterpolar\"}], \"scatterpolargl\": [{\"marker\": {\"colorbar\": {\"outlinewidth\": 0, \"ticks\": \"\"}}, \"type\": \"scatterpolargl\"}], \"scatterternary\": [{\"marker\": {\"colorbar\": {\"outlinewidth\": 0, \"ticks\": \"\"}}, \"type\": \"scatterternary\"}], \"surface\": [{\"colorbar\": {\"outlinewidth\": 0, \"ticks\": \"\"}, \"colorscale\": [[0.0, \"#0d0887\"], [0.1111111111111111, \"#46039f\"], [0.2222222222222222, \"#7201a8\"], [0.3333333333333333, \"#9c179e\"], [0.4444444444444444, \"#bd3786\"], [0.5555555555555556, \"#d8576b\"], [0.6666666666666666, \"#ed7953\"], [0.7777777777777778, \"#fb9f3a\"], [0.8888888888888888, \"#fdca26\"], [1.0, \"#f0f921\"]], \"type\": \"surface\"}], \"table\": [{\"cells\": {\"fill\": {\"color\": \"#EBF0F8\"}, \"line\": {\"color\": \"white\"}}, \"header\": {\"fill\": {\"color\": \"#C8D4E3\"}, \"line\": {\"color\": \"white\"}}, \"type\": \"table\"}]}, \"layout\": {\"annotationdefaults\": {\"arrowcolor\": \"#2a3f5f\", \"arrowhead\": 0, \"arrowwidth\": 1}, \"coloraxis\": {\"colorbar\": {\"outlinewidth\": 0, \"ticks\": \"\"}}, \"colorscale\": {\"diverging\": [[0, \"#8e0152\"], [0.1, \"#c51b7d\"], [0.2, \"#de77ae\"], [0.3, \"#f1b6da\"], [0.4, \"#fde0ef\"], [0.5, \"#f7f7f7\"], [0.6, \"#e6f5d0\"], [0.7, \"#b8e186\"], [0.8, \"#7fbc41\"], [0.9, \"#4d9221\"], [1, \"#276419\"]], \"sequential\": [[0.0, \"#0d0887\"], [0.1111111111111111, \"#46039f\"], [0.2222222222222222, \"#7201a8\"], [0.3333333333333333, \"#9c179e\"], [0.4444444444444444, \"#bd3786\"], [0.5555555555555556, \"#d8576b\"], [0.6666666666666666, \"#ed7953\"], [0.7777777777777778, \"#fb9f3a\"], [0.8888888888888888, \"#fdca26\"], [1.0, \"#f0f921\"]], \"sequentialminus\": [[0.0, \"#0d0887\"], [0.1111111111111111, \"#46039f\"], [0.2222222222222222, \"#7201a8\"], [0.3333333333333333, \"#9c179e\"], [0.4444444444444444, \"#bd3786\"], [0.5555555555555556, \"#d8576b\"], [0.6666666666666666, \"#ed7953\"], [0.7777777777777778, \"#fb9f3a\"], [0.8888888888888888, \"#fdca26\"], [1.0, \"#f0f921\"]]}, \"colorway\": [\"#636efa\", \"#EF553B\", \"#00cc96\", \"#ab63fa\", \"#FFA15A\", \"#19d3f3\", \"#FF6692\", \"#B6E880\", \"#FF97FF\", \"#FECB52\"], \"font\": {\"color\": \"#2a3f5f\"}, \"geo\": {\"bgcolor\": \"white\", \"lakecolor\": \"white\", \"landcolor\": \"#E5ECF6\", \"showlakes\": true, \"showland\": true, \"subunitcolor\": \"white\"}, \"hoverlabel\": {\"align\": \"left\"}, \"hovermode\": \"closest\", \"mapbox\": {\"style\": \"light\"}, \"paper_bgcolor\": \"white\", \"plot_bgcolor\": \"#E5ECF6\", \"polar\": {\"angularaxis\": {\"gridcolor\": \"white\", \"linecolor\": \"white\", \"ticks\": \"\"}, \"bgcolor\": \"#E5ECF6\", \"radialaxis\": {\"gridcolor\": \"white\", \"linecolor\": \"white\", \"ticks\": \"\"}}, \"scene\": {\"xaxis\": {\"backgroundcolor\": \"#E5ECF6\", \"gridcolor\": \"white\", \"gridwidth\": 2, \"linecolor\": \"white\", \"showbackground\": true, \"ticks\": \"\", \"zerolinecolor\": \"white\"}, \"yaxis\": {\"backgroundcolor\": \"#E5ECF6\", \"gridcolor\": \"white\", \"gridwidth\": 2, \"linecolor\": \"white\", \"showbackground\": true, \"ticks\": \"\", \"zerolinecolor\": \"white\"}, \"zaxis\": {\"backgroundcolor\": \"#E5ECF6\", \"gridcolor\": \"white\", \"gridwidth\": 2, \"linecolor\": \"white\", \"showbackground\": true, \"ticks\": \"\", \"zerolinecolor\": \"white\"}}, \"shapedefaults\": {\"line\": {\"color\": \"#2a3f5f\"}}, \"ternary\": {\"aaxis\": {\"gridcolor\": \"white\", \"linecolor\": \"white\", \"ticks\": \"\"}, \"baxis\": {\"gridcolor\": \"white\", \"linecolor\": \"white\", \"ticks\": \"\"}, \"bgcolor\": \"#E5ECF6\", \"caxis\": {\"gridcolor\": \"white\", \"linecolor\": \"white\", \"ticks\": \"\"}}, \"title\": {\"x\": 0.05}, \"xaxis\": {\"automargin\": true, \"gridcolor\": \"white\", \"linecolor\": \"white\", \"ticks\": \"\", \"title\": {\"standoff\": 15}, \"zerolinecolor\": \"white\", \"zerolinewidth\": 2}, \"yaxis\": {\"automargin\": true, \"gridcolor\": \"white\", \"linecolor\": \"white\", \"ticks\": \"\", \"title\": {\"standoff\": 15}, \"zerolinecolor\": \"white\", \"zerolinewidth\": 2}}}, \"xaxis\": {\"anchor\": \"y\", \"domain\": [0.0, 1.0], \"title\": {\"text\": \"AGE\"}}, \"yaxis\": {\"anchor\": \"x\", \"domain\": [0.0, 1.0], \"title\": {\"text\": \"count\"}}},\n",
       "                        {\"responsive\": true}\n",
       "                    ).then(function(){\n",
       "                            \n",
       "var gd = document.getElementById('27d1efc1-87a6-47d1-bb1d-2f1b3ba203c9');\n",
       "var x = new MutationObserver(function (mutations, observer) {{\n",
       "        var display = window.getComputedStyle(gd).display;\n",
       "        if (!display || display === 'none') {{\n",
       "            console.log([gd, 'removed!']);\n",
       "            Plotly.purge(gd);\n",
       "            observer.disconnect();\n",
       "        }}\n",
       "}});\n",
       "\n",
       "// Listen for the removal of the full notebook cells\n",
       "var notebookContainer = gd.closest('#notebook-container');\n",
       "if (notebookContainer) {{\n",
       "    x.observe(notebookContainer, {childList: true});\n",
       "}}\n",
       "\n",
       "// Listen for the clearing of the current output cell\n",
       "var outputEl = gd.closest('.output');\n",
       "if (outputEl) {{\n",
       "    x.observe(outputEl, {childList: true});\n",
       "}}\n",
       "\n",
       "                        })\n",
       "                };\n",
       "                });\n",
       "            </script>\n",
       "        </div>"
      ]
     },
     "metadata": {},
     "output_type": "display_data"
    }
   ],
   "source": [
    "fig = px.histogram(players_df, x=\"AGE\")\n",
    "fig.update_layout(bargroupgap=0.2)\n",
    "fig.show()"
   ]
  },
  {
   "cell_type": "markdown",
   "metadata": {},
   "source": [
    "<h2> Now we are going to find the average stats for this pool of players based upon their age </h2>"
   ]
  },
  {
   "cell_type": "code",
   "execution_count": 70,
   "metadata": {},
   "outputs": [
    {
     "data": {
      "text/html": [
       "<div>\n",
       "<style scoped>\n",
       "    .dataframe tbody tr th:only-of-type {\n",
       "        vertical-align: middle;\n",
       "    }\n",
       "\n",
       "    .dataframe tbody tr th {\n",
       "        vertical-align: top;\n",
       "    }\n",
       "\n",
       "    .dataframe thead th {\n",
       "        text-align: right;\n",
       "    }\n",
       "</style>\n",
       "<table border=\"1\" class=\"dataframe\">\n",
       "  <thead>\n",
       "    <tr style=\"text-align: right;\">\n",
       "      <th></th>\n",
       "      <th>AGE</th>\n",
       "      <th>G</th>\n",
       "      <th>MP</th>\n",
       "      <th>3P%</th>\n",
       "      <th>FTA</th>\n",
       "      <th>FT%</th>\n",
       "      <th>ORB</th>\n",
       "      <th>DRB</th>\n",
       "      <th>TRB</th>\n",
       "      <th>AST</th>\n",
       "      <th>STL</th>\n",
       "      <th>BLK</th>\n",
       "      <th>TOV</th>\n",
       "      <th>PF</th>\n",
       "      <th>PTS</th>\n",
       "    </tr>\n",
       "  </thead>\n",
       "  <tbody>\n",
       "    <tr>\n",
       "      <td>0</td>\n",
       "      <td>19.0</td>\n",
       "      <td>63.214286</td>\n",
       "      <td>36.0</td>\n",
       "      <td>0.280905</td>\n",
       "      <td>3.452434</td>\n",
       "      <td>0.711524</td>\n",
       "      <td>1.721120</td>\n",
       "      <td>4.853938</td>\n",
       "      <td>6.570292</td>\n",
       "      <td>2.702374</td>\n",
       "      <td>1.073512</td>\n",
       "      <td>1.007940</td>\n",
       "      <td>2.233642</td>\n",
       "      <td>3.337155</td>\n",
       "      <td>14.392423</td>\n",
       "    </tr>\n",
       "    <tr>\n",
       "      <td>1</td>\n",
       "      <td>20.0</td>\n",
       "      <td>67.043860</td>\n",
       "      <td>36.0</td>\n",
       "      <td>0.294360</td>\n",
       "      <td>3.484924</td>\n",
       "      <td>0.726553</td>\n",
       "      <td>1.817071</td>\n",
       "      <td>4.921409</td>\n",
       "      <td>6.731492</td>\n",
       "      <td>2.817831</td>\n",
       "      <td>1.164888</td>\n",
       "      <td>0.902586</td>\n",
       "      <td>2.163616</td>\n",
       "      <td>3.406573</td>\n",
       "      <td>14.668689</td>\n",
       "    </tr>\n",
       "    <tr>\n",
       "      <td>2</td>\n",
       "      <td>21.0</td>\n",
       "      <td>65.373563</td>\n",
       "      <td>36.0</td>\n",
       "      <td>0.267661</td>\n",
       "      <td>3.570007</td>\n",
       "      <td>0.735632</td>\n",
       "      <td>1.802133</td>\n",
       "      <td>4.903353</td>\n",
       "      <td>6.716543</td>\n",
       "      <td>3.051189</td>\n",
       "      <td>1.157634</td>\n",
       "      <td>0.817310</td>\n",
       "      <td>2.172458</td>\n",
       "      <td>3.261381</td>\n",
       "      <td>15.245705</td>\n",
       "    </tr>\n",
       "    <tr>\n",
       "      <td>3</td>\n",
       "      <td>22.0</td>\n",
       "      <td>64.750000</td>\n",
       "      <td>36.0</td>\n",
       "      <td>0.285716</td>\n",
       "      <td>3.478105</td>\n",
       "      <td>0.740237</td>\n",
       "      <td>1.761343</td>\n",
       "      <td>4.958975</td>\n",
       "      <td>6.718344</td>\n",
       "      <td>3.082924</td>\n",
       "      <td>1.157117</td>\n",
       "      <td>0.811705</td>\n",
       "      <td>2.076054</td>\n",
       "      <td>3.200151</td>\n",
       "      <td>15.331974</td>\n",
       "    </tr>\n",
       "    <tr>\n",
       "      <td>4</td>\n",
       "      <td>23.0</td>\n",
       "      <td>64.578073</td>\n",
       "      <td>36.0</td>\n",
       "      <td>0.288003</td>\n",
       "      <td>3.317661</td>\n",
       "      <td>0.746282</td>\n",
       "      <td>1.626401</td>\n",
       "      <td>4.716622</td>\n",
       "      <td>6.339098</td>\n",
       "      <td>3.180512</td>\n",
       "      <td>1.184556</td>\n",
       "      <td>0.745243</td>\n",
       "      <td>2.041080</td>\n",
       "      <td>3.113980</td>\n",
       "      <td>14.964659</td>\n",
       "    </tr>\n",
       "    <tr>\n",
       "      <td>5</td>\n",
       "      <td>24.0</td>\n",
       "      <td>64.235294</td>\n",
       "      <td>36.0</td>\n",
       "      <td>0.286056</td>\n",
       "      <td>3.405982</td>\n",
       "      <td>0.750935</td>\n",
       "      <td>1.655051</td>\n",
       "      <td>4.759210</td>\n",
       "      <td>6.404261</td>\n",
       "      <td>3.151619</td>\n",
       "      <td>1.166081</td>\n",
       "      <td>0.761624</td>\n",
       "      <td>1.962700</td>\n",
       "      <td>3.092064</td>\n",
       "      <td>15.131671</td>\n",
       "    </tr>\n",
       "    <tr>\n",
       "      <td>6</td>\n",
       "      <td>25.0</td>\n",
       "      <td>65.125000</td>\n",
       "      <td>36.0</td>\n",
       "      <td>0.298253</td>\n",
       "      <td>3.526151</td>\n",
       "      <td>0.755543</td>\n",
       "      <td>1.655166</td>\n",
       "      <td>4.786718</td>\n",
       "      <td>6.433531</td>\n",
       "      <td>3.179444</td>\n",
       "      <td>1.192180</td>\n",
       "      <td>0.776127</td>\n",
       "      <td>1.979586</td>\n",
       "      <td>3.041926</td>\n",
       "      <td>15.639573</td>\n",
       "    </tr>\n",
       "    <tr>\n",
       "      <td>7</td>\n",
       "      <td>26.0</td>\n",
       "      <td>64.376271</td>\n",
       "      <td>36.0</td>\n",
       "      <td>0.290136</td>\n",
       "      <td>3.510889</td>\n",
       "      <td>0.758895</td>\n",
       "      <td>1.627069</td>\n",
       "      <td>4.743162</td>\n",
       "      <td>6.367028</td>\n",
       "      <td>3.311047</td>\n",
       "      <td>1.144081</td>\n",
       "      <td>0.742339</td>\n",
       "      <td>1.996297</td>\n",
       "      <td>2.986480</td>\n",
       "      <td>15.572971</td>\n",
       "    </tr>\n",
       "    <tr>\n",
       "      <td>8</td>\n",
       "      <td>27.0</td>\n",
       "      <td>64.815972</td>\n",
       "      <td>36.0</td>\n",
       "      <td>0.285583</td>\n",
       "      <td>3.448434</td>\n",
       "      <td>0.771090</td>\n",
       "      <td>1.559545</td>\n",
       "      <td>4.836311</td>\n",
       "      <td>6.388198</td>\n",
       "      <td>3.398430</td>\n",
       "      <td>1.079985</td>\n",
       "      <td>0.701490</td>\n",
       "      <td>2.037369</td>\n",
       "      <td>2.944621</td>\n",
       "      <td>15.417006</td>\n",
       "    </tr>\n",
       "    <tr>\n",
       "      <td>9</td>\n",
       "      <td>28.0</td>\n",
       "      <td>64.866412</td>\n",
       "      <td>36.0</td>\n",
       "      <td>0.300576</td>\n",
       "      <td>3.356009</td>\n",
       "      <td>0.760084</td>\n",
       "      <td>1.525747</td>\n",
       "      <td>4.812573</td>\n",
       "      <td>6.333129</td>\n",
       "      <td>3.415247</td>\n",
       "      <td>1.113985</td>\n",
       "      <td>0.687155</td>\n",
       "      <td>2.011467</td>\n",
       "      <td>3.043139</td>\n",
       "      <td>15.388993</td>\n",
       "    </tr>\n",
       "    <tr>\n",
       "      <td>10</td>\n",
       "      <td>29.0</td>\n",
       "      <td>64.543860</td>\n",
       "      <td>36.0</td>\n",
       "      <td>0.298364</td>\n",
       "      <td>3.229048</td>\n",
       "      <td>0.764798</td>\n",
       "      <td>1.513469</td>\n",
       "      <td>4.879133</td>\n",
       "      <td>6.387122</td>\n",
       "      <td>3.328547</td>\n",
       "      <td>1.108387</td>\n",
       "      <td>0.643907</td>\n",
       "      <td>2.006999</td>\n",
       "      <td>2.972927</td>\n",
       "      <td>15.349023</td>\n",
       "    </tr>\n",
       "    <tr>\n",
       "      <td>11</td>\n",
       "      <td>30.0</td>\n",
       "      <td>63.955000</td>\n",
       "      <td>36.0</td>\n",
       "      <td>0.291855</td>\n",
       "      <td>3.207634</td>\n",
       "      <td>0.770135</td>\n",
       "      <td>1.485018</td>\n",
       "      <td>4.807225</td>\n",
       "      <td>6.289289</td>\n",
       "      <td>3.457170</td>\n",
       "      <td>1.080281</td>\n",
       "      <td>0.675641</td>\n",
       "      <td>1.976694</td>\n",
       "      <td>2.984754</td>\n",
       "      <td>14.765334</td>\n",
       "    </tr>\n",
       "    <tr>\n",
       "      <td>12</td>\n",
       "      <td>31.0</td>\n",
       "      <td>63.505882</td>\n",
       "      <td>36.0</td>\n",
       "      <td>0.310694</td>\n",
       "      <td>2.896717</td>\n",
       "      <td>0.762988</td>\n",
       "      <td>1.373305</td>\n",
       "      <td>4.636159</td>\n",
       "      <td>6.010377</td>\n",
       "      <td>3.393949</td>\n",
       "      <td>1.085045</td>\n",
       "      <td>0.630528</td>\n",
       "      <td>1.903141</td>\n",
       "      <td>2.924545</td>\n",
       "      <td>14.319807</td>\n",
       "    </tr>\n",
       "    <tr>\n",
       "      <td>13</td>\n",
       "      <td>32.0</td>\n",
       "      <td>61.686131</td>\n",
       "      <td>36.0</td>\n",
       "      <td>0.290496</td>\n",
       "      <td>2.917224</td>\n",
       "      <td>0.754460</td>\n",
       "      <td>1.477614</td>\n",
       "      <td>4.755192</td>\n",
       "      <td>6.222584</td>\n",
       "      <td>3.354307</td>\n",
       "      <td>1.086014</td>\n",
       "      <td>0.628141</td>\n",
       "      <td>1.938916</td>\n",
       "      <td>3.066461</td>\n",
       "      <td>14.087467</td>\n",
       "    </tr>\n",
       "    <tr>\n",
       "      <td>14</td>\n",
       "      <td>33.0</td>\n",
       "      <td>62.653846</td>\n",
       "      <td>36.0</td>\n",
       "      <td>0.292481</td>\n",
       "      <td>3.064884</td>\n",
       "      <td>0.767375</td>\n",
       "      <td>1.434099</td>\n",
       "      <td>4.896193</td>\n",
       "      <td>6.317833</td>\n",
       "      <td>3.551570</td>\n",
       "      <td>1.072245</td>\n",
       "      <td>0.646041</td>\n",
       "      <td>1.986050</td>\n",
       "      <td>2.981048</td>\n",
       "      <td>14.563364</td>\n",
       "    </tr>\n",
       "    <tr>\n",
       "      <td>15</td>\n",
       "      <td>34.0</td>\n",
       "      <td>63.426667</td>\n",
       "      <td>36.0</td>\n",
       "      <td>0.307533</td>\n",
       "      <td>2.963352</td>\n",
       "      <td>0.764853</td>\n",
       "      <td>1.502945</td>\n",
       "      <td>4.907634</td>\n",
       "      <td>6.417537</td>\n",
       "      <td>3.614543</td>\n",
       "      <td>1.051093</td>\n",
       "      <td>0.662192</td>\n",
       "      <td>1.954092</td>\n",
       "      <td>3.060299</td>\n",
       "      <td>13.818002</td>\n",
       "    </tr>\n",
       "    <tr>\n",
       "      <td>16</td>\n",
       "      <td>35.0</td>\n",
       "      <td>63.773585</td>\n",
       "      <td>36.0</td>\n",
       "      <td>0.303623</td>\n",
       "      <td>2.782480</td>\n",
       "      <td>0.771113</td>\n",
       "      <td>1.374883</td>\n",
       "      <td>4.796840</td>\n",
       "      <td>6.156136</td>\n",
       "      <td>3.647127</td>\n",
       "      <td>1.034017</td>\n",
       "      <td>0.716659</td>\n",
       "      <td>1.918667</td>\n",
       "      <td>2.847927</td>\n",
       "      <td>13.885384</td>\n",
       "    </tr>\n",
       "    <tr>\n",
       "      <td>17</td>\n",
       "      <td>36.0</td>\n",
       "      <td>61.538462</td>\n",
       "      <td>36.0</td>\n",
       "      <td>0.304436</td>\n",
       "      <td>2.776523</td>\n",
       "      <td>0.759308</td>\n",
       "      <td>1.334444</td>\n",
       "      <td>4.944987</td>\n",
       "      <td>6.316399</td>\n",
       "      <td>3.647366</td>\n",
       "      <td>1.016003</td>\n",
       "      <td>0.696353</td>\n",
       "      <td>1.915443</td>\n",
       "      <td>2.855683</td>\n",
       "      <td>13.217930</td>\n",
       "    </tr>\n",
       "    <tr>\n",
       "      <td>18</td>\n",
       "      <td>37.0</td>\n",
       "      <td>68.666667</td>\n",
       "      <td>36.0</td>\n",
       "      <td>0.308167</td>\n",
       "      <td>2.925499</td>\n",
       "      <td>0.767375</td>\n",
       "      <td>1.325879</td>\n",
       "      <td>5.148872</td>\n",
       "      <td>6.460626</td>\n",
       "      <td>4.262470</td>\n",
       "      <td>1.141430</td>\n",
       "      <td>0.784740</td>\n",
       "      <td>2.171633</td>\n",
       "      <td>2.844776</td>\n",
       "      <td>13.862387</td>\n",
       "    </tr>\n",
       "    <tr>\n",
       "      <td>19</td>\n",
       "      <td>38.0</td>\n",
       "      <td>59.411765</td>\n",
       "      <td>36.0</td>\n",
       "      <td>0.355941</td>\n",
       "      <td>2.594275</td>\n",
       "      <td>0.801176</td>\n",
       "      <td>0.984750</td>\n",
       "      <td>4.740714</td>\n",
       "      <td>5.703887</td>\n",
       "      <td>3.849556</td>\n",
       "      <td>1.171825</td>\n",
       "      <td>0.659292</td>\n",
       "      <td>2.070938</td>\n",
       "      <td>3.153204</td>\n",
       "      <td>13.390504</td>\n",
       "    </tr>\n",
       "    <tr>\n",
       "      <td>20</td>\n",
       "      <td>39.0</td>\n",
       "      <td>66.666667</td>\n",
       "      <td>36.0</td>\n",
       "      <td>0.286222</td>\n",
       "      <td>2.034785</td>\n",
       "      <td>0.792667</td>\n",
       "      <td>0.994694</td>\n",
       "      <td>4.854456</td>\n",
       "      <td>5.849150</td>\n",
       "      <td>3.121013</td>\n",
       "      <td>1.442048</td>\n",
       "      <td>0.770856</td>\n",
       "      <td>1.530484</td>\n",
       "      <td>3.207387</td>\n",
       "      <td>11.690853</td>\n",
       "    </tr>\n",
       "    <tr>\n",
       "      <td>21</td>\n",
       "      <td>40.0</td>\n",
       "      <td>53.800000</td>\n",
       "      <td>36.0</td>\n",
       "      <td>0.328800</td>\n",
       "      <td>2.121288</td>\n",
       "      <td>0.771400</td>\n",
       "      <td>0.440860</td>\n",
       "      <td>3.904823</td>\n",
       "      <td>4.345682</td>\n",
       "      <td>2.719045</td>\n",
       "      <td>1.129183</td>\n",
       "      <td>0.633321</td>\n",
       "      <td>1.619633</td>\n",
       "      <td>3.090078</td>\n",
       "      <td>11.925522</td>\n",
       "    </tr>\n",
       "  </tbody>\n",
       "</table>\n",
       "</div>"
      ],
      "text/plain": [
       "     AGE          G    MP       3P%       FTA       FT%       ORB       DRB  \\\n",
       "0   19.0  63.214286  36.0  0.280905  3.452434  0.711524  1.721120  4.853938   \n",
       "1   20.0  67.043860  36.0  0.294360  3.484924  0.726553  1.817071  4.921409   \n",
       "2   21.0  65.373563  36.0  0.267661  3.570007  0.735632  1.802133  4.903353   \n",
       "3   22.0  64.750000  36.0  0.285716  3.478105  0.740237  1.761343  4.958975   \n",
       "4   23.0  64.578073  36.0  0.288003  3.317661  0.746282  1.626401  4.716622   \n",
       "5   24.0  64.235294  36.0  0.286056  3.405982  0.750935  1.655051  4.759210   \n",
       "6   25.0  65.125000  36.0  0.298253  3.526151  0.755543  1.655166  4.786718   \n",
       "7   26.0  64.376271  36.0  0.290136  3.510889  0.758895  1.627069  4.743162   \n",
       "8   27.0  64.815972  36.0  0.285583  3.448434  0.771090  1.559545  4.836311   \n",
       "9   28.0  64.866412  36.0  0.300576  3.356009  0.760084  1.525747  4.812573   \n",
       "10  29.0  64.543860  36.0  0.298364  3.229048  0.764798  1.513469  4.879133   \n",
       "11  30.0  63.955000  36.0  0.291855  3.207634  0.770135  1.485018  4.807225   \n",
       "12  31.0  63.505882  36.0  0.310694  2.896717  0.762988  1.373305  4.636159   \n",
       "13  32.0  61.686131  36.0  0.290496  2.917224  0.754460  1.477614  4.755192   \n",
       "14  33.0  62.653846  36.0  0.292481  3.064884  0.767375  1.434099  4.896193   \n",
       "15  34.0  63.426667  36.0  0.307533  2.963352  0.764853  1.502945  4.907634   \n",
       "16  35.0  63.773585  36.0  0.303623  2.782480  0.771113  1.374883  4.796840   \n",
       "17  36.0  61.538462  36.0  0.304436  2.776523  0.759308  1.334444  4.944987   \n",
       "18  37.0  68.666667  36.0  0.308167  2.925499  0.767375  1.325879  5.148872   \n",
       "19  38.0  59.411765  36.0  0.355941  2.594275  0.801176  0.984750  4.740714   \n",
       "20  39.0  66.666667  36.0  0.286222  2.034785  0.792667  0.994694  4.854456   \n",
       "21  40.0  53.800000  36.0  0.328800  2.121288  0.771400  0.440860  3.904823   \n",
       "\n",
       "         TRB       AST       STL       BLK       TOV        PF        PTS  \n",
       "0   6.570292  2.702374  1.073512  1.007940  2.233642  3.337155  14.392423  \n",
       "1   6.731492  2.817831  1.164888  0.902586  2.163616  3.406573  14.668689  \n",
       "2   6.716543  3.051189  1.157634  0.817310  2.172458  3.261381  15.245705  \n",
       "3   6.718344  3.082924  1.157117  0.811705  2.076054  3.200151  15.331974  \n",
       "4   6.339098  3.180512  1.184556  0.745243  2.041080  3.113980  14.964659  \n",
       "5   6.404261  3.151619  1.166081  0.761624  1.962700  3.092064  15.131671  \n",
       "6   6.433531  3.179444  1.192180  0.776127  1.979586  3.041926  15.639573  \n",
       "7   6.367028  3.311047  1.144081  0.742339  1.996297  2.986480  15.572971  \n",
       "8   6.388198  3.398430  1.079985  0.701490  2.037369  2.944621  15.417006  \n",
       "9   6.333129  3.415247  1.113985  0.687155  2.011467  3.043139  15.388993  \n",
       "10  6.387122  3.328547  1.108387  0.643907  2.006999  2.972927  15.349023  \n",
       "11  6.289289  3.457170  1.080281  0.675641  1.976694  2.984754  14.765334  \n",
       "12  6.010377  3.393949  1.085045  0.630528  1.903141  2.924545  14.319807  \n",
       "13  6.222584  3.354307  1.086014  0.628141  1.938916  3.066461  14.087467  \n",
       "14  6.317833  3.551570  1.072245  0.646041  1.986050  2.981048  14.563364  \n",
       "15  6.417537  3.614543  1.051093  0.662192  1.954092  3.060299  13.818002  \n",
       "16  6.156136  3.647127  1.034017  0.716659  1.918667  2.847927  13.885384  \n",
       "17  6.316399  3.647366  1.016003  0.696353  1.915443  2.855683  13.217930  \n",
       "18  6.460626  4.262470  1.141430  0.784740  2.171633  2.844776  13.862387  \n",
       "19  5.703887  3.849556  1.171825  0.659292  2.070938  3.153204  13.390504  \n",
       "20  5.849150  3.121013  1.442048  0.770856  1.530484  3.207387  11.690853  \n",
       "21  4.345682  2.719045  1.129183  0.633321  1.619633  3.090078  11.925522  "
      ]
     },
     "execution_count": 70,
     "metadata": {},
     "output_type": "execute_result"
    }
   ],
   "source": [
    "columns = ['G','MP', '3P%', 'FTA', 'FT%','ORB', 'DRB', 'TRB', 'AST', 'STL', 'BLK', 'TOV', 'PF', 'PTS' ]\n",
    "\n",
    "df_by_age = pd.DataFrame(columns = ['AGE'] + columns )\n",
    "\n",
    "#iterating through all ages\n",
    "for age in range(19,41): \n",
    "    \n",
    "    curr_dict = dict.fromkeys(columns)\n",
    "\n",
    "    #extrating players that are only that age and the stats we can find the average of \n",
    "    curr_df = players_df[players_df['AGE'] == age]\n",
    "    curr_df = curr_df[columns]\n",
    "    \n",
    "    #getting the mean \n",
    "    avg_player = curr_df.mean()    \n",
    "    \n",
    "    for col in columns:\n",
    "        curr_dict[col] = avg_player[col]\n",
    "    \n",
    "    curr_dict['AGE'] = age\n",
    "    df_by_age = df_by_age.append(curr_dict, ignore_index=True)\n",
    "        \n",
    "  \n",
    "    \n",
    "df_by_age"
   ]
  },
  {
   "cell_type": "code",
   "execution_count": 71,
   "metadata": {},
   "outputs": [
    {
     "data": {
      "application/vnd.plotly.v1+json": {
       "config": {
        "plotlyServerURL": "https://plot.ly"
       },
       "data": [
        {
         "alignmentgroup": "True",
         "hovertemplate": "AGE=%{x}<br>TOV=%{y}<extra></extra>",
         "legendgroup": "",
         "marker": {
          "color": "#636efa"
         },
         "name": "",
         "offsetgroup": "",
         "orientation": "v",
         "showlegend": false,
         "textposition": "auto",
         "type": "bar",
         "x": [
          19,
          20,
          21,
          22,
          23,
          24,
          25,
          26,
          27,
          28,
          29,
          30,
          31,
          32,
          33,
          34,
          35,
          36,
          37,
          38,
          39,
          40
         ],
         "xaxis": "x",
         "y": [
          2.2336418631451815,
          2.1636162978188924,
          2.1724576453697027,
          2.076053988249793,
          2.0410798846964004,
          1.962699993422491,
          1.979585679889907,
          1.9962973922031209,
          2.037369055085819,
          2.0114673374152265,
          2.006999063856277,
          1.9766939337451024,
          1.9031410906328043,
          1.9389156697480558,
          1.9860500041192461,
          1.954091817557494,
          1.918667213460851,
          1.915443404262382,
          2.1716334324004567,
          2.0709383297777273,
          1.5304842364016689,
          1.6196325062435548
         ],
         "yaxis": "y"
        }
       ],
       "layout": {
        "barmode": "relative",
        "legend": {
         "tracegroupgap": 0
        },
        "margin": {
         "t": 60
        },
        "template": {
         "data": {
          "bar": [
           {
            "error_x": {
             "color": "#2a3f5f"
            },
            "error_y": {
             "color": "#2a3f5f"
            },
            "marker": {
             "line": {
              "color": "#E5ECF6",
              "width": 0.5
             }
            },
            "type": "bar"
           }
          ],
          "barpolar": [
           {
            "marker": {
             "line": {
              "color": "#E5ECF6",
              "width": 0.5
             }
            },
            "type": "barpolar"
           }
          ],
          "carpet": [
           {
            "aaxis": {
             "endlinecolor": "#2a3f5f",
             "gridcolor": "white",
             "linecolor": "white",
             "minorgridcolor": "white",
             "startlinecolor": "#2a3f5f"
            },
            "baxis": {
             "endlinecolor": "#2a3f5f",
             "gridcolor": "white",
             "linecolor": "white",
             "minorgridcolor": "white",
             "startlinecolor": "#2a3f5f"
            },
            "type": "carpet"
           }
          ],
          "choropleth": [
           {
            "colorbar": {
             "outlinewidth": 0,
             "ticks": ""
            },
            "type": "choropleth"
           }
          ],
          "contour": [
           {
            "colorbar": {
             "outlinewidth": 0,
             "ticks": ""
            },
            "colorscale": [
             [
              0,
              "#0d0887"
             ],
             [
              0.1111111111111111,
              "#46039f"
             ],
             [
              0.2222222222222222,
              "#7201a8"
             ],
             [
              0.3333333333333333,
              "#9c179e"
             ],
             [
              0.4444444444444444,
              "#bd3786"
             ],
             [
              0.5555555555555556,
              "#d8576b"
             ],
             [
              0.6666666666666666,
              "#ed7953"
             ],
             [
              0.7777777777777778,
              "#fb9f3a"
             ],
             [
              0.8888888888888888,
              "#fdca26"
             ],
             [
              1,
              "#f0f921"
             ]
            ],
            "type": "contour"
           }
          ],
          "contourcarpet": [
           {
            "colorbar": {
             "outlinewidth": 0,
             "ticks": ""
            },
            "type": "contourcarpet"
           }
          ],
          "heatmap": [
           {
            "colorbar": {
             "outlinewidth": 0,
             "ticks": ""
            },
            "colorscale": [
             [
              0,
              "#0d0887"
             ],
             [
              0.1111111111111111,
              "#46039f"
             ],
             [
              0.2222222222222222,
              "#7201a8"
             ],
             [
              0.3333333333333333,
              "#9c179e"
             ],
             [
              0.4444444444444444,
              "#bd3786"
             ],
             [
              0.5555555555555556,
              "#d8576b"
             ],
             [
              0.6666666666666666,
              "#ed7953"
             ],
             [
              0.7777777777777778,
              "#fb9f3a"
             ],
             [
              0.8888888888888888,
              "#fdca26"
             ],
             [
              1,
              "#f0f921"
             ]
            ],
            "type": "heatmap"
           }
          ],
          "heatmapgl": [
           {
            "colorbar": {
             "outlinewidth": 0,
             "ticks": ""
            },
            "colorscale": [
             [
              0,
              "#0d0887"
             ],
             [
              0.1111111111111111,
              "#46039f"
             ],
             [
              0.2222222222222222,
              "#7201a8"
             ],
             [
              0.3333333333333333,
              "#9c179e"
             ],
             [
              0.4444444444444444,
              "#bd3786"
             ],
             [
              0.5555555555555556,
              "#d8576b"
             ],
             [
              0.6666666666666666,
              "#ed7953"
             ],
             [
              0.7777777777777778,
              "#fb9f3a"
             ],
             [
              0.8888888888888888,
              "#fdca26"
             ],
             [
              1,
              "#f0f921"
             ]
            ],
            "type": "heatmapgl"
           }
          ],
          "histogram": [
           {
            "marker": {
             "colorbar": {
              "outlinewidth": 0,
              "ticks": ""
             }
            },
            "type": "histogram"
           }
          ],
          "histogram2d": [
           {
            "colorbar": {
             "outlinewidth": 0,
             "ticks": ""
            },
            "colorscale": [
             [
              0,
              "#0d0887"
             ],
             [
              0.1111111111111111,
              "#46039f"
             ],
             [
              0.2222222222222222,
              "#7201a8"
             ],
             [
              0.3333333333333333,
              "#9c179e"
             ],
             [
              0.4444444444444444,
              "#bd3786"
             ],
             [
              0.5555555555555556,
              "#d8576b"
             ],
             [
              0.6666666666666666,
              "#ed7953"
             ],
             [
              0.7777777777777778,
              "#fb9f3a"
             ],
             [
              0.8888888888888888,
              "#fdca26"
             ],
             [
              1,
              "#f0f921"
             ]
            ],
            "type": "histogram2d"
           }
          ],
          "histogram2dcontour": [
           {
            "colorbar": {
             "outlinewidth": 0,
             "ticks": ""
            },
            "colorscale": [
             [
              0,
              "#0d0887"
             ],
             [
              0.1111111111111111,
              "#46039f"
             ],
             [
              0.2222222222222222,
              "#7201a8"
             ],
             [
              0.3333333333333333,
              "#9c179e"
             ],
             [
              0.4444444444444444,
              "#bd3786"
             ],
             [
              0.5555555555555556,
              "#d8576b"
             ],
             [
              0.6666666666666666,
              "#ed7953"
             ],
             [
              0.7777777777777778,
              "#fb9f3a"
             ],
             [
              0.8888888888888888,
              "#fdca26"
             ],
             [
              1,
              "#f0f921"
             ]
            ],
            "type": "histogram2dcontour"
           }
          ],
          "mesh3d": [
           {
            "colorbar": {
             "outlinewidth": 0,
             "ticks": ""
            },
            "type": "mesh3d"
           }
          ],
          "parcoords": [
           {
            "line": {
             "colorbar": {
              "outlinewidth": 0,
              "ticks": ""
             }
            },
            "type": "parcoords"
           }
          ],
          "pie": [
           {
            "automargin": true,
            "type": "pie"
           }
          ],
          "scatter": [
           {
            "marker": {
             "colorbar": {
              "outlinewidth": 0,
              "ticks": ""
             }
            },
            "type": "scatter"
           }
          ],
          "scatter3d": [
           {
            "line": {
             "colorbar": {
              "outlinewidth": 0,
              "ticks": ""
             }
            },
            "marker": {
             "colorbar": {
              "outlinewidth": 0,
              "ticks": ""
             }
            },
            "type": "scatter3d"
           }
          ],
          "scattercarpet": [
           {
            "marker": {
             "colorbar": {
              "outlinewidth": 0,
              "ticks": ""
             }
            },
            "type": "scattercarpet"
           }
          ],
          "scattergeo": [
           {
            "marker": {
             "colorbar": {
              "outlinewidth": 0,
              "ticks": ""
             }
            },
            "type": "scattergeo"
           }
          ],
          "scattergl": [
           {
            "marker": {
             "colorbar": {
              "outlinewidth": 0,
              "ticks": ""
             }
            },
            "type": "scattergl"
           }
          ],
          "scattermapbox": [
           {
            "marker": {
             "colorbar": {
              "outlinewidth": 0,
              "ticks": ""
             }
            },
            "type": "scattermapbox"
           }
          ],
          "scatterpolar": [
           {
            "marker": {
             "colorbar": {
              "outlinewidth": 0,
              "ticks": ""
             }
            },
            "type": "scatterpolar"
           }
          ],
          "scatterpolargl": [
           {
            "marker": {
             "colorbar": {
              "outlinewidth": 0,
              "ticks": ""
             }
            },
            "type": "scatterpolargl"
           }
          ],
          "scatterternary": [
           {
            "marker": {
             "colorbar": {
              "outlinewidth": 0,
              "ticks": ""
             }
            },
            "type": "scatterternary"
           }
          ],
          "surface": [
           {
            "colorbar": {
             "outlinewidth": 0,
             "ticks": ""
            },
            "colorscale": [
             [
              0,
              "#0d0887"
             ],
             [
              0.1111111111111111,
              "#46039f"
             ],
             [
              0.2222222222222222,
              "#7201a8"
             ],
             [
              0.3333333333333333,
              "#9c179e"
             ],
             [
              0.4444444444444444,
              "#bd3786"
             ],
             [
              0.5555555555555556,
              "#d8576b"
             ],
             [
              0.6666666666666666,
              "#ed7953"
             ],
             [
              0.7777777777777778,
              "#fb9f3a"
             ],
             [
              0.8888888888888888,
              "#fdca26"
             ],
             [
              1,
              "#f0f921"
             ]
            ],
            "type": "surface"
           }
          ],
          "table": [
           {
            "cells": {
             "fill": {
              "color": "#EBF0F8"
             },
             "line": {
              "color": "white"
             }
            },
            "header": {
             "fill": {
              "color": "#C8D4E3"
             },
             "line": {
              "color": "white"
             }
            },
            "type": "table"
           }
          ]
         },
         "layout": {
          "annotationdefaults": {
           "arrowcolor": "#2a3f5f",
           "arrowhead": 0,
           "arrowwidth": 1
          },
          "coloraxis": {
           "colorbar": {
            "outlinewidth": 0,
            "ticks": ""
           }
          },
          "colorscale": {
           "diverging": [
            [
             0,
             "#8e0152"
            ],
            [
             0.1,
             "#c51b7d"
            ],
            [
             0.2,
             "#de77ae"
            ],
            [
             0.3,
             "#f1b6da"
            ],
            [
             0.4,
             "#fde0ef"
            ],
            [
             0.5,
             "#f7f7f7"
            ],
            [
             0.6,
             "#e6f5d0"
            ],
            [
             0.7,
             "#b8e186"
            ],
            [
             0.8,
             "#7fbc41"
            ],
            [
             0.9,
             "#4d9221"
            ],
            [
             1,
             "#276419"
            ]
           ],
           "sequential": [
            [
             0,
             "#0d0887"
            ],
            [
             0.1111111111111111,
             "#46039f"
            ],
            [
             0.2222222222222222,
             "#7201a8"
            ],
            [
             0.3333333333333333,
             "#9c179e"
            ],
            [
             0.4444444444444444,
             "#bd3786"
            ],
            [
             0.5555555555555556,
             "#d8576b"
            ],
            [
             0.6666666666666666,
             "#ed7953"
            ],
            [
             0.7777777777777778,
             "#fb9f3a"
            ],
            [
             0.8888888888888888,
             "#fdca26"
            ],
            [
             1,
             "#f0f921"
            ]
           ],
           "sequentialminus": [
            [
             0,
             "#0d0887"
            ],
            [
             0.1111111111111111,
             "#46039f"
            ],
            [
             0.2222222222222222,
             "#7201a8"
            ],
            [
             0.3333333333333333,
             "#9c179e"
            ],
            [
             0.4444444444444444,
             "#bd3786"
            ],
            [
             0.5555555555555556,
             "#d8576b"
            ],
            [
             0.6666666666666666,
             "#ed7953"
            ],
            [
             0.7777777777777778,
             "#fb9f3a"
            ],
            [
             0.8888888888888888,
             "#fdca26"
            ],
            [
             1,
             "#f0f921"
            ]
           ]
          },
          "colorway": [
           "#636efa",
           "#EF553B",
           "#00cc96",
           "#ab63fa",
           "#FFA15A",
           "#19d3f3",
           "#FF6692",
           "#B6E880",
           "#FF97FF",
           "#FECB52"
          ],
          "font": {
           "color": "#2a3f5f"
          },
          "geo": {
           "bgcolor": "white",
           "lakecolor": "white",
           "landcolor": "#E5ECF6",
           "showlakes": true,
           "showland": true,
           "subunitcolor": "white"
          },
          "hoverlabel": {
           "align": "left"
          },
          "hovermode": "closest",
          "mapbox": {
           "style": "light"
          },
          "paper_bgcolor": "white",
          "plot_bgcolor": "#E5ECF6",
          "polar": {
           "angularaxis": {
            "gridcolor": "white",
            "linecolor": "white",
            "ticks": ""
           },
           "bgcolor": "#E5ECF6",
           "radialaxis": {
            "gridcolor": "white",
            "linecolor": "white",
            "ticks": ""
           }
          },
          "scene": {
           "xaxis": {
            "backgroundcolor": "#E5ECF6",
            "gridcolor": "white",
            "gridwidth": 2,
            "linecolor": "white",
            "showbackground": true,
            "ticks": "",
            "zerolinecolor": "white"
           },
           "yaxis": {
            "backgroundcolor": "#E5ECF6",
            "gridcolor": "white",
            "gridwidth": 2,
            "linecolor": "white",
            "showbackground": true,
            "ticks": "",
            "zerolinecolor": "white"
           },
           "zaxis": {
            "backgroundcolor": "#E5ECF6",
            "gridcolor": "white",
            "gridwidth": 2,
            "linecolor": "white",
            "showbackground": true,
            "ticks": "",
            "zerolinecolor": "white"
           }
          },
          "shapedefaults": {
           "line": {
            "color": "#2a3f5f"
           }
          },
          "ternary": {
           "aaxis": {
            "gridcolor": "white",
            "linecolor": "white",
            "ticks": ""
           },
           "baxis": {
            "gridcolor": "white",
            "linecolor": "white",
            "ticks": ""
           },
           "bgcolor": "#E5ECF6",
           "caxis": {
            "gridcolor": "white",
            "linecolor": "white",
            "ticks": ""
           }
          },
          "title": {
           "x": 0.05
          },
          "xaxis": {
           "automargin": true,
           "gridcolor": "white",
           "linecolor": "white",
           "ticks": "",
           "title": {
            "standoff": 15
           },
           "zerolinecolor": "white",
           "zerolinewidth": 2
          },
          "yaxis": {
           "automargin": true,
           "gridcolor": "white",
           "linecolor": "white",
           "ticks": "",
           "title": {
            "standoff": 15
           },
           "zerolinecolor": "white",
           "zerolinewidth": 2
          }
         }
        },
        "xaxis": {
         "anchor": "y",
         "domain": [
          0,
          1
         ],
         "title": {
          "text": "AGE"
         }
        },
        "yaxis": {
         "anchor": "x",
         "domain": [
          0,
          1
         ],
         "title": {
          "text": "TOV"
         }
        }
       }
      },
      "text/html": [
       "<div>\n",
       "        \n",
       "        \n",
       "            <div id=\"d221858f-f3ce-4455-9b0c-5c4034bcec85\" class=\"plotly-graph-div\" style=\"height:525px; width:100%;\"></div>\n",
       "            <script type=\"text/javascript\">\n",
       "                require([\"plotly\"], function(Plotly) {\n",
       "                    window.PLOTLYENV=window.PLOTLYENV || {};\n",
       "                    \n",
       "                if (document.getElementById(\"d221858f-f3ce-4455-9b0c-5c4034bcec85\")) {\n",
       "                    Plotly.newPlot(\n",
       "                        'd221858f-f3ce-4455-9b0c-5c4034bcec85',\n",
       "                        [{\"alignmentgroup\": \"True\", \"hovertemplate\": \"AGE=%{x}<br>TOV=%{y}<extra></extra>\", \"legendgroup\": \"\", \"marker\": {\"color\": \"#636efa\"}, \"name\": \"\", \"offsetgroup\": \"\", \"orientation\": \"v\", \"showlegend\": false, \"textposition\": \"auto\", \"type\": \"bar\", \"x\": [19.0, 20.0, 21.0, 22.0, 23.0, 24.0, 25.0, 26.0, 27.0, 28.0, 29.0, 30.0, 31.0, 32.0, 33.0, 34.0, 35.0, 36.0, 37.0, 38.0, 39.0, 40.0], \"xaxis\": \"x\", \"y\": [2.2336418631451815, 2.1636162978188924, 2.1724576453697027, 2.076053988249793, 2.0410798846964004, 1.962699993422491, 1.979585679889907, 1.9962973922031209, 2.037369055085819, 2.0114673374152265, 2.006999063856277, 1.9766939337451024, 1.9031410906328043, 1.9389156697480558, 1.9860500041192461, 1.954091817557494, 1.918667213460851, 1.915443404262382, 2.1716334324004567, 2.0709383297777273, 1.5304842364016689, 1.6196325062435548], \"yaxis\": \"y\"}],\n",
       "                        {\"barmode\": \"relative\", \"legend\": {\"tracegroupgap\": 0}, \"margin\": {\"t\": 60}, \"template\": {\"data\": {\"bar\": [{\"error_x\": {\"color\": \"#2a3f5f\"}, \"error_y\": {\"color\": \"#2a3f5f\"}, \"marker\": {\"line\": {\"color\": \"#E5ECF6\", \"width\": 0.5}}, \"type\": \"bar\"}], \"barpolar\": [{\"marker\": {\"line\": {\"color\": \"#E5ECF6\", \"width\": 0.5}}, \"type\": \"barpolar\"}], \"carpet\": [{\"aaxis\": {\"endlinecolor\": \"#2a3f5f\", \"gridcolor\": \"white\", \"linecolor\": \"white\", \"minorgridcolor\": \"white\", \"startlinecolor\": \"#2a3f5f\"}, \"baxis\": {\"endlinecolor\": \"#2a3f5f\", \"gridcolor\": \"white\", \"linecolor\": \"white\", \"minorgridcolor\": \"white\", \"startlinecolor\": \"#2a3f5f\"}, \"type\": \"carpet\"}], \"choropleth\": [{\"colorbar\": {\"outlinewidth\": 0, \"ticks\": \"\"}, \"type\": \"choropleth\"}], \"contour\": [{\"colorbar\": {\"outlinewidth\": 0, \"ticks\": \"\"}, \"colorscale\": [[0.0, \"#0d0887\"], [0.1111111111111111, \"#46039f\"], [0.2222222222222222, \"#7201a8\"], [0.3333333333333333, \"#9c179e\"], [0.4444444444444444, \"#bd3786\"], [0.5555555555555556, \"#d8576b\"], [0.6666666666666666, \"#ed7953\"], [0.7777777777777778, \"#fb9f3a\"], [0.8888888888888888, \"#fdca26\"], [1.0, \"#f0f921\"]], \"type\": \"contour\"}], \"contourcarpet\": [{\"colorbar\": {\"outlinewidth\": 0, \"ticks\": \"\"}, \"type\": \"contourcarpet\"}], \"heatmap\": [{\"colorbar\": {\"outlinewidth\": 0, \"ticks\": \"\"}, \"colorscale\": [[0.0, \"#0d0887\"], [0.1111111111111111, \"#46039f\"], [0.2222222222222222, \"#7201a8\"], [0.3333333333333333, \"#9c179e\"], [0.4444444444444444, \"#bd3786\"], [0.5555555555555556, \"#d8576b\"], [0.6666666666666666, \"#ed7953\"], [0.7777777777777778, \"#fb9f3a\"], [0.8888888888888888, \"#fdca26\"], [1.0, \"#f0f921\"]], \"type\": \"heatmap\"}], \"heatmapgl\": [{\"colorbar\": {\"outlinewidth\": 0, \"ticks\": \"\"}, \"colorscale\": [[0.0, \"#0d0887\"], [0.1111111111111111, \"#46039f\"], [0.2222222222222222, \"#7201a8\"], [0.3333333333333333, \"#9c179e\"], [0.4444444444444444, \"#bd3786\"], [0.5555555555555556, \"#d8576b\"], [0.6666666666666666, \"#ed7953\"], [0.7777777777777778, \"#fb9f3a\"], [0.8888888888888888, \"#fdca26\"], [1.0, \"#f0f921\"]], \"type\": \"heatmapgl\"}], \"histogram\": [{\"marker\": {\"colorbar\": {\"outlinewidth\": 0, \"ticks\": \"\"}}, \"type\": \"histogram\"}], \"histogram2d\": [{\"colorbar\": {\"outlinewidth\": 0, \"ticks\": \"\"}, \"colorscale\": [[0.0, \"#0d0887\"], [0.1111111111111111, \"#46039f\"], [0.2222222222222222, \"#7201a8\"], [0.3333333333333333, \"#9c179e\"], [0.4444444444444444, \"#bd3786\"], [0.5555555555555556, \"#d8576b\"], [0.6666666666666666, \"#ed7953\"], [0.7777777777777778, \"#fb9f3a\"], [0.8888888888888888, \"#fdca26\"], [1.0, \"#f0f921\"]], \"type\": \"histogram2d\"}], \"histogram2dcontour\": [{\"colorbar\": {\"outlinewidth\": 0, \"ticks\": \"\"}, \"colorscale\": [[0.0, \"#0d0887\"], [0.1111111111111111, \"#46039f\"], [0.2222222222222222, \"#7201a8\"], [0.3333333333333333, \"#9c179e\"], [0.4444444444444444, \"#bd3786\"], [0.5555555555555556, \"#d8576b\"], [0.6666666666666666, \"#ed7953\"], [0.7777777777777778, \"#fb9f3a\"], [0.8888888888888888, \"#fdca26\"], [1.0, \"#f0f921\"]], \"type\": \"histogram2dcontour\"}], \"mesh3d\": [{\"colorbar\": {\"outlinewidth\": 0, \"ticks\": \"\"}, \"type\": \"mesh3d\"}], \"parcoords\": [{\"line\": {\"colorbar\": {\"outlinewidth\": 0, \"ticks\": \"\"}}, \"type\": \"parcoords\"}], \"pie\": [{\"automargin\": true, \"type\": \"pie\"}], \"scatter\": [{\"marker\": {\"colorbar\": {\"outlinewidth\": 0, \"ticks\": \"\"}}, \"type\": \"scatter\"}], \"scatter3d\": [{\"line\": {\"colorbar\": {\"outlinewidth\": 0, \"ticks\": \"\"}}, \"marker\": {\"colorbar\": {\"outlinewidth\": 0, \"ticks\": \"\"}}, \"type\": \"scatter3d\"}], \"scattercarpet\": [{\"marker\": {\"colorbar\": {\"outlinewidth\": 0, \"ticks\": \"\"}}, \"type\": \"scattercarpet\"}], \"scattergeo\": [{\"marker\": {\"colorbar\": {\"outlinewidth\": 0, \"ticks\": \"\"}}, \"type\": \"scattergeo\"}], \"scattergl\": [{\"marker\": {\"colorbar\": {\"outlinewidth\": 0, \"ticks\": \"\"}}, \"type\": \"scattergl\"}], \"scattermapbox\": [{\"marker\": {\"colorbar\": {\"outlinewidth\": 0, \"ticks\": \"\"}}, \"type\": \"scattermapbox\"}], \"scatterpolar\": [{\"marker\": {\"colorbar\": {\"outlinewidth\": 0, \"ticks\": \"\"}}, \"type\": \"scatterpolar\"}], \"scatterpolargl\": [{\"marker\": {\"colorbar\": {\"outlinewidth\": 0, \"ticks\": \"\"}}, \"type\": \"scatterpolargl\"}], \"scatterternary\": [{\"marker\": {\"colorbar\": {\"outlinewidth\": 0, \"ticks\": \"\"}}, \"type\": \"scatterternary\"}], \"surface\": [{\"colorbar\": {\"outlinewidth\": 0, \"ticks\": \"\"}, \"colorscale\": [[0.0, \"#0d0887\"], [0.1111111111111111, \"#46039f\"], [0.2222222222222222, \"#7201a8\"], [0.3333333333333333, \"#9c179e\"], [0.4444444444444444, \"#bd3786\"], [0.5555555555555556, \"#d8576b\"], [0.6666666666666666, \"#ed7953\"], [0.7777777777777778, \"#fb9f3a\"], [0.8888888888888888, \"#fdca26\"], [1.0, \"#f0f921\"]], \"type\": \"surface\"}], \"table\": [{\"cells\": {\"fill\": {\"color\": \"#EBF0F8\"}, \"line\": {\"color\": \"white\"}}, \"header\": {\"fill\": {\"color\": \"#C8D4E3\"}, \"line\": {\"color\": \"white\"}}, \"type\": \"table\"}]}, \"layout\": {\"annotationdefaults\": {\"arrowcolor\": \"#2a3f5f\", \"arrowhead\": 0, \"arrowwidth\": 1}, \"coloraxis\": {\"colorbar\": {\"outlinewidth\": 0, \"ticks\": \"\"}}, \"colorscale\": {\"diverging\": [[0, \"#8e0152\"], [0.1, \"#c51b7d\"], [0.2, \"#de77ae\"], [0.3, \"#f1b6da\"], [0.4, \"#fde0ef\"], [0.5, \"#f7f7f7\"], [0.6, \"#e6f5d0\"], [0.7, \"#b8e186\"], [0.8, \"#7fbc41\"], [0.9, \"#4d9221\"], [1, \"#276419\"]], \"sequential\": [[0.0, \"#0d0887\"], [0.1111111111111111, \"#46039f\"], [0.2222222222222222, \"#7201a8\"], [0.3333333333333333, \"#9c179e\"], [0.4444444444444444, \"#bd3786\"], [0.5555555555555556, \"#d8576b\"], [0.6666666666666666, \"#ed7953\"], [0.7777777777777778, \"#fb9f3a\"], [0.8888888888888888, \"#fdca26\"], [1.0, \"#f0f921\"]], \"sequentialminus\": [[0.0, \"#0d0887\"], [0.1111111111111111, \"#46039f\"], [0.2222222222222222, \"#7201a8\"], [0.3333333333333333, \"#9c179e\"], [0.4444444444444444, \"#bd3786\"], [0.5555555555555556, \"#d8576b\"], [0.6666666666666666, \"#ed7953\"], [0.7777777777777778, \"#fb9f3a\"], [0.8888888888888888, \"#fdca26\"], [1.0, \"#f0f921\"]]}, \"colorway\": [\"#636efa\", \"#EF553B\", \"#00cc96\", \"#ab63fa\", \"#FFA15A\", \"#19d3f3\", \"#FF6692\", \"#B6E880\", \"#FF97FF\", \"#FECB52\"], \"font\": {\"color\": \"#2a3f5f\"}, \"geo\": {\"bgcolor\": \"white\", \"lakecolor\": \"white\", \"landcolor\": \"#E5ECF6\", \"showlakes\": true, \"showland\": true, \"subunitcolor\": \"white\"}, \"hoverlabel\": {\"align\": \"left\"}, \"hovermode\": \"closest\", \"mapbox\": {\"style\": \"light\"}, \"paper_bgcolor\": \"white\", \"plot_bgcolor\": \"#E5ECF6\", \"polar\": {\"angularaxis\": {\"gridcolor\": \"white\", \"linecolor\": \"white\", \"ticks\": \"\"}, \"bgcolor\": \"#E5ECF6\", \"radialaxis\": {\"gridcolor\": \"white\", \"linecolor\": \"white\", \"ticks\": \"\"}}, \"scene\": {\"xaxis\": {\"backgroundcolor\": \"#E5ECF6\", \"gridcolor\": \"white\", \"gridwidth\": 2, \"linecolor\": \"white\", \"showbackground\": true, \"ticks\": \"\", \"zerolinecolor\": \"white\"}, \"yaxis\": {\"backgroundcolor\": \"#E5ECF6\", \"gridcolor\": \"white\", \"gridwidth\": 2, \"linecolor\": \"white\", \"showbackground\": true, \"ticks\": \"\", \"zerolinecolor\": \"white\"}, \"zaxis\": {\"backgroundcolor\": \"#E5ECF6\", \"gridcolor\": \"white\", \"gridwidth\": 2, \"linecolor\": \"white\", \"showbackground\": true, \"ticks\": \"\", \"zerolinecolor\": \"white\"}}, \"shapedefaults\": {\"line\": {\"color\": \"#2a3f5f\"}}, \"ternary\": {\"aaxis\": {\"gridcolor\": \"white\", \"linecolor\": \"white\", \"ticks\": \"\"}, \"baxis\": {\"gridcolor\": \"white\", \"linecolor\": \"white\", \"ticks\": \"\"}, \"bgcolor\": \"#E5ECF6\", \"caxis\": {\"gridcolor\": \"white\", \"linecolor\": \"white\", \"ticks\": \"\"}}, \"title\": {\"x\": 0.05}, \"xaxis\": {\"automargin\": true, \"gridcolor\": \"white\", \"linecolor\": \"white\", \"ticks\": \"\", \"title\": {\"standoff\": 15}, \"zerolinecolor\": \"white\", \"zerolinewidth\": 2}, \"yaxis\": {\"automargin\": true, \"gridcolor\": \"white\", \"linecolor\": \"white\", \"ticks\": \"\", \"title\": {\"standoff\": 15}, \"zerolinecolor\": \"white\", \"zerolinewidth\": 2}}}, \"xaxis\": {\"anchor\": \"y\", \"domain\": [0.0, 1.0], \"title\": {\"text\": \"AGE\"}}, \"yaxis\": {\"anchor\": \"x\", \"domain\": [0.0, 1.0], \"title\": {\"text\": \"TOV\"}}},\n",
       "                        {\"responsive\": true}\n",
       "                    ).then(function(){\n",
       "                            \n",
       "var gd = document.getElementById('d221858f-f3ce-4455-9b0c-5c4034bcec85');\n",
       "var x = new MutationObserver(function (mutations, observer) {{\n",
       "        var display = window.getComputedStyle(gd).display;\n",
       "        if (!display || display === 'none') {{\n",
       "            console.log([gd, 'removed!']);\n",
       "            Plotly.purge(gd);\n",
       "            observer.disconnect();\n",
       "        }}\n",
       "}});\n",
       "\n",
       "// Listen for the removal of the full notebook cells\n",
       "var notebookContainer = gd.closest('#notebook-container');\n",
       "if (notebookContainer) {{\n",
       "    x.observe(notebookContainer, {childList: true});\n",
       "}}\n",
       "\n",
       "// Listen for the clearing of the current output cell\n",
       "var outputEl = gd.closest('.output');\n",
       "if (outputEl) {{\n",
       "    x.observe(outputEl, {childList: true});\n",
       "}}\n",
       "\n",
       "                        })\n",
       "                };\n",
       "                });\n",
       "            </script>\n",
       "        </div>"
      ]
     },
     "metadata": {},
     "output_type": "display_data"
    }
   ],
   "source": [
    "fig = px.bar(df_by_age, x='AGE', y='TOV')\n",
    "fig.show()"
   ]
  },
  {
   "cell_type": "code",
   "execution_count": 65,
   "metadata": {},
   "outputs": [
    {
     "data": {
      "application/vnd.plotly.v1+json": {
       "config": {
        "plotlyServerURL": "https://plot.ly"
       },
       "data": [
        {
         "dimensions": [
          {
           "axis": {
            "matches": true
           },
           "label": "AGE",
           "values": [
            19,
            20,
            21,
            22,
            23,
            24,
            25,
            26,
            27,
            28,
            29,
            30,
            31,
            32,
            33,
            34,
            35,
            36,
            37,
            38,
            39,
            40
           ]
          },
          {
           "axis": {
            "matches": true
           },
           "label": "PTS",
           "values": [
            14.39242276929813,
            14.66868913030396,
            15.245704994215075,
            15.33197358270187,
            14.964659451652524,
            15.131671225535149,
            15.639572533424511,
            15.572971363459414,
            15.417006206589637,
            15.388992639497339,
            15.349023493954865,
            14.76533429264607,
            14.319807470123434,
            14.087466758017749,
            14.56336372377351,
            13.818001678200044,
            13.885384027704067,
            13.217930152343229,
            13.862387391664774,
            13.390503860993475,
            11.690852667209574,
            11.925521998434451
           ]
          },
          {
           "axis": {
            "matches": true
           },
           "label": "3P%",
           "values": [
            0.2809047619047619,
            0.29435964912280704,
            0.26766091954022986,
            0.28571551724137945,
            0.28800332225913616,
            0.28605572755417946,
            0.29825328947368396,
            0.2901355932203388,
            0.2855833333333331,
            0.30057633587786253,
            0.2983640350877192,
            0.29185499999999986,
            0.3106941176470588,
            0.29049635036496335,
            0.2924807692307692,
            0.3075333333333332,
            0.30362264150943397,
            0.30443589743589744,
            0.3081666666666667,
            0.3559411764705882,
            0.28622222222222216,
            0.3288
           ]
          },
          {
           "axis": {
            "matches": true
           },
           "label": "MP",
           "values": [
            36,
            36,
            36,
            36,
            36,
            36,
            36,
            36,
            36,
            36,
            36,
            36,
            36,
            36,
            36,
            36,
            36,
            36,
            36,
            36,
            36,
            36
           ]
          }
         ],
         "hovertemplate": "%{xaxis.title.text}=%{x}<br>%{yaxis.title.text}=%{y}<extra></extra>",
         "legendgroup": "",
         "marker": {
          "color": "#636efa",
          "symbol": "circle"
         },
         "name": "",
         "showlegend": false,
         "type": "splom"
        }
       ],
       "layout": {
        "dragmode": "select",
        "legend": {
         "tracegroupgap": 0
        },
        "margin": {
         "t": 60
        },
        "template": {
         "data": {
          "bar": [
           {
            "error_x": {
             "color": "#2a3f5f"
            },
            "error_y": {
             "color": "#2a3f5f"
            },
            "marker": {
             "line": {
              "color": "#E5ECF6",
              "width": 0.5
             }
            },
            "type": "bar"
           }
          ],
          "barpolar": [
           {
            "marker": {
             "line": {
              "color": "#E5ECF6",
              "width": 0.5
             }
            },
            "type": "barpolar"
           }
          ],
          "carpet": [
           {
            "aaxis": {
             "endlinecolor": "#2a3f5f",
             "gridcolor": "white",
             "linecolor": "white",
             "minorgridcolor": "white",
             "startlinecolor": "#2a3f5f"
            },
            "baxis": {
             "endlinecolor": "#2a3f5f",
             "gridcolor": "white",
             "linecolor": "white",
             "minorgridcolor": "white",
             "startlinecolor": "#2a3f5f"
            },
            "type": "carpet"
           }
          ],
          "choropleth": [
           {
            "colorbar": {
             "outlinewidth": 0,
             "ticks": ""
            },
            "type": "choropleth"
           }
          ],
          "contour": [
           {
            "colorbar": {
             "outlinewidth": 0,
             "ticks": ""
            },
            "colorscale": [
             [
              0,
              "#0d0887"
             ],
             [
              0.1111111111111111,
              "#46039f"
             ],
             [
              0.2222222222222222,
              "#7201a8"
             ],
             [
              0.3333333333333333,
              "#9c179e"
             ],
             [
              0.4444444444444444,
              "#bd3786"
             ],
             [
              0.5555555555555556,
              "#d8576b"
             ],
             [
              0.6666666666666666,
              "#ed7953"
             ],
             [
              0.7777777777777778,
              "#fb9f3a"
             ],
             [
              0.8888888888888888,
              "#fdca26"
             ],
             [
              1,
              "#f0f921"
             ]
            ],
            "type": "contour"
           }
          ],
          "contourcarpet": [
           {
            "colorbar": {
             "outlinewidth": 0,
             "ticks": ""
            },
            "type": "contourcarpet"
           }
          ],
          "heatmap": [
           {
            "colorbar": {
             "outlinewidth": 0,
             "ticks": ""
            },
            "colorscale": [
             [
              0,
              "#0d0887"
             ],
             [
              0.1111111111111111,
              "#46039f"
             ],
             [
              0.2222222222222222,
              "#7201a8"
             ],
             [
              0.3333333333333333,
              "#9c179e"
             ],
             [
              0.4444444444444444,
              "#bd3786"
             ],
             [
              0.5555555555555556,
              "#d8576b"
             ],
             [
              0.6666666666666666,
              "#ed7953"
             ],
             [
              0.7777777777777778,
              "#fb9f3a"
             ],
             [
              0.8888888888888888,
              "#fdca26"
             ],
             [
              1,
              "#f0f921"
             ]
            ],
            "type": "heatmap"
           }
          ],
          "heatmapgl": [
           {
            "colorbar": {
             "outlinewidth": 0,
             "ticks": ""
            },
            "colorscale": [
             [
              0,
              "#0d0887"
             ],
             [
              0.1111111111111111,
              "#46039f"
             ],
             [
              0.2222222222222222,
              "#7201a8"
             ],
             [
              0.3333333333333333,
              "#9c179e"
             ],
             [
              0.4444444444444444,
              "#bd3786"
             ],
             [
              0.5555555555555556,
              "#d8576b"
             ],
             [
              0.6666666666666666,
              "#ed7953"
             ],
             [
              0.7777777777777778,
              "#fb9f3a"
             ],
             [
              0.8888888888888888,
              "#fdca26"
             ],
             [
              1,
              "#f0f921"
             ]
            ],
            "type": "heatmapgl"
           }
          ],
          "histogram": [
           {
            "marker": {
             "colorbar": {
              "outlinewidth": 0,
              "ticks": ""
             }
            },
            "type": "histogram"
           }
          ],
          "histogram2d": [
           {
            "colorbar": {
             "outlinewidth": 0,
             "ticks": ""
            },
            "colorscale": [
             [
              0,
              "#0d0887"
             ],
             [
              0.1111111111111111,
              "#46039f"
             ],
             [
              0.2222222222222222,
              "#7201a8"
             ],
             [
              0.3333333333333333,
              "#9c179e"
             ],
             [
              0.4444444444444444,
              "#bd3786"
             ],
             [
              0.5555555555555556,
              "#d8576b"
             ],
             [
              0.6666666666666666,
              "#ed7953"
             ],
             [
              0.7777777777777778,
              "#fb9f3a"
             ],
             [
              0.8888888888888888,
              "#fdca26"
             ],
             [
              1,
              "#f0f921"
             ]
            ],
            "type": "histogram2d"
           }
          ],
          "histogram2dcontour": [
           {
            "colorbar": {
             "outlinewidth": 0,
             "ticks": ""
            },
            "colorscale": [
             [
              0,
              "#0d0887"
             ],
             [
              0.1111111111111111,
              "#46039f"
             ],
             [
              0.2222222222222222,
              "#7201a8"
             ],
             [
              0.3333333333333333,
              "#9c179e"
             ],
             [
              0.4444444444444444,
              "#bd3786"
             ],
             [
              0.5555555555555556,
              "#d8576b"
             ],
             [
              0.6666666666666666,
              "#ed7953"
             ],
             [
              0.7777777777777778,
              "#fb9f3a"
             ],
             [
              0.8888888888888888,
              "#fdca26"
             ],
             [
              1,
              "#f0f921"
             ]
            ],
            "type": "histogram2dcontour"
           }
          ],
          "mesh3d": [
           {
            "colorbar": {
             "outlinewidth": 0,
             "ticks": ""
            },
            "type": "mesh3d"
           }
          ],
          "parcoords": [
           {
            "line": {
             "colorbar": {
              "outlinewidth": 0,
              "ticks": ""
             }
            },
            "type": "parcoords"
           }
          ],
          "pie": [
           {
            "automargin": true,
            "type": "pie"
           }
          ],
          "scatter": [
           {
            "marker": {
             "colorbar": {
              "outlinewidth": 0,
              "ticks": ""
             }
            },
            "type": "scatter"
           }
          ],
          "scatter3d": [
           {
            "line": {
             "colorbar": {
              "outlinewidth": 0,
              "ticks": ""
             }
            },
            "marker": {
             "colorbar": {
              "outlinewidth": 0,
              "ticks": ""
             }
            },
            "type": "scatter3d"
           }
          ],
          "scattercarpet": [
           {
            "marker": {
             "colorbar": {
              "outlinewidth": 0,
              "ticks": ""
             }
            },
            "type": "scattercarpet"
           }
          ],
          "scattergeo": [
           {
            "marker": {
             "colorbar": {
              "outlinewidth": 0,
              "ticks": ""
             }
            },
            "type": "scattergeo"
           }
          ],
          "scattergl": [
           {
            "marker": {
             "colorbar": {
              "outlinewidth": 0,
              "ticks": ""
             }
            },
            "type": "scattergl"
           }
          ],
          "scattermapbox": [
           {
            "marker": {
             "colorbar": {
              "outlinewidth": 0,
              "ticks": ""
             }
            },
            "type": "scattermapbox"
           }
          ],
          "scatterpolar": [
           {
            "marker": {
             "colorbar": {
              "outlinewidth": 0,
              "ticks": ""
             }
            },
            "type": "scatterpolar"
           }
          ],
          "scatterpolargl": [
           {
            "marker": {
             "colorbar": {
              "outlinewidth": 0,
              "ticks": ""
             }
            },
            "type": "scatterpolargl"
           }
          ],
          "scatterternary": [
           {
            "marker": {
             "colorbar": {
              "outlinewidth": 0,
              "ticks": ""
             }
            },
            "type": "scatterternary"
           }
          ],
          "surface": [
           {
            "colorbar": {
             "outlinewidth": 0,
             "ticks": ""
            },
            "colorscale": [
             [
              0,
              "#0d0887"
             ],
             [
              0.1111111111111111,
              "#46039f"
             ],
             [
              0.2222222222222222,
              "#7201a8"
             ],
             [
              0.3333333333333333,
              "#9c179e"
             ],
             [
              0.4444444444444444,
              "#bd3786"
             ],
             [
              0.5555555555555556,
              "#d8576b"
             ],
             [
              0.6666666666666666,
              "#ed7953"
             ],
             [
              0.7777777777777778,
              "#fb9f3a"
             ],
             [
              0.8888888888888888,
              "#fdca26"
             ],
             [
              1,
              "#f0f921"
             ]
            ],
            "type": "surface"
           }
          ],
          "table": [
           {
            "cells": {
             "fill": {
              "color": "#EBF0F8"
             },
             "line": {
              "color": "white"
             }
            },
            "header": {
             "fill": {
              "color": "#C8D4E3"
             },
             "line": {
              "color": "white"
             }
            },
            "type": "table"
           }
          ]
         },
         "layout": {
          "annotationdefaults": {
           "arrowcolor": "#2a3f5f",
           "arrowhead": 0,
           "arrowwidth": 1
          },
          "coloraxis": {
           "colorbar": {
            "outlinewidth": 0,
            "ticks": ""
           }
          },
          "colorscale": {
           "diverging": [
            [
             0,
             "#8e0152"
            ],
            [
             0.1,
             "#c51b7d"
            ],
            [
             0.2,
             "#de77ae"
            ],
            [
             0.3,
             "#f1b6da"
            ],
            [
             0.4,
             "#fde0ef"
            ],
            [
             0.5,
             "#f7f7f7"
            ],
            [
             0.6,
             "#e6f5d0"
            ],
            [
             0.7,
             "#b8e186"
            ],
            [
             0.8,
             "#7fbc41"
            ],
            [
             0.9,
             "#4d9221"
            ],
            [
             1,
             "#276419"
            ]
           ],
           "sequential": [
            [
             0,
             "#0d0887"
            ],
            [
             0.1111111111111111,
             "#46039f"
            ],
            [
             0.2222222222222222,
             "#7201a8"
            ],
            [
             0.3333333333333333,
             "#9c179e"
            ],
            [
             0.4444444444444444,
             "#bd3786"
            ],
            [
             0.5555555555555556,
             "#d8576b"
            ],
            [
             0.6666666666666666,
             "#ed7953"
            ],
            [
             0.7777777777777778,
             "#fb9f3a"
            ],
            [
             0.8888888888888888,
             "#fdca26"
            ],
            [
             1,
             "#f0f921"
            ]
           ],
           "sequentialminus": [
            [
             0,
             "#0d0887"
            ],
            [
             0.1111111111111111,
             "#46039f"
            ],
            [
             0.2222222222222222,
             "#7201a8"
            ],
            [
             0.3333333333333333,
             "#9c179e"
            ],
            [
             0.4444444444444444,
             "#bd3786"
            ],
            [
             0.5555555555555556,
             "#d8576b"
            ],
            [
             0.6666666666666666,
             "#ed7953"
            ],
            [
             0.7777777777777778,
             "#fb9f3a"
            ],
            [
             0.8888888888888888,
             "#fdca26"
            ],
            [
             1,
             "#f0f921"
            ]
           ]
          },
          "colorway": [
           "#636efa",
           "#EF553B",
           "#00cc96",
           "#ab63fa",
           "#FFA15A",
           "#19d3f3",
           "#FF6692",
           "#B6E880",
           "#FF97FF",
           "#FECB52"
          ],
          "font": {
           "color": "#2a3f5f"
          },
          "geo": {
           "bgcolor": "white",
           "lakecolor": "white",
           "landcolor": "#E5ECF6",
           "showlakes": true,
           "showland": true,
           "subunitcolor": "white"
          },
          "hoverlabel": {
           "align": "left"
          },
          "hovermode": "closest",
          "mapbox": {
           "style": "light"
          },
          "paper_bgcolor": "white",
          "plot_bgcolor": "#E5ECF6",
          "polar": {
           "angularaxis": {
            "gridcolor": "white",
            "linecolor": "white",
            "ticks": ""
           },
           "bgcolor": "#E5ECF6",
           "radialaxis": {
            "gridcolor": "white",
            "linecolor": "white",
            "ticks": ""
           }
          },
          "scene": {
           "xaxis": {
            "backgroundcolor": "#E5ECF6",
            "gridcolor": "white",
            "gridwidth": 2,
            "linecolor": "white",
            "showbackground": true,
            "ticks": "",
            "zerolinecolor": "white"
           },
           "yaxis": {
            "backgroundcolor": "#E5ECF6",
            "gridcolor": "white",
            "gridwidth": 2,
            "linecolor": "white",
            "showbackground": true,
            "ticks": "",
            "zerolinecolor": "white"
           },
           "zaxis": {
            "backgroundcolor": "#E5ECF6",
            "gridcolor": "white",
            "gridwidth": 2,
            "linecolor": "white",
            "showbackground": true,
            "ticks": "",
            "zerolinecolor": "white"
           }
          },
          "shapedefaults": {
           "line": {
            "color": "#2a3f5f"
           }
          },
          "ternary": {
           "aaxis": {
            "gridcolor": "white",
            "linecolor": "white",
            "ticks": ""
           },
           "baxis": {
            "gridcolor": "white",
            "linecolor": "white",
            "ticks": ""
           },
           "bgcolor": "#E5ECF6",
           "caxis": {
            "gridcolor": "white",
            "linecolor": "white",
            "ticks": ""
           }
          },
          "title": {
           "x": 0.05
          },
          "xaxis": {
           "automargin": true,
           "gridcolor": "white",
           "linecolor": "white",
           "ticks": "",
           "title": {
            "standoff": 15
           },
           "zerolinecolor": "white",
           "zerolinewidth": 2
          },
          "yaxis": {
           "automargin": true,
           "gridcolor": "white",
           "linecolor": "white",
           "ticks": "",
           "title": {
            "standoff": 15
           },
           "zerolinecolor": "white",
           "zerolinewidth": 2
          }
         }
        }
       }
      },
      "text/html": [
       "<div>\n",
       "        \n",
       "        \n",
       "            <div id=\"4c70eea1-60ea-40ea-afcf-aab3ddafff01\" class=\"plotly-graph-div\" style=\"height:525px; width:100%;\"></div>\n",
       "            <script type=\"text/javascript\">\n",
       "                require([\"plotly\"], function(Plotly) {\n",
       "                    window.PLOTLYENV=window.PLOTLYENV || {};\n",
       "                    \n",
       "                if (document.getElementById(\"4c70eea1-60ea-40ea-afcf-aab3ddafff01\")) {\n",
       "                    Plotly.newPlot(\n",
       "                        '4c70eea1-60ea-40ea-afcf-aab3ddafff01',\n",
       "                        [{\"dimensions\": [{\"axis\": {\"matches\": true}, \"label\": \"AGE\", \"values\": [19.0, 20.0, 21.0, 22.0, 23.0, 24.0, 25.0, 26.0, 27.0, 28.0, 29.0, 30.0, 31.0, 32.0, 33.0, 34.0, 35.0, 36.0, 37.0, 38.0, 39.0, 40.0]}, {\"axis\": {\"matches\": true}, \"label\": \"PTS\", \"values\": [14.39242276929813, 14.66868913030396, 15.245704994215075, 15.33197358270187, 14.964659451652524, 15.131671225535149, 15.639572533424511, 15.572971363459414, 15.417006206589637, 15.388992639497339, 15.349023493954865, 14.76533429264607, 14.319807470123434, 14.087466758017749, 14.56336372377351, 13.818001678200044, 13.885384027704067, 13.217930152343229, 13.862387391664774, 13.390503860993475, 11.690852667209574, 11.925521998434451]}, {\"axis\": {\"matches\": true}, \"label\": \"3P%\", \"values\": [0.2809047619047619, 0.29435964912280704, 0.26766091954022986, 0.28571551724137945, 0.28800332225913616, 0.28605572755417946, 0.29825328947368396, 0.2901355932203388, 0.2855833333333331, 0.30057633587786253, 0.2983640350877192, 0.29185499999999986, 0.3106941176470588, 0.29049635036496335, 0.2924807692307692, 0.3075333333333332, 0.30362264150943397, 0.30443589743589744, 0.3081666666666667, 0.3559411764705882, 0.28622222222222216, 0.3288]}, {\"axis\": {\"matches\": true}, \"label\": \"MP\", \"values\": [36.0, 36.0, 36.0, 36.0, 36.0, 36.0, 36.0, 36.0, 36.0, 36.0, 36.0, 36.0, 36.0, 36.0, 36.0, 36.0, 36.0, 36.0, 36.0, 36.0, 36.0, 36.0]}], \"hovertemplate\": \"%{xaxis.title.text}=%{x}<br>%{yaxis.title.text}=%{y}<extra></extra>\", \"legendgroup\": \"\", \"marker\": {\"color\": \"#636efa\", \"symbol\": \"circle\"}, \"name\": \"\", \"showlegend\": false, \"type\": \"splom\"}],\n",
       "                        {\"dragmode\": \"select\", \"legend\": {\"tracegroupgap\": 0}, \"margin\": {\"t\": 60}, \"template\": {\"data\": {\"bar\": [{\"error_x\": {\"color\": \"#2a3f5f\"}, \"error_y\": {\"color\": \"#2a3f5f\"}, \"marker\": {\"line\": {\"color\": \"#E5ECF6\", \"width\": 0.5}}, \"type\": \"bar\"}], \"barpolar\": [{\"marker\": {\"line\": {\"color\": \"#E5ECF6\", \"width\": 0.5}}, \"type\": \"barpolar\"}], \"carpet\": [{\"aaxis\": {\"endlinecolor\": \"#2a3f5f\", \"gridcolor\": \"white\", \"linecolor\": \"white\", \"minorgridcolor\": \"white\", \"startlinecolor\": \"#2a3f5f\"}, \"baxis\": {\"endlinecolor\": \"#2a3f5f\", \"gridcolor\": \"white\", \"linecolor\": \"white\", \"minorgridcolor\": \"white\", \"startlinecolor\": \"#2a3f5f\"}, \"type\": \"carpet\"}], \"choropleth\": [{\"colorbar\": {\"outlinewidth\": 0, \"ticks\": \"\"}, \"type\": \"choropleth\"}], \"contour\": [{\"colorbar\": {\"outlinewidth\": 0, \"ticks\": \"\"}, \"colorscale\": [[0.0, \"#0d0887\"], [0.1111111111111111, \"#46039f\"], [0.2222222222222222, \"#7201a8\"], [0.3333333333333333, \"#9c179e\"], [0.4444444444444444, \"#bd3786\"], [0.5555555555555556, \"#d8576b\"], [0.6666666666666666, \"#ed7953\"], [0.7777777777777778, \"#fb9f3a\"], [0.8888888888888888, \"#fdca26\"], [1.0, \"#f0f921\"]], \"type\": \"contour\"}], \"contourcarpet\": [{\"colorbar\": {\"outlinewidth\": 0, \"ticks\": \"\"}, \"type\": \"contourcarpet\"}], \"heatmap\": [{\"colorbar\": {\"outlinewidth\": 0, \"ticks\": \"\"}, \"colorscale\": [[0.0, \"#0d0887\"], [0.1111111111111111, \"#46039f\"], [0.2222222222222222, \"#7201a8\"], [0.3333333333333333, \"#9c179e\"], [0.4444444444444444, \"#bd3786\"], [0.5555555555555556, \"#d8576b\"], [0.6666666666666666, \"#ed7953\"], [0.7777777777777778, \"#fb9f3a\"], [0.8888888888888888, \"#fdca26\"], [1.0, \"#f0f921\"]], \"type\": \"heatmap\"}], \"heatmapgl\": [{\"colorbar\": {\"outlinewidth\": 0, \"ticks\": \"\"}, \"colorscale\": [[0.0, \"#0d0887\"], [0.1111111111111111, \"#46039f\"], [0.2222222222222222, \"#7201a8\"], [0.3333333333333333, \"#9c179e\"], [0.4444444444444444, \"#bd3786\"], [0.5555555555555556, \"#d8576b\"], [0.6666666666666666, \"#ed7953\"], [0.7777777777777778, \"#fb9f3a\"], [0.8888888888888888, \"#fdca26\"], [1.0, \"#f0f921\"]], \"type\": \"heatmapgl\"}], \"histogram\": [{\"marker\": {\"colorbar\": {\"outlinewidth\": 0, \"ticks\": \"\"}}, \"type\": \"histogram\"}], \"histogram2d\": [{\"colorbar\": {\"outlinewidth\": 0, \"ticks\": \"\"}, \"colorscale\": [[0.0, \"#0d0887\"], [0.1111111111111111, \"#46039f\"], [0.2222222222222222, \"#7201a8\"], [0.3333333333333333, \"#9c179e\"], [0.4444444444444444, \"#bd3786\"], [0.5555555555555556, \"#d8576b\"], [0.6666666666666666, \"#ed7953\"], [0.7777777777777778, \"#fb9f3a\"], [0.8888888888888888, \"#fdca26\"], [1.0, \"#f0f921\"]], \"type\": \"histogram2d\"}], \"histogram2dcontour\": [{\"colorbar\": {\"outlinewidth\": 0, \"ticks\": \"\"}, \"colorscale\": [[0.0, \"#0d0887\"], [0.1111111111111111, \"#46039f\"], [0.2222222222222222, \"#7201a8\"], [0.3333333333333333, \"#9c179e\"], [0.4444444444444444, \"#bd3786\"], [0.5555555555555556, \"#d8576b\"], [0.6666666666666666, \"#ed7953\"], [0.7777777777777778, \"#fb9f3a\"], [0.8888888888888888, \"#fdca26\"], [1.0, \"#f0f921\"]], \"type\": \"histogram2dcontour\"}], \"mesh3d\": [{\"colorbar\": {\"outlinewidth\": 0, \"ticks\": \"\"}, \"type\": \"mesh3d\"}], \"parcoords\": [{\"line\": {\"colorbar\": {\"outlinewidth\": 0, \"ticks\": \"\"}}, \"type\": \"parcoords\"}], \"pie\": [{\"automargin\": true, \"type\": \"pie\"}], \"scatter\": [{\"marker\": {\"colorbar\": {\"outlinewidth\": 0, \"ticks\": \"\"}}, \"type\": \"scatter\"}], \"scatter3d\": [{\"line\": {\"colorbar\": {\"outlinewidth\": 0, \"ticks\": \"\"}}, \"marker\": {\"colorbar\": {\"outlinewidth\": 0, \"ticks\": \"\"}}, \"type\": \"scatter3d\"}], \"scattercarpet\": [{\"marker\": {\"colorbar\": {\"outlinewidth\": 0, \"ticks\": \"\"}}, \"type\": \"scattercarpet\"}], \"scattergeo\": [{\"marker\": {\"colorbar\": {\"outlinewidth\": 0, \"ticks\": \"\"}}, \"type\": \"scattergeo\"}], \"scattergl\": [{\"marker\": {\"colorbar\": {\"outlinewidth\": 0, \"ticks\": \"\"}}, \"type\": \"scattergl\"}], \"scattermapbox\": [{\"marker\": {\"colorbar\": {\"outlinewidth\": 0, \"ticks\": \"\"}}, \"type\": \"scattermapbox\"}], \"scatterpolar\": [{\"marker\": {\"colorbar\": {\"outlinewidth\": 0, \"ticks\": \"\"}}, \"type\": \"scatterpolar\"}], \"scatterpolargl\": [{\"marker\": {\"colorbar\": {\"outlinewidth\": 0, \"ticks\": \"\"}}, \"type\": \"scatterpolargl\"}], \"scatterternary\": [{\"marker\": {\"colorbar\": {\"outlinewidth\": 0, \"ticks\": \"\"}}, \"type\": \"scatterternary\"}], \"surface\": [{\"colorbar\": {\"outlinewidth\": 0, \"ticks\": \"\"}, \"colorscale\": [[0.0, \"#0d0887\"], [0.1111111111111111, \"#46039f\"], [0.2222222222222222, \"#7201a8\"], [0.3333333333333333, \"#9c179e\"], [0.4444444444444444, \"#bd3786\"], [0.5555555555555556, \"#d8576b\"], [0.6666666666666666, \"#ed7953\"], [0.7777777777777778, \"#fb9f3a\"], [0.8888888888888888, \"#fdca26\"], [1.0, \"#f0f921\"]], \"type\": \"surface\"}], \"table\": [{\"cells\": {\"fill\": {\"color\": \"#EBF0F8\"}, \"line\": {\"color\": \"white\"}}, \"header\": {\"fill\": {\"color\": \"#C8D4E3\"}, \"line\": {\"color\": \"white\"}}, \"type\": \"table\"}]}, \"layout\": {\"annotationdefaults\": {\"arrowcolor\": \"#2a3f5f\", \"arrowhead\": 0, \"arrowwidth\": 1}, \"coloraxis\": {\"colorbar\": {\"outlinewidth\": 0, \"ticks\": \"\"}}, \"colorscale\": {\"diverging\": [[0, \"#8e0152\"], [0.1, \"#c51b7d\"], [0.2, \"#de77ae\"], [0.3, \"#f1b6da\"], [0.4, \"#fde0ef\"], [0.5, \"#f7f7f7\"], [0.6, \"#e6f5d0\"], [0.7, \"#b8e186\"], [0.8, \"#7fbc41\"], [0.9, \"#4d9221\"], [1, \"#276419\"]], \"sequential\": [[0.0, \"#0d0887\"], [0.1111111111111111, \"#46039f\"], [0.2222222222222222, \"#7201a8\"], [0.3333333333333333, \"#9c179e\"], [0.4444444444444444, \"#bd3786\"], [0.5555555555555556, \"#d8576b\"], [0.6666666666666666, \"#ed7953\"], [0.7777777777777778, \"#fb9f3a\"], [0.8888888888888888, \"#fdca26\"], [1.0, \"#f0f921\"]], \"sequentialminus\": [[0.0, \"#0d0887\"], [0.1111111111111111, \"#46039f\"], [0.2222222222222222, \"#7201a8\"], [0.3333333333333333, \"#9c179e\"], [0.4444444444444444, \"#bd3786\"], [0.5555555555555556, \"#d8576b\"], [0.6666666666666666, \"#ed7953\"], [0.7777777777777778, \"#fb9f3a\"], [0.8888888888888888, \"#fdca26\"], [1.0, \"#f0f921\"]]}, \"colorway\": [\"#636efa\", \"#EF553B\", \"#00cc96\", \"#ab63fa\", \"#FFA15A\", \"#19d3f3\", \"#FF6692\", \"#B6E880\", \"#FF97FF\", \"#FECB52\"], \"font\": {\"color\": \"#2a3f5f\"}, \"geo\": {\"bgcolor\": \"white\", \"lakecolor\": \"white\", \"landcolor\": \"#E5ECF6\", \"showlakes\": true, \"showland\": true, \"subunitcolor\": \"white\"}, \"hoverlabel\": {\"align\": \"left\"}, \"hovermode\": \"closest\", \"mapbox\": {\"style\": \"light\"}, \"paper_bgcolor\": \"white\", \"plot_bgcolor\": \"#E5ECF6\", \"polar\": {\"angularaxis\": {\"gridcolor\": \"white\", \"linecolor\": \"white\", \"ticks\": \"\"}, \"bgcolor\": \"#E5ECF6\", \"radialaxis\": {\"gridcolor\": \"white\", \"linecolor\": \"white\", \"ticks\": \"\"}}, \"scene\": {\"xaxis\": {\"backgroundcolor\": \"#E5ECF6\", \"gridcolor\": \"white\", \"gridwidth\": 2, \"linecolor\": \"white\", \"showbackground\": true, \"ticks\": \"\", \"zerolinecolor\": \"white\"}, \"yaxis\": {\"backgroundcolor\": \"#E5ECF6\", \"gridcolor\": \"white\", \"gridwidth\": 2, \"linecolor\": \"white\", \"showbackground\": true, \"ticks\": \"\", \"zerolinecolor\": \"white\"}, \"zaxis\": {\"backgroundcolor\": \"#E5ECF6\", \"gridcolor\": \"white\", \"gridwidth\": 2, \"linecolor\": \"white\", \"showbackground\": true, \"ticks\": \"\", \"zerolinecolor\": \"white\"}}, \"shapedefaults\": {\"line\": {\"color\": \"#2a3f5f\"}}, \"ternary\": {\"aaxis\": {\"gridcolor\": \"white\", \"linecolor\": \"white\", \"ticks\": \"\"}, \"baxis\": {\"gridcolor\": \"white\", \"linecolor\": \"white\", \"ticks\": \"\"}, \"bgcolor\": \"#E5ECF6\", \"caxis\": {\"gridcolor\": \"white\", \"linecolor\": \"white\", \"ticks\": \"\"}}, \"title\": {\"x\": 0.05}, \"xaxis\": {\"automargin\": true, \"gridcolor\": \"white\", \"linecolor\": \"white\", \"ticks\": \"\", \"title\": {\"standoff\": 15}, \"zerolinecolor\": \"white\", \"zerolinewidth\": 2}, \"yaxis\": {\"automargin\": true, \"gridcolor\": \"white\", \"linecolor\": \"white\", \"ticks\": \"\", \"title\": {\"standoff\": 15}, \"zerolinecolor\": \"white\", \"zerolinewidth\": 2}}}},\n",
       "                        {\"responsive\": true}\n",
       "                    ).then(function(){\n",
       "                            \n",
       "var gd = document.getElementById('4c70eea1-60ea-40ea-afcf-aab3ddafff01');\n",
       "var x = new MutationObserver(function (mutations, observer) {{\n",
       "        var display = window.getComputedStyle(gd).display;\n",
       "        if (!display || display === 'none') {{\n",
       "            console.log([gd, 'removed!']);\n",
       "            Plotly.purge(gd);\n",
       "            observer.disconnect();\n",
       "        }}\n",
       "}});\n",
       "\n",
       "// Listen for the removal of the full notebook cells\n",
       "var notebookContainer = gd.closest('#notebook-container');\n",
       "if (notebookContainer) {{\n",
       "    x.observe(notebookContainer, {childList: true});\n",
       "}}\n",
       "\n",
       "// Listen for the clearing of the current output cell\n",
       "var outputEl = gd.closest('.output');\n",
       "if (outputEl) {{\n",
       "    x.observe(outputEl, {childList: true});\n",
       "}}\n",
       "\n",
       "                        })\n",
       "                };\n",
       "                });\n",
       "            </script>\n",
       "        </div>"
      ]
     },
     "metadata": {},
     "output_type": "display_data"
    }
   ],
   "source": [
    "scatter_df = df_by_age[['AGE','PTS','3P%','MP']]\n",
    "\n",
    "fig = px.scatter_matrix(scatter_df)\n",
    "fig.show()"
   ]
  },
  {
   "cell_type": "code",
   "execution_count": null,
   "metadata": {},
   "outputs": [],
   "source": []
  }
 ],
 "metadata": {
  "kernelspec": {
   "display_name": "Python 3",
   "language": "python",
   "name": "python3"
  },
  "language_info": {
   "codemirror_mode": {
    "name": "ipython",
    "version": 3
   },
   "file_extension": ".py",
   "mimetype": "text/x-python",
   "name": "python",
   "nbconvert_exporter": "python",
   "pygments_lexer": "ipython3",
   "version": "3.7.4"
  }
 },
 "nbformat": 4,
 "nbformat_minor": 2
}
